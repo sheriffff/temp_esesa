{
 "cells": [
  {
   "cell_type": "markdown",
   "id": "e69f6409-26dc-4bf7-9d32-a5bb9f816643",
   "metadata": {},
   "source": [
    "# Feature engineering"
   ]
  },
  {
   "cell_type": "markdown",
   "id": "f60053a2",
   "metadata": {},
   "source": [
    "Es el proceso de utilizar el conocimiento del dominio para transformar algunas variables y enriquecer el dataset\n",
    "\n",
    "Estas nuevas variables suelen mejorar el rendimiento de los algoritmos de machine learning"
   ]
  },
  {
   "cell_type": "markdown",
   "id": "d6ff9efa-1267-4297-bdcb-54b5a25d752f",
   "metadata": {},
   "source": [
    "Es aquí donde la creatividad entra en juego"
   ]
  },
  {
   "cell_type": "markdown",
   "id": "ed97f4fb-a6d1-4474-846a-43e0cce5d81b",
   "metadata": {},
   "source": [
    "Aquí se presentan algunos métodos, pero\n",
    "\n",
    "**no es una lista exhaustiva**\n",
    "\n",
    "Las posibilidades son infinitas"
   ]
  },
  {
   "cell_type": "code",
   "execution_count": null,
   "id": "092c62bd",
   "metadata": {},
   "outputs": [],
   "source": [
    "import pandas as pd"
   ]
  },
  {
   "cell_type": "code",
   "execution_count": null,
   "id": "104edec8",
   "metadata": {},
   "outputs": [],
   "source": [
    "df = pd.read_csv(\"./datasets/titanic.csv\")\n",
    "df.head()"
   ]
  },
  {
   "cell_type": "markdown",
   "id": "56d20102-48c0-4c1d-8e46-dba3ba63d8b9",
   "metadata": {},
   "source": [
    "## Combinación/transformación de columnas"
   ]
  },
  {
   "cell_type": "markdown",
   "id": "cc1f2d42-94ce-4158-816a-87aa79af625c",
   "metadata": {},
   "source": [
    "Sumas, divisiones, productos... de variables"
   ]
  },
  {
   "cell_type": "code",
   "execution_count": null,
   "id": "00492fa8-316b-4c65-9a4b-6748c0bc11ad",
   "metadata": {},
   "outputs": [],
   "source": [
    "df[\"n_familiares\"] = "
   ]
  },
  {
   "cell_type": "code",
   "execution_count": null,
   "id": "82099cb0-5158-4e44-b704-46dd53764c24",
   "metadata": {},
   "outputs": [],
   "source": [
    "df[\"is_alone\"] = "
   ]
  },
  {
   "cell_type": "code",
   "execution_count": null,
   "id": "4e90eeb6-9a23-48ee-bc4b-82c085c7c037",
   "metadata": {},
   "outputs": [],
   "source": [
    "df[\"is_child\"] = "
   ]
  },
  {
   "cell_type": "markdown",
   "id": "9df71670-3878-47df-918c-0f61a8d57138",
   "metadata": {},
   "source": [
    "No hay ideas absurdas. Si algo no funciona, los modelos tipo árbol las desechan"
   ]
  },
  {
   "cell_type": "code",
   "execution_count": null,
   "id": "a804f344-734e-494e-8f04-87f4b26d10a6",
   "metadata": {},
   "outputs": [],
   "source": [
    "df[\"years_per_class\"] = "
   ]
  },
  {
   "cell_type": "markdown",
   "id": "02fbd03b-97a5-423c-bc14-0abceddefe6d",
   "metadata": {},
   "source": [
    "## Tratamiento de strings"
   ]
  },
  {
   "cell_type": "markdown",
   "id": "d9b50bea-ed1c-4d9b-b200-edbcc33375e0",
   "metadata": {},
   "source": [
    "Extraer la primera letra de un string"
   ]
  },
  {
   "cell_type": "code",
   "execution_count": null,
   "id": "8cdb5372-8fc2-4ac8-8d04-3f42ce578e44",
   "metadata": {},
   "outputs": [],
   "source": [
    "df[\"cabin_letter\"] = "
   ]
  },
  {
   "cell_type": "code",
   "execution_count": null,
   "id": "c52bcdb3-41de-4bf7-a00c-47c9e00fc208",
   "metadata": {},
   "outputs": [],
   "source": [
    "df.cabin_letter.value_counts()"
   ]
  },
  {
   "cell_type": "markdown",
   "id": "1a3208d3-3df1-4fdf-922a-c8d10f79177f",
   "metadata": {},
   "source": [
    "Extraer el título del nombre"
   ]
  },
  {
   "cell_type": "code",
   "execution_count": null,
   "id": "e23360fb-98dc-4de3-a29c-ab7e8eff7d6c",
   "metadata": {},
   "outputs": [],
   "source": [
    "df[\"title\"] = "
   ]
  },
  {
   "cell_type": "code",
   "execution_count": null,
   "id": "10521b1c-b396-4e48-b5a5-70f662eb1c48",
   "metadata": {},
   "outputs": [],
   "source": [
    "df.title.value_counts()"
   ]
  },
  {
   "cell_type": "markdown",
   "id": "271eef55-4ba2-4a12-9dc8-5eda2fa299f1",
   "metadata": {},
   "source": [
    "Repito: no hay ideas absurdas. Si algo no funciona, los modelos tipo árbol las desechan"
   ]
  },
  {
   "cell_type": "markdown",
   "id": "52ce3032-b811-4a9f-8bc2-97caeea12f1c",
   "metadata": {},
   "source": [
    "Longitud del nombre: puede indicar status socioeconómico"
   ]
  },
  {
   "cell_type": "code",
   "execution_count": null,
   "id": "cc20fee5-dd57-47a9-8ed8-f5f11c923947",
   "metadata": {},
   "outputs": [],
   "source": [
    "df[\"name_length\"] = "
   ]
  },
  {
   "cell_type": "markdown",
   "id": "cbdb0f3e-40aa-4d97-961c-6378bd694c0e",
   "metadata": {},
   "source": [
    "## Relleno de valores nulos"
   ]
  },
  {
   "cell_type": "markdown",
   "id": "148ff1ee-c925-49c9-82ce-f6055d1e665d",
   "metadata": {},
   "source": [
    "Los modelos de ML no se _comen_ valores nulos"
   ]
  },
  {
   "cell_type": "markdown",
   "id": "68d11942-87f5-4376-bb9a-34b98a0be53c",
   "metadata": {},
   "source": [
    "Hay muchas opciones para tratarlos, a priori no sabemos cuál es mejor"
   ]
  },
  {
   "cell_type": "markdown",
   "id": "8b6d81cb-7262-47d5-a256-3c43eba3ba55",
   "metadata": {},
   "source": [
    "Hemos de conocer diferentes estrategias de imputación"
   ]
  },
  {
   "cell_type": "markdown",
   "id": "2a077efa-b8ec-4d42-83d2-8e2e6b40f864",
   "metadata": {},
   "source": [
    "El tratamiento de cada columna suele ser diferente"
   ]
  },
  {
   "cell_type": "markdown",
   "id": "8041486b-3c4e-42f2-95c6-c29805619e84",
   "metadata": {},
   "source": [
    "Para montar un modelo sencillo, podemos simplemente dropear las columnas con nulos"
   ]
  },
  {
   "cell_type": "markdown",
   "id": "d5dcfc76-37a8-4753-8688-04c348cdec6d",
   "metadata": {},
   "source": [
    "Si bien al entrenar un modelo, podríamos dropear las filas con nulos,  \n",
    "**a la hora de predecir habrá valores nulos que deberemos sí o sí tratar**"
   ]
  },
  {
   "cell_type": "code",
   "execution_count": null,
   "id": "2fd4cd43-ba6c-4277-86dc-c0a05c8f071d",
   "metadata": {},
   "outputs": [],
   "source": [
    "df.isna().sum()"
   ]
  },
  {
   "cell_type": "markdown",
   "id": "0be298fb-7907-4cf5-b561-bdfd2c133a2d",
   "metadata": {},
   "source": [
    "### variables numéricas"
   ]
  },
  {
   "cell_type": "markdown",
   "id": "c8ba1e53-fdb8-4c2d-a55a-2eab95015bc0",
   "metadata": {},
   "source": [
    "#### con la media"
   ]
  },
  {
   "cell_type": "code",
   "execution_count": null,
   "id": "98051e68-076c-49fd-943f-7bc8c6272cd2",
   "metadata": {},
   "outputs": [],
   "source": [
    "mean_age = \n",
    "mean_age"
   ]
  },
  {
   "cell_type": "code",
   "execution_count": null,
   "id": "7a7ab405-f0fb-4a97-a08b-f8e83203c76f",
   "metadata": {},
   "outputs": [],
   "source": [
    "df.Age.fillna(mean_age)\n",
    "# realmente haríamos esto de abajo, para rellenar la columna Age\n",
    "# df.Age = df.Age.fillna(mean_age)"
   ]
  },
  {
   "cell_type": "markdown",
   "id": "b25adb15-822f-4941-ac6c-74fcbd3b0a3f",
   "metadata": {},
   "source": [
    "#### con la media por categoría"
   ]
  },
  {
   "cell_type": "markdown",
   "id": "d8cf8d0a-d5e9-49fb-b05c-123e85bc6dff",
   "metadata": {},
   "source": [
    "Por ejemplo, cuál es la media de edad por clase? A cada edad nula, le asignaré la edad media de su clase"
   ]
  },
  {
   "cell_type": "code",
   "execution_count": null,
   "id": "de9f171b-277c-4de0-aed9-ca38caea304e",
   "metadata": {},
   "outputs": [],
   "source": [
    "pclass_to_mean_age = \n",
    "pclass_to_mean_age"
   ]
  },
  {
   "cell_type": "code",
   "execution_count": null,
   "id": "f2088810-4bd0-4ca6-bdb4-790c22797a76",
   "metadata": {},
   "outputs": [],
   "source": [
    "df.loc[df.Age.isna(), \"Pclass\"].map(pclass_to_mean_age)\n",
    "# df.loc[df.Age.isna(), \"Age\"] = df.loc[df.Age.isna(), \"Pclass\"].map(pclass_to_mean_age)"
   ]
  },
  {
   "cell_type": "markdown",
   "id": "fb5d485b-7704-423f-9fa0-49f8d7cb4185",
   "metadata": {},
   "source": [
    "#### con 0 u otro valor fijo"
   ]
  },
  {
   "cell_type": "markdown",
   "id": "a34b408c-d2f3-45d1-b7a0-ec338a95c224",
   "metadata": {},
   "source": [
    "Por ejemplo, en un dataset con una columna `number_children` pueden cambiarse nulos por 0s"
   ]
  },
  {
   "cell_type": "markdown",
   "id": "8a97dd61-e74b-4c53-a3b6-78cb30ef3d72",
   "metadata": {},
   "source": [
    "### variables categóricas"
   ]
  },
  {
   "cell_type": "code",
   "execution_count": null,
   "id": "17825b0b-86ba-4665-ab91-2d425a2b5c05",
   "metadata": {},
   "outputs": [],
   "source": [
    "df.isna().sum()"
   ]
  },
  {
   "cell_type": "markdown",
   "id": "30209789-6f55-4834-93b4-a63af834c862",
   "metadata": {},
   "source": [
    "#### con la moda"
   ]
  },
  {
   "cell_type": "code",
   "execution_count": null,
   "id": "889e1bbe-edca-42dc-9ad5-4b9de0acfc0e",
   "metadata": {},
   "outputs": [],
   "source": [
    "df.cabin_letter.value_counts()"
   ]
  },
  {
   "cell_type": "code",
   "execution_count": null,
   "id": "b2f10362-5904-410f-b078-48c8a77d0e4a",
   "metadata": {},
   "outputs": [],
   "source": [
    "top_cabin = \n",
    "top_cabin"
   ]
  },
  {
   "cell_type": "code",
   "execution_count": null,
   "id": "b649a046-1e92-468e-8afe-d11a93fa237e",
   "metadata": {},
   "outputs": [],
   "source": [
    "df.cabin_letter.fillna(top_cabin)\n",
    "# df.cabin_letter = df.cabin_letter.fillna(top_cabin)"
   ]
  },
  {
   "cell_type": "markdown",
   "id": "075f8992-8509-4877-95c2-869b38aa5b69",
   "metadata": {},
   "source": [
    "#### con la moda por categoría"
   ]
  },
  {
   "cell_type": "code",
   "execution_count": null,
   "id": "97b27f3e-c7ff-4e44-a2f8-46804b73b99e",
   "metadata": {},
   "outputs": [],
   "source": [
    "pclass_to_top_cabin = "
   ]
  },
  {
   "cell_type": "code",
   "execution_count": null,
   "id": "75888b32-2c7f-4f17-ae6a-47fe4947236e",
   "metadata": {},
   "outputs": [],
   "source": [
    "df.loc[df.cabin_letter.isna(), \"Pclass\"].map(pclass_to_top_cabin)\n",
    "# df.loc[df.cabin_letter.isna(), \"cabin_letter\"] = df.loc[df.cabin_letter.isna(), \"Pclass\"].map(pclass_to_top_cabin)"
   ]
  },
  {
   "cell_type": "markdown",
   "id": "b7d08e35-f79b-48a8-8f76-b97b6b5d0c6a",
   "metadata": {},
   "source": [
    "#### category \"Unknown\""
   ]
  },
  {
   "cell_type": "code",
   "execution_count": null,
   "id": "a82e418a-e791-4817-9045-fd5a22131224",
   "metadata": {},
   "outputs": [],
   "source": [
    "df.cabin_letter.fillna(\"U\")\n",
    "# df.cabin_letter = df.cabin_letter.fillna(\"U\")"
   ]
  },
  {
   "cell_type": "markdown",
   "id": "676c9786-b0ff-4cf3-92ff-06029772ab4c",
   "metadata": {},
   "source": [
    "#### modelo predictivo"
   ]
  },
  {
   "cell_type": "markdown",
   "id": "679befdd-3cbd-45a5-a933-2054c0299afa",
   "metadata": {},
   "source": [
    "Utilizar un modelo de clasificación utilizando:\n",
    " - otras features como predictoras\n",
    " - la columna categórica como columna objetivo"
   ]
  },
  {
   "cell_type": "markdown",
   "id": "0daf24df-f965-473e-ad59-a6be1090f1b9",
   "metadata": {},
   "source": [
    "### Más estrategias"
   ]
  },
  {
   "cell_type": "markdown",
   "id": "fe853dd2-2d2e-4032-8b63-7de08bbfdfe7",
   "metadata": {},
   "source": [
    "[Null Values Imputations Strategies](https://www.kaggle.com/discussions/general/248836)"
   ]
  },
  {
   "cell_type": "markdown",
   "id": "eb3a670a-5939-4de1-9bb0-d41ebced9871",
   "metadata": {},
   "source": [
    "## Categorical encoding"
   ]
  },
  {
   "cell_type": "markdown",
   "id": "f89d57f6-51bf-4d89-920a-d985ea0abca8",
   "metadata": {},
   "source": [
    "Los modelos de ML no se _comen_ variables categóricas"
   ]
  },
  {
   "cell_type": "markdown",
   "id": "20274c27-eac0-4e7c-bb85-52a70091a8a7",
   "metadata": {},
   "source": [
    "Hay muchas opciones para tratarlas, y a priori no sabemos cuál es mejor"
   ]
  },
  {
   "cell_type": "markdown",
   "id": "b9d4a241-e3db-4198-a2f0-f684d51eca24",
   "metadata": {},
   "source": [
    "Hemos de conocer estrategias de transformación **categórico --> numérico**"
   ]
  },
  {
   "cell_type": "markdown",
   "id": "e5595a35-08f6-427b-b340-0d99c0edb622",
   "metadata": {},
   "source": [
    "El tratamiento de cada columna suele ser diferente"
   ]
  },
  {
   "cell_type": "markdown",
   "id": "6ca9cf9d-2e2c-424f-b79f-c5139962e81c",
   "metadata": {},
   "source": [
    "Podemos tratar una columna de varias maneras: hacer get_dummies y además mean encoding"
   ]
  },
  {
   "cell_type": "markdown",
   "id": "3fd7980b-e5f4-4199-a3eb-bdc01058268c",
   "metadata": {},
   "source": [
    "Para montar un modelo sencillo, podemos simplemente dropear las columnas categóricas"
   ]
  },
  {
   "cell_type": "markdown",
   "id": "52111534-c34b-4441-80b1-947b6d794d32",
   "metadata": {},
   "source": [
    "### Texto binario a booleano"
   ]
  },
  {
   "cell_type": "code",
   "execution_count": null,
   "id": "17543b80-e155-4e9a-b132-151914f1412f",
   "metadata": {},
   "outputs": [],
   "source": [
    "df.Sex = "
   ]
  },
  {
   "cell_type": "markdown",
   "id": "9c5719f1",
   "metadata": {},
   "source": [
    "### One Hot Encoder (get_dummies)"
   ]
  },
  {
   "cell_type": "markdown",
   "id": "2579ad64",
   "metadata": {},
   "source": [
    "Se utiliza cuando (orientativamente):\n",
    " * no hay un orden natural entre las categorías y\n",
    " * no hay un número enorme (~>20) de categorías"
   ]
  },
  {
   "cell_type": "code",
   "execution_count": null,
   "id": "2248bf77",
   "metadata": {},
   "outputs": [],
   "source": [
    "dummies = pd.get_dummies(df.Embarked, prefix=\"Embarked_\")\n",
    "df = pd.concat([df.drop('Embarked', axis=1), dummies], axis=1)"
   ]
  },
  {
   "cell_type": "code",
   "execution_count": null,
   "id": "5a8f9c80-058f-4d7f-8bba-b620b2e72874",
   "metadata": {},
   "outputs": [],
   "source": [
    "df.columns"
   ]
  },
  {
   "cell_type": "markdown",
   "id": "12a19947",
   "metadata": {},
   "source": [
    "### Label Encoder"
   ]
  },
  {
   "cell_type": "markdown",
   "id": "f15264c3",
   "metadata": {},
   "source": [
    "Se utiliza cuando:\n",
    " * no hay un orden natural entre las categorías y\n",
    " * hay un número no pequeño de categorías"
   ]
  },
  {
   "cell_type": "code",
   "execution_count": null,
   "id": "5c550c9d",
   "metadata": {},
   "outputs": [],
   "source": [
    "df.cabin_letter.unique()"
   ]
  },
  {
   "cell_type": "code",
   "execution_count": null,
   "id": "b523c41b",
   "metadata": {},
   "outputs": [],
   "source": [
    "from sklearn import preprocessing\n",
    "le = preprocessing.LabelEncoder()"
   ]
  },
  {
   "cell_type": "code",
   "execution_count": null,
   "id": "eef4191b",
   "metadata": {},
   "outputs": [],
   "source": [
    "df.cabin_letter = le.fit_transform(df.cabin_letter)"
   ]
  },
  {
   "cell_type": "markdown",
   "id": "23c1643f",
   "metadata": {},
   "source": [
    "### Ordinal Encoder"
   ]
  },
  {
   "cell_type": "markdown",
   "id": "29c1b66f",
   "metadata": {},
   "source": [
    "Se utiliza cuando:\n",
    " * sí hay un orden natural entre las categorías"
   ]
  },
  {
   "cell_type": "code",
   "execution_count": 11,
   "id": "4dab0c92-f318-4dae-9ec5-e86899f905ac",
   "metadata": {},
   "outputs": [],
   "source": [
    "dff = pd.DataFrame({\"name\": [\"Juan\", \"Pepe\", \"Marta\", \"Luna\", \"Ricardo\", \"Rosa\"], \"velocity\": [\"Fast\", \"Slow\", \"Very fast\", \"Slow\", \"Average\", \"Very slow\"]})"
   ]
  },
  {
   "cell_type": "code",
   "execution_count": 12,
   "id": "bf5abab1-015b-47e0-b9f2-0726049370e4",
   "metadata": {},
   "outputs": [
    {
     "data": {
      "text/html": [
       "<div>\n",
       "<style scoped>\n",
       "    .dataframe tbody tr th:only-of-type {\n",
       "        vertical-align: middle;\n",
       "    }\n",
       "\n",
       "    .dataframe tbody tr th {\n",
       "        vertical-align: top;\n",
       "    }\n",
       "\n",
       "    .dataframe thead th {\n",
       "        text-align: right;\n",
       "    }\n",
       "</style>\n",
       "<table border=\"1\" class=\"dataframe\">\n",
       "  <thead>\n",
       "    <tr style=\"text-align: right;\">\n",
       "      <th></th>\n",
       "      <th>name</th>\n",
       "      <th>velocity</th>\n",
       "    </tr>\n",
       "  </thead>\n",
       "  <tbody>\n",
       "    <tr>\n",
       "      <th>0</th>\n",
       "      <td>Juan</td>\n",
       "      <td>Fast</td>\n",
       "    </tr>\n",
       "    <tr>\n",
       "      <th>1</th>\n",
       "      <td>Pepe</td>\n",
       "      <td>Slow</td>\n",
       "    </tr>\n",
       "    <tr>\n",
       "      <th>2</th>\n",
       "      <td>Marta</td>\n",
       "      <td>Very fast</td>\n",
       "    </tr>\n",
       "    <tr>\n",
       "      <th>3</th>\n",
       "      <td>Luna</td>\n",
       "      <td>Slow</td>\n",
       "    </tr>\n",
       "    <tr>\n",
       "      <th>4</th>\n",
       "      <td>Ricardo</td>\n",
       "      <td>Average</td>\n",
       "    </tr>\n",
       "    <tr>\n",
       "      <th>5</th>\n",
       "      <td>Rosa</td>\n",
       "      <td>Very slow</td>\n",
       "    </tr>\n",
       "  </tbody>\n",
       "</table>\n",
       "</div>"
      ],
      "text/plain": [
       "      name   velocity\n",
       "0     Juan       Fast\n",
       "1     Pepe       Slow\n",
       "2    Marta  Very fast\n",
       "3     Luna       Slow\n",
       "4  Ricardo    Average\n",
       "5     Rosa  Very slow"
      ]
     },
     "execution_count": 12,
     "metadata": {},
     "output_type": "execute_result"
    }
   ],
   "source": [
    "dff"
   ]
  },
  {
   "cell_type": "code",
   "execution_count": 13,
   "id": "de6b6d0b",
   "metadata": {},
   "outputs": [],
   "source": [
    "from sklearn import preprocessing\n",
    "oe = preprocessing.OrdinalEncoder(categories=[['Very slow', 'Slow', 'Average', 'Fast', 'Very fast']])"
   ]
  },
  {
   "cell_type": "code",
   "execution_count": 14,
   "id": "bab50f5a",
   "metadata": {},
   "outputs": [],
   "source": [
    "dff.velocity = oe.fit_transform(dff[[\"velocity\"]])"
   ]
  },
  {
   "cell_type": "code",
   "execution_count": 15,
   "id": "7c03d758-af0d-4f8e-b3dd-33786e18dabd",
   "metadata": {},
   "outputs": [
    {
     "data": {
      "text/html": [
       "<div>\n",
       "<style scoped>\n",
       "    .dataframe tbody tr th:only-of-type {\n",
       "        vertical-align: middle;\n",
       "    }\n",
       "\n",
       "    .dataframe tbody tr th {\n",
       "        vertical-align: top;\n",
       "    }\n",
       "\n",
       "    .dataframe thead th {\n",
       "        text-align: right;\n",
       "    }\n",
       "</style>\n",
       "<table border=\"1\" class=\"dataframe\">\n",
       "  <thead>\n",
       "    <tr style=\"text-align: right;\">\n",
       "      <th></th>\n",
       "      <th>name</th>\n",
       "      <th>velocity</th>\n",
       "    </tr>\n",
       "  </thead>\n",
       "  <tbody>\n",
       "    <tr>\n",
       "      <th>0</th>\n",
       "      <td>Juan</td>\n",
       "      <td>3.0</td>\n",
       "    </tr>\n",
       "    <tr>\n",
       "      <th>1</th>\n",
       "      <td>Pepe</td>\n",
       "      <td>1.0</td>\n",
       "    </tr>\n",
       "    <tr>\n",
       "      <th>2</th>\n",
       "      <td>Marta</td>\n",
       "      <td>4.0</td>\n",
       "    </tr>\n",
       "    <tr>\n",
       "      <th>3</th>\n",
       "      <td>Luna</td>\n",
       "      <td>1.0</td>\n",
       "    </tr>\n",
       "    <tr>\n",
       "      <th>4</th>\n",
       "      <td>Ricardo</td>\n",
       "      <td>2.0</td>\n",
       "    </tr>\n",
       "    <tr>\n",
       "      <th>5</th>\n",
       "      <td>Rosa</td>\n",
       "      <td>0.0</td>\n",
       "    </tr>\n",
       "  </tbody>\n",
       "</table>\n",
       "</div>"
      ],
      "text/plain": [
       "      name  velocity\n",
       "0     Juan       3.0\n",
       "1     Pepe       1.0\n",
       "2    Marta       4.0\n",
       "3     Luna       1.0\n",
       "4  Ricardo       2.0\n",
       "5     Rosa       0.0"
      ]
     },
     "execution_count": 15,
     "metadata": {},
     "output_type": "execute_result"
    }
   ],
   "source": [
    "dff"
   ]
  },
  {
   "attachments": {},
   "cell_type": "markdown",
   "id": "932e3de2-4679-440a-b3aa-7f006afa352d",
   "metadata": {},
   "source": [
    "Notas: \n",
    "- a los árboles les da igual la magnitud, solo el orden\n",
    "- puede haber categorías en el test que no estén en el train"
   ]
  },
  {
   "cell_type": "markdown",
   "id": "af22fb65-834f-4049-9060-9faf38c1fcbc",
   "metadata": {},
   "source": [
    "### Target Encoding"
   ]
  },
  {
   "cell_type": "markdown",
   "id": "38dd8082-35dc-4fb1-afa4-07be23e62f86",
   "metadata": {},
   "source": [
    "Bastante potente"
   ]
  },
  {
   "cell_type": "markdown",
   "id": "7a8e4f28-be5a-4152-9d6a-ba1f751f2c50",
   "metadata": {},
   "source": [
    "Asigna a cada categoría la media de la variable objetivo de los de esa categoría"
   ]
  },
  {
   "cell_type": "markdown",
   "id": "c7eed672-8c3a-469e-b3df-770051f3cc4f",
   "metadata": {},
   "source": [
    "Se utiliza cuando:\n",
    " * hay muchas categorías"
   ]
  },
  {
   "cell_type": "code",
   "execution_count": null,
   "id": "62604c52-b7fb-4f3c-8f84-47b0f12ca200",
   "metadata": {},
   "outputs": [],
   "source": [
    "title_to_prob_survived = df.groupby(\"title\").Survived.mean().round(3).to_dict()\n",
    "title_to_prob_survived"
   ]
  },
  {
   "cell_type": "code",
   "execution_count": null,
   "id": "4766db77-402f-4839-9693-c6ee91704524",
   "metadata": {},
   "outputs": [],
   "source": [
    "df.title = df.title.map(title_to_prob_survived)"
   ]
  },
  {
   "cell_type": "markdown",
   "id": "60039c5b-7f58-45bd-b0a9-efad9dcf902a",
   "metadata": {},
   "source": [
    "## Notas"
   ]
  },
  {
   "cell_type": "markdown",
   "id": "c37764ef-537e-42ad-b5d1-2149ae105429",
   "metadata": {},
   "source": [
    "A los árboles les da igual la magnitud, solo el orden"
   ]
  },
  {
   "cell_type": "markdown",
   "id": "97a4f087-7654-4770-93ae-dcfc5dc3d082",
   "metadata": {},
   "source": [
    "Puede haber categorías en el test que no estén en el train"
   ]
  },
  {
   "cell_type": "markdown",
   "id": "f1404668-14bd-4fa7-a1b0-1c8b4c8ced5a",
   "metadata": {},
   "source": [
    "Antes de entrenar, asegúrate de que:\n",
    " - no hay nulos\n",
    " - solo hay columnas numéricas"
   ]
  },
  {
   "cell_type": "code",
   "execution_count": null,
   "id": "279db1aa-72cb-4b0b-8ea5-6b41047e5294",
   "metadata": {},
   "outputs": [],
   "source": [
    "df.isna().sum()"
   ]
  },
  {
   "cell_type": "code",
   "execution_count": null,
   "id": "e250ebf7-57fa-4fa0-a144-bfbe40ec4826",
   "metadata": {},
   "outputs": [],
   "source": [
    "df.dtypes"
   ]
  },
  {
   "cell_type": "code",
   "execution_count": null,
   "id": "a02a17cf-9964-4cde-ab63-d5ff7436694d",
   "metadata": {},
   "outputs": [],
   "source": []
  },
  {
   "cell_type": "markdown",
   "id": "0326aadf-53fa-4182-a19d-65d433ccea68",
   "metadata": {},
   "source": [
    "Antes de predecir, asegúrate de que:\n",
    " - no hay nulos\n",
    " - solo hay columnas numéricas"
   ]
  },
  {
   "cell_type": "code",
   "execution_count": null,
   "id": "31696707-9579-447f-a597-ba0c8d07c6ee",
   "metadata": {},
   "outputs": [],
   "source": [
    "# df_test.isna().sum()"
   ]
  },
  {
   "cell_type": "code",
   "execution_count": null,
   "id": "bf6fd4df-f1cf-4bcc-bc0d-384a28735c92",
   "metadata": {},
   "outputs": [],
   "source": [
    "# df_test.dtypes"
   ]
  },
  {
   "cell_type": "markdown",
   "id": "64b63925-99f7-48ba-97af-f7177235ca0e",
   "metadata": {},
   "source": [
    "Antes de predecir, asegúrate de que:  \n",
    "**el orden de las columnas del test es como el train** (exceptuando la variable objetivo)\n",
    "\n",
    "Puedes usar algo similar a:"
   ]
  },
  {
   "cell_type": "code",
   "execution_count": null,
   "id": "486da9f7-128b-4f9b-9faa-123eec88c8ff",
   "metadata": {},
   "outputs": [],
   "source": [
    "cols_train = df.drop(columns=\"Survived\").columns.tolist()\n",
    "cols_train"
   ]
  },
  {
   "cell_type": "code",
   "execution_count": null,
   "id": "c93a1c2d-630d-4b3e-a339-38bf7aaa3e45",
   "metadata": {},
   "outputs": [],
   "source": [
    "# df_test = df_test[cols_train]"
   ]
  },
  {
   "cell_type": "markdown",
   "id": "fdc077bc-018c-4905-bed0-dd2b5f70144d",
   "metadata": {},
   "source": [
    "# Hiperparámetros: encontrando los mejores"
   ]
  },
  {
   "cell_type": "markdown",
   "id": "2f9684cf-6114-4b97-85cd-e30c15fa0d20",
   "metadata": {},
   "source": [
    "Los modelos aceptan diferentes hiperparámetros"
   ]
  },
  {
   "cell_type": "code",
   "execution_count": null,
   "id": "618552f5-db5d-4608-9da8-6effe42f68fa",
   "metadata": {},
   "outputs": [],
   "source": [
    "from sklearn.tree import DecisionTreeClassifier"
   ]
  },
  {
   "cell_type": "code",
   "execution_count": null,
   "id": "7b6d3aa9-9149-4003-b61d-f70df99b40e7",
   "metadata": {},
   "outputs": [],
   "source": [
    "tree = DecisionTreeClassifier()"
   ]
  },
  {
   "cell_type": "code",
   "execution_count": null,
   "id": "3000e612-e0a8-4678-a438-2d4ea600aa26",
   "metadata": {},
   "outputs": [],
   "source": [
    "tree.get_params()"
   ]
  },
  {
   "cell_type": "markdown",
   "id": "ae4c6513-0f93-49e5-b456-f327018aac19",
   "metadata": {},
   "source": [
    "Cómo encuentro los mejores?"
   ]
  },
  {
   "cell_type": "markdown",
   "id": "d7e1d317-8035-4815-8765-c2dc80fff138",
   "metadata": {},
   "source": [
    "## GridSearch"
   ]
  },
  {
   "cell_type": "markdown",
   "id": "a408ee9b-93a2-450f-ba58-c2da0e7e1e2d",
   "metadata": {},
   "source": [
    "GridSearchCV:\n",
    " - realiza una **búsqueda exhaustiva** sobre un subconjunto especificado del espacio de hiperparámetros\n",
    " - puede encontrar la mejor combinación de hiperparámetros\n",
    " - puede ser muy lento con un gran número de combinaciones de hiperparámetros"
   ]
  },
  {
   "cell_type": "code",
   "execution_count": null,
   "id": "b68bad66-9ad7-4542-ac86-20ee758617ff",
   "metadata": {},
   "outputs": [],
   "source": [
    "from sklearn.model_selection import GridSearchCV"
   ]
  },
  {
   "cell_type": "code",
   "execution_count": null,
   "id": "e964fd97-b0ab-4a45-afb9-caab41f88b9a",
   "metadata": {},
   "outputs": [],
   "source": [
    "params = {\n",
    "    'criterion': ['gini', 'log_loss'],\n",
    "    'max_depth': [4, 5, 6, 7],\n",
    "    'min_samples_split': [2, 5, 10]\n",
    "}"
   ]
  },
  {
   "cell_type": "code",
   "execution_count": null,
   "id": "ce43562c-68bf-4c5d-9f14-c01b3b65a4d2",
   "metadata": {},
   "outputs": [],
   "source": [
    "gs = GridSearchCV(\n",
    "    estimator=DecisionTreeClassifier(), \n",
    "    param_grid=params, \n",
    "    cv=5, \n",
    "    n_jobs=-2, \n",
    "    verbose=2\n",
    ")"
   ]
  },
  {
   "cell_type": "code",
   "execution_count": null,
   "id": "81556fef-9d3d-44fa-b856-d2fd4f05f667",
   "metadata": {},
   "outputs": [],
   "source": [
    "# prepare df"
   ]
  },
  {
   "cell_type": "code",
   "execution_count": null,
   "id": "a30e3e21-9561-4041-8be0-b4f19e17ad02",
   "metadata": {},
   "outputs": [],
   "source": [
    "gs.fit(X, y)"
   ]
  },
  {
   "cell_type": "code",
   "execution_count": null,
   "id": "f4567a65-593e-44ed-a054-1d741154ff3e",
   "metadata": {},
   "outputs": [],
   "source": [
    "gs.best_params_"
   ]
  },
  {
   "cell_type": "code",
   "execution_count": null,
   "id": "29a0013c-72c0-495d-8b75-0d18b91f20e8",
   "metadata": {},
   "outputs": [],
   "source": [
    "gs.best_estimator_"
   ]
  },
  {
   "cell_type": "markdown",
   "id": "7faa3fc4-e1aa-4c22-b3a2-67789e5561b9",
   "metadata": {},
   "source": [
    "## RandomSearch"
   ]
  },
  {
   "cell_type": "markdown",
   "id": "82cf7eeb-9282-421e-99cf-dcf8d0c9c307",
   "metadata": {},
   "source": [
    "RandomSearchCV:\n",
    " - selecciona **al azar** combinaciones de hiperparámetros para probar\n",
    " - más rápido que GridSearchCV, ya que no prueba todas las combinaciones posibles\n",
    " - es eficaz si la dimensión del espacio de hiperparámetros es alta\n",
    " - no garantiza encontrar la mejor combinación de hiperparámetros, ya que la búsqueda es aleatoria."
   ]
  },
  {
   "cell_type": "code",
   "execution_count": null,
   "id": "f0b3d9db-1cfb-428e-a43d-73ced5142b76",
   "metadata": {},
   "outputs": [],
   "source": [
    "from sklearn.model_selection import RandomizedSearchCV\n",
    "import numpy as np"
   ]
  },
  {
   "cell_type": "code",
   "execution_count": null,
   "id": "f60075d0-4333-4d01-85ae-1ff8cdc8f098",
   "metadata": {},
   "outputs": [],
   "source": [
    "param_dist = {\n",
    "    \"max_depth\": range(3, 20),\n",
    "    \"max_features\": range(1, 9),\n",
    "    \"min_samples_leaf\": range(1, 30, 2),\n",
    "    \"criterion\": [\"gini\", \"log_loss\", \"entropy\"]\n",
    "}"
   ]
  },
  {
   "cell_type": "code",
   "execution_count": null,
   "id": "30ac7959-809d-4b91-a1aa-77956e7ef421",
   "metadata": {},
   "outputs": [],
   "source": [
    "random_search = RandomizedSearchCV(DecisionTreeClassifier(), param_distributions=param_dist,\n",
    "                                   n_iter=100, cv=5, random_state=42)"
   ]
  },
  {
   "cell_type": "code",
   "execution_count": null,
   "id": "0054f572-e19b-4fac-992a-5ecebcb6c47f",
   "metadata": {},
   "outputs": [],
   "source": [
    "random_search.fit(X, y)"
   ]
  },
  {
   "cell_type": "code",
   "execution_count": null,
   "id": "1755d872-60ea-4e89-8871-f5619bc5dfd6",
   "metadata": {},
   "outputs": [],
   "source": [
    "random_search.best_params_"
   ]
  },
  {
   "cell_type": "code",
   "execution_count": null,
   "id": "c9f07551-10b9-44cf-ae33-de22f64a5057",
   "metadata": {},
   "outputs": [],
   "source": [
    "random_search.best_estimator_"
   ]
  },
  {
   "cell_type": "markdown",
   "id": "277b81d0-c2bc-4e80-a178-c5546c994859",
   "metadata": {},
   "source": [
    "<img width=600 src=\"https://miro.medium.com/v2/resize:fit:1004/0*yDmmJmvRowl0cSN8.png\">"
   ]
  }
 ],
 "metadata": {
  "kernelspec": {
   "display_name": "Python 3 (ipykernel)",
   "language": "python",
   "name": "python3"
  },
  "language_info": {
   "codemirror_mode": {
    "name": "ipython",
    "version": 3
   },
   "file_extension": ".py",
   "mimetype": "text/x-python",
   "name": "python",
   "nbconvert_exporter": "python",
   "pygments_lexer": "ipython3",
   "version": "3.10.12"
  },
  "toc": {
   "base_numbering": 1,
   "nav_menu": {},
   "number_sections": true,
   "sideBar": true,
   "skip_h1_title": true,
   "title_cell": "Table of Contents",
   "title_sidebar": "Contents",
   "toc_cell": true,
   "toc_position": {},
   "toc_section_display": true,
   "toc_window_display": true
  },
  "varInspector": {
   "cols": {
    "lenName": 16,
    "lenType": 16,
    "lenVar": 40
   },
   "kernels_config": {
    "python": {
     "delete_cmd_postfix": "",
     "delete_cmd_prefix": "del ",
     "library": "var_list.py",
     "varRefreshCmd": "print(var_dic_list())"
    },
    "r": {
     "delete_cmd_postfix": ") ",
     "delete_cmd_prefix": "rm(",
     "library": "var_list.r",
     "varRefreshCmd": "cat(var_dic_list()) "
    }
   },
   "types_to_exclude": [
    "module",
    "function",
    "builtin_function_or_method",
    "instance",
    "_Feature"
   ],
   "window_display": false
  }
 },
 "nbformat": 4,
 "nbformat_minor": 5
}
