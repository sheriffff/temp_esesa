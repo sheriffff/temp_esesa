{
 "cells": [
  {
   "cell_type": "markdown",
   "id": "b4f4dd8e",
   "metadata": {},
   "source": [
    "# Machine Learning: introducción"
   ]
  },
  {
   "cell_type": "markdown",
   "id": "3259d308-0fbd-4299-b285-72d688d59782",
   "metadata": {},
   "source": [
    "<img width=500 src=\"https://miro.medium.com/v2/resize:fit:700/1*x7P7gqjo8k2_bj2rTQWAfg.jpeg\">"
   ]
  },
  {
   "cell_type": "markdown",
   "id": "84b2c424-c76e-4d41-a474-1034d8b10f36",
   "metadata": {},
   "source": [
    "El Machine Learning (aprendizaje automático) es una disciplina del campo de la Inteligencia Artificial que, a través de algoritmos, dota a los ordenadores de la capacidad de identificar patrones en datos masivos y elaborar predicciones."
   ]
  },
  {
   "cell_type": "markdown",
   "id": "0433dec5",
   "metadata": {},
   "source": [
    "## Tipos de Aprendizaje Automático"
   ]
  },
  {
   "cell_type": "markdown",
   "id": "ce08fdc9-026a-40b5-b289-185166166486",
   "metadata": {},
   "source": [
    "<img width=800 src=\"https://www.researchgate.net/publication/354960266/figure/fig1/AS:1075175843983363@1633353305883/The-main-types-of-machine-learning-Main-approaches-include-classification-and.png\">"
   ]
  },
  {
   "cell_type": "markdown",
   "id": "54137645",
   "metadata": {},
   "source": [
    "### Supervisado"
   ]
  },
  {
   "cell_type": "markdown",
   "id": "e81e6d14-8da4-4d43-a885-00296342fa45",
   "metadata": {},
   "source": [
    "Los datos están **etiquetados** (se conoce la *verdad* sobre un histórico de observaciones). Al modelo se le presentan datos con su etiqueta, y el modelo infiere patrones para más tarde hacer predicciones.\n",
    "\n",
    "**SÍ hay una variable objetivo, que queremos aprender a predecir**"
   ]
  },
  {
   "cell_type": "markdown",
   "id": "f6ed7f97-124e-48d7-b31a-cebf1cd4ac40",
   "metadata": {},
   "source": [
    "Hay fundamentalmente 2 clases de problemas:\n",
    "  * Regresión: predecimos una variable cuantitativa. Ejemplos:\n",
    "     * Dadas el número de horas de estudio y de fiesta de un estudiante, predecir qué nota sacará en un exámen\n",
    "     * Dadas las características de un jugador de basket, predecir su salario.\n",
    "     * Dada una imagen con una cara, predecir la edad de la persona\n",
    "  * Clasificación: predecimos una variable cualitativa. Puede ser binaria o multiclase. Ejemplos:\n",
    "     * Dadas propiedades de un nódulo, predecir si se desarrolla o no cáncer.\n",
    "     * Dado un cliente, predecir si devuelve o no un préstamo.\n",
    "     * Dada una imagen, predecir si hay un gato o un perro.\n",
    "     * Dadas un artículo de prensa, predecir a cuál de entre 5 categorías corresponde."
   ]
  },
  {
   "cell_type": "markdown",
   "id": "3152f07e",
   "metadata": {},
   "source": [
    "### No supervisado"
   ]
  },
  {
   "cell_type": "markdown",
   "id": "3df513dc",
   "metadata": {},
   "source": [
    "Los datos **no** están **etiquetados**. El modelo busca patrones de similaridad entre observaciones. \n",
    "\n",
    "**NO hay una variable objetivo a predecir**\n",
    "\n",
    "Ejemplos:\n",
    "  * Jugadores similares del FIFA.\n",
    "  * Compradores del supermercado semejantes.\n",
    "  * Estaciones de BICIMAD similares."
   ]
  },
  {
   "cell_type": "markdown",
   "id": "030ed839-90e8-4314-ae60-19537b97a36c",
   "metadata": {},
   "source": [
    "### Aprendizaje por refuerzo"
   ]
  },
  {
   "cell_type": "markdown",
   "id": "7cacd9a7-3858-4317-9baa-23e0ea5f2061",
   "metadata": {},
   "source": [
    "Los datos se van generando dinámicamente.  \n",
    "La máquina aprende a optimizar sus acciones en función de las recompensas que obtiene.\n",
    "\n",
    "Ejemplos:\n",
    " - Entrenar un agente para jugar y ganar al Ajedrez\n",
    " - Entrenar un agente para jugar y ganar a un videojuego\n",
    " - Entrenar un agente para invertir en bolsa"
   ]
  },
  {
   "cell_type": "markdown",
   "id": "bbdeedb3-3b29-4503-ab8f-0932fa62b8a2",
   "metadata": {},
   "source": [
    "**Ejercicio**: de qué tipo de ML se tratan:\n",
    " - dadas varias características de una planta, predecir si es acuática o terrestre\n",
    " - dadas celdas de telefonía distribuidas por España, decidir cuáles tienen naturaleza similar\n",
    " - dados varios indicadores meteorológicos, predecir la temperatura"
   ]
  },
  {
   "cell_type": "markdown",
   "id": "53919339",
   "metadata": {},
   "source": [
    "## Features"
   ]
  },
  {
   "cell_type": "markdown",
   "id": "a87f530b",
   "metadata": {},
   "source": [
    "Las **features** son las variables (columnas) presentes en nuestro dataset.  \n",
    "\n",
    "En el caso del aprendizaje supervisado, diferenciamos entre:\n",
    "  * target: variable que queremos predecir.\n",
    "  * predictores: variables utilizadas para predecir."
   ]
  },
  {
   "cell_type": "code",
   "execution_count": 15,
   "id": "92802c59",
   "metadata": {},
   "outputs": [],
   "source": [
    "import pandas as pd"
   ]
  },
  {
   "cell_type": "code",
   "execution_count": 16,
   "id": "564e002a-604c-4f19-a8c5-855edb839b87",
   "metadata": {},
   "outputs": [],
   "source": [
    "df = pd.read_csv(\"./datasets/breast_cancer_bis.csv\")"
   ]
  },
  {
   "cell_type": "code",
   "execution_count": 17,
   "id": "63d57b87",
   "metadata": {},
   "outputs": [
    {
     "data": {
      "text/plain": [
       "(569, 8)"
      ]
     },
     "execution_count": 17,
     "metadata": {},
     "output_type": "execute_result"
    }
   ],
   "source": [
    "df.shape"
   ]
  },
  {
   "cell_type": "code",
   "execution_count": 18,
   "id": "d6e5df3b-da05-4bbb-ac3a-eb387c8830f2",
   "metadata": {},
   "outputs": [
    {
     "data": {
      "text/html": [
       "<div>\n",
       "<style scoped>\n",
       "    .dataframe tbody tr th:only-of-type {\n",
       "        vertical-align: middle;\n",
       "    }\n",
       "\n",
       "    .dataframe tbody tr th {\n",
       "        vertical-align: top;\n",
       "    }\n",
       "\n",
       "    .dataframe thead th {\n",
       "        text-align: right;\n",
       "    }\n",
       "</style>\n",
       "<table border=\"1\" class=\"dataframe\">\n",
       "  <thead>\n",
       "    <tr style=\"text-align: right;\">\n",
       "      <th></th>\n",
       "      <th>mean_radius</th>\n",
       "      <th>mean_texture</th>\n",
       "      <th>mean_perimeter</th>\n",
       "      <th>mean_area</th>\n",
       "      <th>mean_smoothness</th>\n",
       "      <th>mean_compactness</th>\n",
       "      <th>mean_concavity</th>\n",
       "      <th>is_cancer</th>\n",
       "    </tr>\n",
       "  </thead>\n",
       "  <tbody>\n",
       "    <tr>\n",
       "      <th>0</th>\n",
       "      <td>17.910</td>\n",
       "      <td>21.02</td>\n",
       "      <td>124.40</td>\n",
       "      <td>994.0</td>\n",
       "      <td>0.12300</td>\n",
       "      <td>0.25760</td>\n",
       "      <td>0.31890</td>\n",
       "      <td>1</td>\n",
       "    </tr>\n",
       "    <tr>\n",
       "      <th>1</th>\n",
       "      <td>10.260</td>\n",
       "      <td>12.22</td>\n",
       "      <td>65.75</td>\n",
       "      <td>321.6</td>\n",
       "      <td>0.09996</td>\n",
       "      <td>0.07542</td>\n",
       "      <td>0.01923</td>\n",
       "      <td>0</td>\n",
       "    </tr>\n",
       "    <tr>\n",
       "      <th>2</th>\n",
       "      <td>14.220</td>\n",
       "      <td>23.12</td>\n",
       "      <td>94.37</td>\n",
       "      <td>609.9</td>\n",
       "      <td>0.10750</td>\n",
       "      <td>0.24130</td>\n",
       "      <td>0.19810</td>\n",
       "      <td>1</td>\n",
       "    </tr>\n",
       "    <tr>\n",
       "      <th>3</th>\n",
       "      <td>9.755</td>\n",
       "      <td>28.20</td>\n",
       "      <td>61.68</td>\n",
       "      <td>290.9</td>\n",
       "      <td>0.07984</td>\n",
       "      <td>0.04626</td>\n",
       "      <td>0.01541</td>\n",
       "      <td>0</td>\n",
       "    </tr>\n",
       "    <tr>\n",
       "      <th>4</th>\n",
       "      <td>9.738</td>\n",
       "      <td>11.97</td>\n",
       "      <td>61.24</td>\n",
       "      <td>288.5</td>\n",
       "      <td>0.09250</td>\n",
       "      <td>0.04102</td>\n",
       "      <td>0.00000</td>\n",
       "      <td>0</td>\n",
       "    </tr>\n",
       "  </tbody>\n",
       "</table>\n",
       "</div>"
      ],
      "text/plain": [
       "   mean_radius  mean_texture  mean_perimeter  mean_area  mean_smoothness  \\\n",
       "0       17.910         21.02          124.40      994.0          0.12300   \n",
       "1       10.260         12.22           65.75      321.6          0.09996   \n",
       "2       14.220         23.12           94.37      609.9          0.10750   \n",
       "3        9.755         28.20           61.68      290.9          0.07984   \n",
       "4        9.738         11.97           61.24      288.5          0.09250   \n",
       "\n",
       "   mean_compactness  mean_concavity  is_cancer  \n",
       "0           0.25760         0.31890          1  \n",
       "1           0.07542         0.01923          0  \n",
       "2           0.24130         0.19810          1  \n",
       "3           0.04626         0.01541          0  \n",
       "4           0.04102         0.00000          0  "
      ]
     },
     "execution_count": 18,
     "metadata": {},
     "output_type": "execute_result"
    }
   ],
   "source": [
    "df.head()"
   ]
  },
  {
   "cell_type": "markdown",
   "id": "f4afb001-1302-4b45-a2fe-648c44d15c3e",
   "metadata": {},
   "source": [
    "## Métricas"
   ]
  },
  {
   "cell_type": "markdown",
   "id": "78397e6a-f59b-4da7-8ee4-e7bda1d4450b",
   "metadata": {},
   "source": [
    "En análisis supervisado...\n",
    "\n",
    "Cómo sabemos si un modelo funciona mejor que otro?\n",
    "\n",
    "Hemos de comparar la realidad vs las predicciones"
   ]
  },
  {
   "cell_type": "markdown",
   "id": "af2965fa-2493-44a0-bb38-009c7b9e4725",
   "metadata": {},
   "source": [
    "Las **métricas de regresión** más utilizadas son:\n",
    " - MSE: mean squared error\n",
    " - MAE: mean absolute error\n",
    " - logMSE: mean squared logarithmic error"
   ]
  },
  {
   "cell_type": "markdown",
   "id": "7c61810c-c9f9-43d8-b389-77a6593330dc",
   "metadata": {},
   "source": [
    "**Ejercicio**: qué modelo tiene menor MSE?"
   ]
  },
  {
   "cell_type": "code",
   "execution_count": 19,
   "id": "361e040b-8e2b-4dc5-89c8-4404fcaefdc4",
   "metadata": {},
   "outputs": [
    {
     "data": {
      "text/html": [
       "<div>\n",
       "<style scoped>\n",
       "    .dataframe tbody tr th:only-of-type {\n",
       "        vertical-align: middle;\n",
       "    }\n",
       "\n",
       "    .dataframe tbody tr th {\n",
       "        vertical-align: top;\n",
       "    }\n",
       "\n",
       "    .dataframe thead th {\n",
       "        text-align: right;\n",
       "    }\n",
       "</style>\n",
       "<table border=\"1\" class=\"dataframe\">\n",
       "  <thead>\n",
       "    <tr style=\"text-align: right;\">\n",
       "      <th></th>\n",
       "      <th>temperatura_real</th>\n",
       "      <th>pred_modelo_1</th>\n",
       "      <th>pred_modelo_2</th>\n",
       "    </tr>\n",
       "  </thead>\n",
       "  <tbody>\n",
       "    <tr>\n",
       "      <th>0</th>\n",
       "      <td>25.9</td>\n",
       "      <td>27.8</td>\n",
       "      <td>28.2</td>\n",
       "    </tr>\n",
       "    <tr>\n",
       "      <th>1</th>\n",
       "      <td>29.3</td>\n",
       "      <td>29.0</td>\n",
       "      <td>29.6</td>\n",
       "    </tr>\n",
       "    <tr>\n",
       "      <th>2</th>\n",
       "      <td>27.0</td>\n",
       "      <td>26.8</td>\n",
       "      <td>28.3</td>\n",
       "    </tr>\n",
       "    <tr>\n",
       "      <th>3</th>\n",
       "      <td>25.9</td>\n",
       "      <td>26.7</td>\n",
       "      <td>26.9</td>\n",
       "    </tr>\n",
       "    <tr>\n",
       "      <th>4</th>\n",
       "      <td>23.4</td>\n",
       "      <td>23.7</td>\n",
       "      <td>27.9</td>\n",
       "    </tr>\n",
       "  </tbody>\n",
       "</table>\n",
       "</div>"
      ],
      "text/plain": [
       "   temperatura_real  pred_modelo_1  pred_modelo_2\n",
       "0              25.9           27.8           28.2\n",
       "1              29.3           29.0           29.6\n",
       "2              27.0           26.8           28.3\n",
       "3              25.9           26.7           26.9\n",
       "4              23.4           23.7           27.9"
      ]
     },
     "execution_count": 19,
     "metadata": {},
     "output_type": "execute_result"
    }
   ],
   "source": [
    "pd.DataFrame({\n",
    "    'temperatura_real': [25.9, 29.3, 27.0, 25.9, 23.4],\n",
    "    'pred_modelo_1': [27.8, 29.0, 26.8, 26.7, 23.7],\n",
    "    'pred_modelo_2': [28.2, 29.6, 28.3, 26.9, 27.9]\n",
    "})"
   ]
  },
  {
   "attachments": {},
   "cell_type": "markdown",
   "id": "1fce4c90-2b00-4de8-991f-c8c706bae44e",
   "metadata": {},
   "source": [
    "Las **métricas de clasificación** más utilizadas son:\n",
    " - accuracy: % de aciertos\n",
    " - precision\n",
    " - recall\n",
    " - f_beta"
   ]
  },
  {
   "cell_type": "markdown",
   "id": "795a3f07-8ebe-4682-84ea-5dd2a7437013",
   "metadata": {},
   "source": [
    "**Ejercicio**: qué modelo tiene mayor accuracy?"
   ]
  },
  {
   "cell_type": "code",
   "execution_count": 20,
   "id": "5f7bb402-2761-4120-8073-f8aa4b29d608",
   "metadata": {},
   "outputs": [
    {
     "data": {
      "text/html": [
       "<div>\n",
       "<style scoped>\n",
       "    .dataframe tbody tr th:only-of-type {\n",
       "        vertical-align: middle;\n",
       "    }\n",
       "\n",
       "    .dataframe tbody tr th {\n",
       "        vertical-align: top;\n",
       "    }\n",
       "\n",
       "    .dataframe thead th {\n",
       "        text-align: right;\n",
       "    }\n",
       "</style>\n",
       "<table border=\"1\" class=\"dataframe\">\n",
       "  <thead>\n",
       "    <tr style=\"text-align: right;\">\n",
       "      <th></th>\n",
       "      <th>tipo_planta_real</th>\n",
       "      <th>pred_modelo_1</th>\n",
       "      <th>pred_modelo_2</th>\n",
       "    </tr>\n",
       "  </thead>\n",
       "  <tbody>\n",
       "    <tr>\n",
       "      <th>0</th>\n",
       "      <td>agua</td>\n",
       "      <td>agua</td>\n",
       "      <td>tierra</td>\n",
       "    </tr>\n",
       "    <tr>\n",
       "      <th>1</th>\n",
       "      <td>tierra</td>\n",
       "      <td>tierra</td>\n",
       "      <td>tierra</td>\n",
       "    </tr>\n",
       "    <tr>\n",
       "      <th>2</th>\n",
       "      <td>agua</td>\n",
       "      <td>agua</td>\n",
       "      <td>agua</td>\n",
       "    </tr>\n",
       "    <tr>\n",
       "      <th>3</th>\n",
       "      <td>tierra</td>\n",
       "      <td>tierra</td>\n",
       "      <td>agua</td>\n",
       "    </tr>\n",
       "    <tr>\n",
       "      <th>4</th>\n",
       "      <td>tierra</td>\n",
       "      <td>agua</td>\n",
       "      <td>tierra</td>\n",
       "    </tr>\n",
       "    <tr>\n",
       "      <th>5</th>\n",
       "      <td>tierra</td>\n",
       "      <td>tierra</td>\n",
       "      <td>agua</td>\n",
       "    </tr>\n",
       "  </tbody>\n",
       "</table>\n",
       "</div>"
      ],
      "text/plain": [
       "  tipo_planta_real pred_modelo_1 pred_modelo_2\n",
       "0             agua          agua        tierra\n",
       "1           tierra        tierra        tierra\n",
       "2             agua          agua          agua\n",
       "3           tierra        tierra          agua\n",
       "4           tierra          agua        tierra\n",
       "5           tierra        tierra          agua"
      ]
     },
     "execution_count": 20,
     "metadata": {},
     "output_type": "execute_result"
    }
   ],
   "source": [
    "pd.DataFrame({\n",
    "    'tipo_planta_real': ['agua', 'tierra', 'agua', 'tierra', 'tierra', 'tierra'],\n",
    "    'pred_modelo_1': ['agua', 'tierra', 'agua', 'tierra', 'agua', 'tierra'],\n",
    "    'pred_modelo_2': ['tierra', 'tierra', 'agua', 'agua', 'tierra', 'agua']\n",
    "})"
   ]
  },
  {
   "cell_type": "markdown",
   "id": "92d04560-7ad9-401e-8838-9fd6b5786cc9",
   "metadata": {},
   "source": [
    "## Underfitting y Overfitting "
   ]
  },
  {
   "cell_type": "markdown",
   "id": "425b807f-6ce9-48ea-a2de-123c3745b588",
   "metadata": {},
   "source": [
    " * El **underfitting** suele ser la consecuencia de que un modelo sea insuficiente de capturar las relaciones entre las variables. Puede ocurrir cuando se intentan representar relaciones no lineales con un modelo lineal. Los modelos infraajustados suelen tener un rendimiento pobre tanto en el conjunto de entrenamiento como en el de test.\n",
    "\n",
    " * El **overfitting** suele tener lugar cuando un modelo tiene una **estructura excesivamente compleja** y aprende tanto las relaciones existentes entre los datos como del ruido. Estos modelos suelen tener una **mala capacidad de generalización**: funcionan _demasiado_ bien en el train pero mal en el test."
   ]
  },
  {
   "cell_type": "markdown",
   "id": "e987c232-f33b-4b48-94f3-2bccc6784aa4",
   "metadata": {},
   "source": [
    "## Train / Test split"
   ]
  },
  {
   "cell_type": "markdown",
   "id": "4d02eef7",
   "metadata": {},
   "source": [
    "La división train/test es una técnica para **evaluar el rendimiento** de un algoritmo de aprendizaje automático **supervisado** *sin hacernos trampas a nosotros mismos*\n",
    "\n",
    "Se utiliza tanto para problemas de clasificación o regresión."
   ]
  },
  {
   "cell_type": "markdown",
   "id": "05ccd67f",
   "metadata": {},
   "source": [
    "<span style=\"color:orange\">**predictors X**</span>\n",
    "<span style=\"color:lightblue\">**target y**</span>  "
   ]
  },
  {
   "cell_type": "markdown",
   "id": "ed89d5bb",
   "metadata": {},
   "source": [
    "<img width=800 src=\"https://www.dataquest.io/wp-content/uploads/kaggle_train_test_split.svg\" width=\"500\">"
   ]
  },
  {
   "cell_type": "code",
   "execution_count": 21,
   "id": "71bd9efb-f69f-4dee-8f41-efa309af10ad",
   "metadata": {},
   "outputs": [
    {
     "data": {
      "text/html": [
       "<div>\n",
       "<style scoped>\n",
       "    .dataframe tbody tr th:only-of-type {\n",
       "        vertical-align: middle;\n",
       "    }\n",
       "\n",
       "    .dataframe tbody tr th {\n",
       "        vertical-align: top;\n",
       "    }\n",
       "\n",
       "    .dataframe thead th {\n",
       "        text-align: right;\n",
       "    }\n",
       "</style>\n",
       "<table border=\"1\" class=\"dataframe\">\n",
       "  <thead>\n",
       "    <tr style=\"text-align: right;\">\n",
       "      <th></th>\n",
       "      <th>mean_radius</th>\n",
       "      <th>mean_texture</th>\n",
       "      <th>mean_perimeter</th>\n",
       "      <th>mean_area</th>\n",
       "      <th>mean_smoothness</th>\n",
       "      <th>mean_compactness</th>\n",
       "      <th>mean_concavity</th>\n",
       "      <th>is_cancer</th>\n",
       "    </tr>\n",
       "  </thead>\n",
       "  <tbody>\n",
       "    <tr>\n",
       "      <th>0</th>\n",
       "      <td>17.910</td>\n",
       "      <td>21.02</td>\n",
       "      <td>124.40</td>\n",
       "      <td>994.0</td>\n",
       "      <td>0.12300</td>\n",
       "      <td>0.25760</td>\n",
       "      <td>0.318900</td>\n",
       "      <td>1</td>\n",
       "    </tr>\n",
       "    <tr>\n",
       "      <th>1</th>\n",
       "      <td>10.260</td>\n",
       "      <td>12.22</td>\n",
       "      <td>65.75</td>\n",
       "      <td>321.6</td>\n",
       "      <td>0.09996</td>\n",
       "      <td>0.07542</td>\n",
       "      <td>0.019230</td>\n",
       "      <td>0</td>\n",
       "    </tr>\n",
       "    <tr>\n",
       "      <th>2</th>\n",
       "      <td>14.220</td>\n",
       "      <td>23.12</td>\n",
       "      <td>94.37</td>\n",
       "      <td>609.9</td>\n",
       "      <td>0.10750</td>\n",
       "      <td>0.24130</td>\n",
       "      <td>0.198100</td>\n",
       "      <td>1</td>\n",
       "    </tr>\n",
       "    <tr>\n",
       "      <th>3</th>\n",
       "      <td>9.755</td>\n",
       "      <td>28.20</td>\n",
       "      <td>61.68</td>\n",
       "      <td>290.9</td>\n",
       "      <td>0.07984</td>\n",
       "      <td>0.04626</td>\n",
       "      <td>0.015410</td>\n",
       "      <td>0</td>\n",
       "    </tr>\n",
       "    <tr>\n",
       "      <th>4</th>\n",
       "      <td>9.738</td>\n",
       "      <td>11.97</td>\n",
       "      <td>61.24</td>\n",
       "      <td>288.5</td>\n",
       "      <td>0.09250</td>\n",
       "      <td>0.04102</td>\n",
       "      <td>0.000000</td>\n",
       "      <td>0</td>\n",
       "    </tr>\n",
       "    <tr>\n",
       "      <th>...</th>\n",
       "      <td>...</td>\n",
       "      <td>...</td>\n",
       "      <td>...</td>\n",
       "      <td>...</td>\n",
       "      <td>...</td>\n",
       "      <td>...</td>\n",
       "      <td>...</td>\n",
       "      <td>...</td>\n",
       "    </tr>\n",
       "    <tr>\n",
       "      <th>564</th>\n",
       "      <td>13.740</td>\n",
       "      <td>17.91</td>\n",
       "      <td>88.12</td>\n",
       "      <td>585.0</td>\n",
       "      <td>0.07944</td>\n",
       "      <td>0.06376</td>\n",
       "      <td>0.028810</td>\n",
       "      <td>0</td>\n",
       "    </tr>\n",
       "    <tr>\n",
       "      <th>565</th>\n",
       "      <td>10.160</td>\n",
       "      <td>19.59</td>\n",
       "      <td>64.73</td>\n",
       "      <td>311.7</td>\n",
       "      <td>0.10030</td>\n",
       "      <td>0.07504</td>\n",
       "      <td>0.005025</td>\n",
       "      <td>0</td>\n",
       "    </tr>\n",
       "    <tr>\n",
       "      <th>566</th>\n",
       "      <td>14.710</td>\n",
       "      <td>21.59</td>\n",
       "      <td>95.55</td>\n",
       "      <td>656.9</td>\n",
       "      <td>0.11370</td>\n",
       "      <td>0.13650</td>\n",
       "      <td>0.129300</td>\n",
       "      <td>1</td>\n",
       "    </tr>\n",
       "    <tr>\n",
       "      <th>567</th>\n",
       "      <td>18.660</td>\n",
       "      <td>17.12</td>\n",
       "      <td>121.40</td>\n",
       "      <td>1077.0</td>\n",
       "      <td>0.10540</td>\n",
       "      <td>0.11000</td>\n",
       "      <td>0.145700</td>\n",
       "      <td>1</td>\n",
       "    </tr>\n",
       "    <tr>\n",
       "      <th>568</th>\n",
       "      <td>18.080</td>\n",
       "      <td>21.84</td>\n",
       "      <td>117.40</td>\n",
       "      <td>1024.0</td>\n",
       "      <td>0.07371</td>\n",
       "      <td>0.08642</td>\n",
       "      <td>0.110300</td>\n",
       "      <td>1</td>\n",
       "    </tr>\n",
       "  </tbody>\n",
       "</table>\n",
       "<p>569 rows × 8 columns</p>\n",
       "</div>"
      ],
      "text/plain": [
       "     mean_radius  mean_texture  mean_perimeter  mean_area  mean_smoothness  \\\n",
       "0         17.910         21.02          124.40      994.0          0.12300   \n",
       "1         10.260         12.22           65.75      321.6          0.09996   \n",
       "2         14.220         23.12           94.37      609.9          0.10750   \n",
       "3          9.755         28.20           61.68      290.9          0.07984   \n",
       "4          9.738         11.97           61.24      288.5          0.09250   \n",
       "..           ...           ...             ...        ...              ...   \n",
       "564       13.740         17.91           88.12      585.0          0.07944   \n",
       "565       10.160         19.59           64.73      311.7          0.10030   \n",
       "566       14.710         21.59           95.55      656.9          0.11370   \n",
       "567       18.660         17.12          121.40     1077.0          0.10540   \n",
       "568       18.080         21.84          117.40     1024.0          0.07371   \n",
       "\n",
       "     mean_compactness  mean_concavity  is_cancer  \n",
       "0             0.25760        0.318900          1  \n",
       "1             0.07542        0.019230          0  \n",
       "2             0.24130        0.198100          1  \n",
       "3             0.04626        0.015410          0  \n",
       "4             0.04102        0.000000          0  \n",
       "..                ...             ...        ...  \n",
       "564           0.06376        0.028810          0  \n",
       "565           0.07504        0.005025          0  \n",
       "566           0.13650        0.129300          1  \n",
       "567           0.11000        0.145700          1  \n",
       "568           0.08642        0.110300          1  \n",
       "\n",
       "[569 rows x 8 columns]"
      ]
     },
     "execution_count": 21,
     "metadata": {},
     "output_type": "execute_result"
    }
   ],
   "source": [
    "df"
   ]
  },
  {
   "cell_type": "code",
   "execution_count": 23,
   "id": "224e083e-cf73-4896-b72c-b14ff35f460c",
   "metadata": {},
   "outputs": [],
   "source": [
    "X = df.drop(\"is_cancer\", axis=1)"
   ]
  },
  {
   "cell_type": "code",
   "execution_count": 24,
   "id": "0f577c85-c7c8-4943-b753-cfc2029a0212",
   "metadata": {},
   "outputs": [],
   "source": [
    "y = df.is_cancer"
   ]
  },
  {
   "cell_type": "code",
   "execution_count": 26,
   "id": "b83be3e3-8a4d-4310-a59e-3e2df5eb5ffd",
   "metadata": {},
   "outputs": [
    {
     "data": {
      "text/html": [
       "<div>\n",
       "<style scoped>\n",
       "    .dataframe tbody tr th:only-of-type {\n",
       "        vertical-align: middle;\n",
       "    }\n",
       "\n",
       "    .dataframe tbody tr th {\n",
       "        vertical-align: top;\n",
       "    }\n",
       "\n",
       "    .dataframe thead th {\n",
       "        text-align: right;\n",
       "    }\n",
       "</style>\n",
       "<table border=\"1\" class=\"dataframe\">\n",
       "  <thead>\n",
       "    <tr style=\"text-align: right;\">\n",
       "      <th></th>\n",
       "      <th>mean_radius</th>\n",
       "      <th>mean_texture</th>\n",
       "      <th>mean_perimeter</th>\n",
       "      <th>mean_area</th>\n",
       "      <th>mean_smoothness</th>\n",
       "      <th>mean_compactness</th>\n",
       "      <th>mean_concavity</th>\n",
       "    </tr>\n",
       "  </thead>\n",
       "  <tbody>\n",
       "    <tr>\n",
       "      <th>0</th>\n",
       "      <td>17.910</td>\n",
       "      <td>21.02</td>\n",
       "      <td>124.40</td>\n",
       "      <td>994.0</td>\n",
       "      <td>0.12300</td>\n",
       "      <td>0.25760</td>\n",
       "      <td>0.31890</td>\n",
       "    </tr>\n",
       "    <tr>\n",
       "      <th>1</th>\n",
       "      <td>10.260</td>\n",
       "      <td>12.22</td>\n",
       "      <td>65.75</td>\n",
       "      <td>321.6</td>\n",
       "      <td>0.09996</td>\n",
       "      <td>0.07542</td>\n",
       "      <td>0.01923</td>\n",
       "    </tr>\n",
       "    <tr>\n",
       "      <th>2</th>\n",
       "      <td>14.220</td>\n",
       "      <td>23.12</td>\n",
       "      <td>94.37</td>\n",
       "      <td>609.9</td>\n",
       "      <td>0.10750</td>\n",
       "      <td>0.24130</td>\n",
       "      <td>0.19810</td>\n",
       "    </tr>\n",
       "    <tr>\n",
       "      <th>3</th>\n",
       "      <td>9.755</td>\n",
       "      <td>28.20</td>\n",
       "      <td>61.68</td>\n",
       "      <td>290.9</td>\n",
       "      <td>0.07984</td>\n",
       "      <td>0.04626</td>\n",
       "      <td>0.01541</td>\n",
       "    </tr>\n",
       "    <tr>\n",
       "      <th>4</th>\n",
       "      <td>9.738</td>\n",
       "      <td>11.97</td>\n",
       "      <td>61.24</td>\n",
       "      <td>288.5</td>\n",
       "      <td>0.09250</td>\n",
       "      <td>0.04102</td>\n",
       "      <td>0.00000</td>\n",
       "    </tr>\n",
       "  </tbody>\n",
       "</table>\n",
       "</div>"
      ],
      "text/plain": [
       "   mean_radius  mean_texture  mean_perimeter  mean_area  mean_smoothness  \\\n",
       "0       17.910         21.02          124.40      994.0          0.12300   \n",
       "1       10.260         12.22           65.75      321.6          0.09996   \n",
       "2       14.220         23.12           94.37      609.9          0.10750   \n",
       "3        9.755         28.20           61.68      290.9          0.07984   \n",
       "4        9.738         11.97           61.24      288.5          0.09250   \n",
       "\n",
       "   mean_compactness  mean_concavity  \n",
       "0           0.25760         0.31890  \n",
       "1           0.07542         0.01923  \n",
       "2           0.24130         0.19810  \n",
       "3           0.04626         0.01541  \n",
       "4           0.04102         0.00000  "
      ]
     },
     "execution_count": 26,
     "metadata": {},
     "output_type": "execute_result"
    }
   ],
   "source": [
    "X.head()"
   ]
  },
  {
   "cell_type": "code",
   "execution_count": 27,
   "id": "062b7684-091a-4a34-bb35-2ae56c5b61e9",
   "metadata": {},
   "outputs": [
    {
     "data": {
      "text/plain": [
       "0    1\n",
       "1    0\n",
       "2    1\n",
       "3    0\n",
       "4    0\n",
       "Name: is_cancer, dtype: int64"
      ]
     },
     "execution_count": 27,
     "metadata": {},
     "output_type": "execute_result"
    }
   ],
   "source": [
    "y.head()"
   ]
  },
  {
   "cell_type": "code",
   "execution_count": 28,
   "id": "a4b1ca5a-c4c6-4ff0-b090-12c3a7d1125d",
   "metadata": {},
   "outputs": [],
   "source": [
    "from sklearn.model_selection import train_test_split"
   ]
  },
  {
   "cell_type": "code",
   "execution_count": 37,
   "id": "3fe80f22-2033-445c-a1e3-87eb2624271d",
   "metadata": {},
   "outputs": [
    {
     "data": {
      "text/plain": [
       "(569, 8)"
      ]
     },
     "execution_count": 37,
     "metadata": {},
     "output_type": "execute_result"
    }
   ],
   "source": [
    "df.shape"
   ]
  },
  {
   "cell_type": "code",
   "execution_count": 29,
   "id": "dc2b4d23-a5fe-48fe-a9cb-4d8addf82974",
   "metadata": {},
   "outputs": [],
   "source": [
    "X_train, X_test, y_train, y_test = train_test_split(X, y, test_size=0.2)"
   ]
  },
  {
   "cell_type": "code",
   "execution_count": 31,
   "id": "3bc46901-3c27-4550-9c58-d3ef80aaa185",
   "metadata": {},
   "outputs": [
    {
     "data": {
      "text/plain": [
       "(426, 7)"
      ]
     },
     "execution_count": 31,
     "metadata": {},
     "output_type": "execute_result"
    }
   ],
   "source": [
    "X_train.shape"
   ]
  },
  {
   "cell_type": "code",
   "execution_count": 32,
   "id": "08e09f4d-0cf3-4690-821e-1a4605495758",
   "metadata": {},
   "outputs": [
    {
     "data": {
      "text/plain": [
       "(143, 7)"
      ]
     },
     "execution_count": 32,
     "metadata": {},
     "output_type": "execute_result"
    }
   ],
   "source": [
    "X_test.shape"
   ]
  },
  {
   "cell_type": "code",
   "execution_count": 34,
   "id": "476b13c8-2553-4e8b-866c-bf32c3388b3c",
   "metadata": {},
   "outputs": [
    {
     "data": {
      "text/plain": [
       "(426,)"
      ]
     },
     "execution_count": 34,
     "metadata": {},
     "output_type": "execute_result"
    }
   ],
   "source": [
    "y_train.shape"
   ]
  },
  {
   "cell_type": "code",
   "execution_count": 36,
   "id": "2f489c7d-9b54-4225-aa5e-2d88e7bcae28",
   "metadata": {},
   "outputs": [
    {
     "data": {
      "text/plain": [
       "(143,)"
      ]
     },
     "execution_count": 36,
     "metadata": {},
     "output_type": "execute_result"
    }
   ],
   "source": [
    "y_test.shape"
   ]
  },
  {
   "cell_type": "markdown",
   "id": "5b38a931",
   "metadata": {},
   "source": [
    "El procedimiento consiste en:\n",
    " * tomar el conjunto de datos (predictores + target).\n",
    " * dividirlo en dos subconjuntos (generalmente 80% y 20%):\n",
    "   * train: utilizado para entrenar el modelo.\n",
    "   * test: utilizado para evaluar el rendimiento del modelo (**no** se utiliza para entrenarlo).\n",
    " * entrenar el modelo con el conjunto de train.\n",
    " * predecir sobre el conjunto de test.\n",
    " * evaluar la métrica de rendimiento sobre el test: comparar **real** vs **predicted**\n",
    " \n",
    "El objetivo es estimar el rendimiento futuro del modelo con datos nunca vistos antes."
   ]
  },
  {
   "cell_type": "markdown",
   "id": "5c940c71",
   "metadata": {},
   "source": [
    "## Cross-Validation"
   ]
  },
  {
   "cell_type": "markdown",
   "id": "1fa7411f-969d-4c5e-a35f-e7734dff7eef",
   "metadata": {},
   "source": [
    "El train/test split es una buena técnica para evaluar la performance de un modelo.\n",
    "\n",
    "Aún así, el test score (la métrica evaluada en el test) depende de la *suerte* en la elección del conjunto de test. Existe una técnica más robusta de validación: Cross Validation"
   ]
  },
  {
   "cell_type": "markdown",
   "id": "03ef66f0",
   "metadata": {},
   "source": [
    "La validación cruzada (cross-validation) es una técnica utilizada para **evaluar la performance** de un modelo **sin depender fuertemente** de una partición particular train/test.\n",
    "\n",
    " * Se apoya en la técnica del train/test split.\n",
    " * Repite la técnica K veces (usualmente K=5)\n",
    " * Promedia el test score de las K veces. "
   ]
  },
  {
   "cell_type": "markdown",
   "id": "a6418767",
   "metadata": {},
   "source": [
    "<img width=800 src=\"http://ethen8181.github.io/machine-learning/model_selection/img/kfolds.png\">"
   ]
  },
  {
   "cell_type": "markdown",
   "id": "add48614",
   "metadata": {},
   "source": [
    "Como vemos en la imagen, en el caso K=5:  \n",
    "**Iterar 5 veces:**      \n",
    "1. Apartamos 1/5 de muestras (validation fold, también llamado a veces test fold).\n",
    "2. Entrenamos al modelo con el restante 4/5 de muestras.\n",
    "3. Medimos el performance (métrica) sobre el validation fold. El resultado es un número real.\n",
    "\n",
    "El performance será la media aritmética de los 5 folds."
   ]
  }
 ],
 "metadata": {
  "kernelspec": {
   "display_name": "Python 3 (ipykernel)",
   "language": "python",
   "name": "python3"
  },
  "language_info": {
   "codemirror_mode": {
    "name": "ipython",
    "version": 3
   },
   "file_extension": ".py",
   "mimetype": "text/x-python",
   "name": "python",
   "nbconvert_exporter": "python",
   "pygments_lexer": "ipython3",
   "version": "3.10.12"
  },
  "toc": {
   "base_numbering": 1,
   "nav_menu": {},
   "number_sections": true,
   "sideBar": true,
   "skip_h1_title": true,
   "title_cell": "Table of Contents",
   "title_sidebar": "Contents",
   "toc_cell": true,
   "toc_position": {
    "height": "calc(100% - 180px)",
    "left": "10px",
    "top": "150px",
    "width": "288px"
   },
   "toc_section_display": true,
   "toc_window_display": true
  },
  "varInspector": {
   "cols": {
    "lenName": 16,
    "lenType": 16,
    "lenVar": 40
   },
   "kernels_config": {
    "python": {
     "delete_cmd_postfix": "",
     "delete_cmd_prefix": "del ",
     "library": "var_list.py",
     "varRefreshCmd": "print(var_dic_list())"
    },
    "r": {
     "delete_cmd_postfix": ") ",
     "delete_cmd_prefix": "rm(",
     "library": "var_list.r",
     "varRefreshCmd": "cat(var_dic_list()) "
    }
   },
   "types_to_exclude": [
    "module",
    "function",
    "builtin_function_or_method",
    "instance",
    "_Feature"
   ],
   "window_display": false
  }
 },
 "nbformat": 4,
 "nbformat_minor": 5
}
