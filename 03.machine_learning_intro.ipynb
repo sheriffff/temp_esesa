{
 "cells": [
  {
   "cell_type": "markdown",
   "id": "b4f4dd8e",
   "metadata": {},
   "source": [
    "# Machine Learning: introducción"
   ]
  },
  {
   "cell_type": "markdown",
   "id": "3259d308-0fbd-4299-b285-72d688d59782",
   "metadata": {},
   "source": [
    "<img width=500 src=\"https://miro.medium.com/v2/resize:fit:700/1*x7P7gqjo8k2_bj2rTQWAfg.jpeg\">"
   ]
  },
  {
   "cell_type": "markdown",
   "id": "84b2c424-c76e-4d41-a474-1034d8b10f36",
   "metadata": {},
   "source": [
    "El Machine Learning (aprendizaje automático) es una disciplina del campo de la Inteligencia Artificial que, a través de algoritmos, dota a los ordenadores de la capacidad de identificar patrones en datos masivos y elaborar predicciones."
   ]
  },
  {
   "cell_type": "markdown",
   "id": "0433dec5",
   "metadata": {},
   "source": [
    "## Tipos de Aprendizaje Automático"
   ]
  },
  {
   "cell_type": "markdown",
   "id": "ce08fdc9-026a-40b5-b289-185166166486",
   "metadata": {},
   "source": [
    "<img width=800 src=\"https://www.researchgate.net/publication/354960266/figure/fig1/AS:1075175843983363@1633353305883/The-main-types-of-machine-learning-Main-approaches-include-classification-and.png\">"
   ]
  },
  {
   "cell_type": "markdown",
   "id": "54137645",
   "metadata": {},
   "source": [
    "### Supervisado"
   ]
  },
  {
   "cell_type": "markdown",
   "id": "e81e6d14-8da4-4d43-a885-00296342fa45",
   "metadata": {},
   "source": [
    "Los datos están **etiquetados** (se conoce la *verdad* sobre un histórico de observaciones). Al modelo se le presentan datos con su etiqueta, y el modelo infiere patrones para más tarde hacer predicciones.\n",
    "\n",
    "**SÍ hay una variable objetivo, que queremos aprender a predecir**"
   ]
  },
  {
   "cell_type": "markdown",
   "id": "f6ed7f97-124e-48d7-b31a-cebf1cd4ac40",
   "metadata": {},
   "source": [
    "Hay fundamentalmente 2 clases de problemas:\n",
    "  * Regresión: predecimos una variable cuantitativa. Ejemplos:\n",
    "     * Dadas el número de horas de estudio y de fiesta de un estudiante, predecir qué nota sacará en un exámen\n",
    "     * Dadas las características de un jugador de basket, predecir su salario.\n",
    "     * Dada una imagen con una cara, predecir la edad de la persona\n",
    "  * Clasificación: predecimos una variable cualitativa. Puede ser binaria o multiclase. Ejemplos:\n",
    "     * Dadas propiedades de un nódulo, predecir si se desarrolla o no cáncer.\n",
    "     * Dado un cliente, predecir si devuelve o no un préstamo.\n",
    "     * Dada una imagen, predecir si hay un gato o un perro.\n",
    "     * Dadas un artículo de prensa, predecir a cuál de entre 5 categorías corresponde."
   ]
  },
  {
   "cell_type": "markdown",
   "id": "3152f07e",
   "metadata": {},
   "source": [
    "### No supervisado"
   ]
  },
  {
   "cell_type": "markdown",
   "id": "3df513dc",
   "metadata": {},
   "source": [
    "Los datos **no** están **etiquetados**. El modelo busca patrones de similaridad entre observaciones. \n",
    "\n",
    "**NO hay una variable objetivo a predecir**\n",
    "\n",
    "Ejemplos:\n",
    "  * Jugadores similares del FIFA.\n",
    "  * Compradores del supermercado semejantes.\n",
    "  * Estaciones de BICIMAD similares."
   ]
  },
  {
   "cell_type": "markdown",
   "id": "030ed839-90e8-4314-ae60-19537b97a36c",
   "metadata": {},
   "source": [
    "### Aprendizaje por refuerzo"
   ]
  },
  {
   "cell_type": "markdown",
   "id": "7cacd9a7-3858-4317-9baa-23e0ea5f2061",
   "metadata": {},
   "source": [
    "Los datos se van generando dinámicamente.  \n",
    "La máquina aprende a optimizar sus acciones en función de las recompensas que obtiene.\n",
    "\n",
    "Ejemplos:\n",
    " - Entrenar un agente para jugar y ganar al Ajedrez\n",
    " - Entrenar un agente para jugar y ganar a un videojuego\n",
    " - Entrenar un agente para invertir en bolsa"
   ]
  },
  {
   "cell_type": "markdown",
   "id": "bbdeedb3-3b29-4503-ab8f-0932fa62b8a2",
   "metadata": {},
   "source": [
    "**Ejercicio**: de qué tipo de ML se tratan:\n",
    " - dadas varias características de una planta, predecir si es acuática o terrestre\n",
    " - dadas celdas de telefonía distribuidas por España, decidir cuáles tienen naturaleza similar\n",
    " - dados varios indicadores meteorológicos, predecir la temperatura"
   ]
  },
  {
   "cell_type": "markdown",
   "id": "53919339",
   "metadata": {},
   "source": [
    "## Features"
   ]
  },
  {
   "cell_type": "markdown",
   "id": "a87f530b",
   "metadata": {},
   "source": [
    "Las **features** son las variables (columnas) presentes en nuestro dataset.  \n",
    "\n",
    "En el caso del aprendizaje supervisado, diferenciamos entre:\n",
    "  * target: variable que queremos predecir.\n",
    "  * predictores: variables utilizadas para predecir."
   ]
  },
  {
   "cell_type": "code",
   "execution_count": null,
   "id": "92802c59",
   "metadata": {},
   "outputs": [],
   "source": [
    "import pandas as pd"
   ]
  },
  {
   "cell_type": "code",
   "execution_count": null,
   "id": "1e31ad73",
   "metadata": {},
   "outputs": [],
   "source": [
    "df = pd.read_csv(\"./datasets/breast_cancer_bis.csv\")"
   ]
  },
  {
   "cell_type": "code",
   "execution_count": null,
   "id": "63d57b87",
   "metadata": {},
   "outputs": [],
   "source": [
    "df.shape"
   ]
  },
  {
   "cell_type": "code",
   "execution_count": null,
   "id": "d6e5df3b-da05-4bbb-ac3a-eb387c8830f2",
   "metadata": {},
   "outputs": [],
   "source": [
    "df.head()"
   ]
  },
  {
   "cell_type": "markdown",
   "id": "f4afb001-1302-4b45-a2fe-648c44d15c3e",
   "metadata": {},
   "source": [
    "## Métricas"
   ]
  },
  {
   "cell_type": "markdown",
   "id": "78397e6a-f59b-4da7-8ee4-e7bda1d4450b",
   "metadata": {},
   "source": [
    "En análisis supervisado...\n",
    "\n",
    "Cómo sabemos si un modelo funciona mejor que otro?\n",
    "\n",
    "Hemos de comparar la realidad con sus predicciones"
   ]
  },
  {
   "cell_type": "markdown",
   "id": "eed4eec0-3672-408d-8e94-f615b70802d2",
   "metadata": {},
   "source": [
    "Las métricas más utilizadas son:\n",
    " - regresión:\n",
    "   - MSE: mean squared error\n",
    "   - MAE: mean absolute error\n",
    "   - logMSE: mean squared logarithmic error\n",
    " - clasificación:\n",
    "   - accuracy: % de aciertos\n",
    "   - precision\n",
    "   - recall\n",
    "   - f_beta"
   ]
  },
  {
   "cell_type": "markdown",
   "id": "298fed81-e08f-4e39-a802-c92ce441efb3",
   "metadata": {},
   "source": [
    "**Ejercicio**: qué modelo tiene menor MSE?"
   ]
  },
  {
   "cell_type": "code",
   "execution_count": null,
   "id": "361e040b-8e2b-4dc5-89c8-4404fcaefdc4",
   "metadata": {},
   "outputs": [],
   "source": [
    "pd.DataFrame({\n",
    "    'temperatura_real': [25.9, 29.3, 27.0, 25.9, 23.4],\n",
    "    'pred_modelo_1': [27.8, 29.0, 26.8, 26.7, 23.7],\n",
    "    'pred_modelo_2': [28.2, 29.6, 28.3, 26.9, 27.9]\n",
    "})"
   ]
  },
  {
   "cell_type": "markdown",
   "id": "795a3f07-8ebe-4682-84ea-5dd2a7437013",
   "metadata": {},
   "source": [
    "**Ejercicio**: qué modelo tiene mayor accuracy?"
   ]
  },
  {
   "cell_type": "code",
   "execution_count": null,
   "id": "5f7bb402-2761-4120-8073-f8aa4b29d608",
   "metadata": {},
   "outputs": [],
   "source": [
    "pd.DataFrame({\n",
    "    'tipo_planta_real': ['agua', 'tierra', 'agua', 'tierra', 'tierra', 'tierra'],\n",
    "    'pred_modelo_1': ['agua', 'tierra', 'agua', 'tierra', 'agua', 'tierra'],\n",
    "    'pred_modelo_2': ['tierra', 'tierra', 'agua', 'agua', 'tierra', 'agua']\n",
    "})"
   ]
  },
  {
   "cell_type": "markdown",
   "id": "92d04560-7ad9-401e-8838-9fd6b5786cc9",
   "metadata": {},
   "source": [
    "## Underfitting y Overfitting "
   ]
  },
  {
   "cell_type": "markdown",
   "id": "425b807f-6ce9-48ea-a2de-123c3745b588",
   "metadata": {},
   "source": [
    " * El **underfitting** suele ser la consecuencia de que un modelo sea insuficiente de capturar las relaciones entre las variables. Puede ocurrir cuando se intentan representar relaciones no lineales con un modelo lineal. Los modelos infraajustados suelen tener un rendimiento pobre tanto en el conjunto de entrenamiento como en el de test.\n",
    "\n",
    " * El **overfitting** suele tener lugar cuando un modelo tiene una **estructura excesivamente compleja** y aprende tanto las relaciones existentes entre los datos como del ruido. Estos modelos suelen tener una **mala capacidad de generalización**: funcionan _demasiado_ bien en el train pero mal en el test."
   ]
  },
  {
   "cell_type": "markdown",
   "id": "e987c232-f33b-4b48-94f3-2bccc6784aa4",
   "metadata": {},
   "source": [
    "## Train / Test split"
   ]
  },
  {
   "cell_type": "markdown",
   "id": "4d02eef7",
   "metadata": {},
   "source": [
    "La división train/test es una técnica para **evaluar el rendimiento** de un algoritmo de aprendizaje automático **supervisado** *sin hacernos trampas a nosotros mismos*\n",
    "\n",
    "Se utiliza tanto para problemas de clasificación o regresión."
   ]
  },
  {
   "cell_type": "markdown",
   "id": "05ccd67f",
   "metadata": {},
   "source": [
    "<span style=\"color:orange\">**predictors X**</span>\n",
    "<span style=\"color:lightblue\">**target y**</span>  "
   ]
  },
  {
   "cell_type": "markdown",
   "id": "ed89d5bb",
   "metadata": {},
   "source": [
    "<img width=800 src=\"https://www.dataquest.io/wp-content/uploads/kaggle_train_test_split.svg\" width=\"500\">"
   ]
  },
  {
   "cell_type": "markdown",
   "id": "5b38a931",
   "metadata": {},
   "source": [
    "El procedimiento consiste en:\n",
    " * tomar el conjunto de datos (predictores + target).\n",
    " * dividirlo en dos subconjuntos (generalmente 80% y 20%):\n",
    "   * train: utilizado para entrenar el modelo.\n",
    "   * test: utilizado para evaluar el rendimiento del modelo (**no** se utiliza para entrenarlo).\n",
    " * entrenar el modelo con el conjunto de train.\n",
    " * predecir sobre el conjunto de test.\n",
    " * evaluar la métrica de rendimiento sobre el test: comparar **real** vs **predicted**\n",
    " \n",
    "El objetivo es estimar el rendimiento futuro del modelo con datos nunca vistos antes."
   ]
  },
  {
   "cell_type": "markdown",
   "id": "5c940c71",
   "metadata": {},
   "source": [
    "## Cross-Validation"
   ]
  },
  {
   "cell_type": "markdown",
   "id": "1fa7411f-969d-4c5e-a35f-e7734dff7eef",
   "metadata": {},
   "source": [
    "El train/test split es una buena técnica para evaluar la performance de un modelo.\n",
    "\n",
    "Aún así, el test score (la métrica evaluada en el test) depende de la *suerte* en la elección del conjunto de test. Existe una técnica más robusta de validación: Cross Validation"
   ]
  },
  {
   "cell_type": "markdown",
   "id": "03ef66f0",
   "metadata": {},
   "source": [
    "La validación cruzada (cross-validation) es una técnica utilizada para **evaluar la performance** de un modelo **sin depender fuertemente** de una partición particular train/test.\n",
    "\n",
    " * Se apoya en la técnica del train/test split.\n",
    " * Repite la técnica K veces (usualmente K=5)\n",
    " * Promedia el test score de las K veces. "
   ]
  },
  {
   "cell_type": "markdown",
   "id": "a6418767",
   "metadata": {},
   "source": [
    "<img width=800 src=\"http://ethen8181.github.io/machine-learning/model_selection/img/kfolds.png\">"
   ]
  },
  {
   "cell_type": "markdown",
   "id": "add48614",
   "metadata": {},
   "source": [
    "Como vemos en la imagen, en el caso K=5:  \n",
    "**Iterar 5 veces:**      \n",
    "1. Apartamos 1/5 de muestras (validation fold, también llamado a veces test fold).\n",
    "2. Entrenamos al modelo con el restante 4/5 de muestras.\n",
    "3. Medimos el performance (métrica) sobre el validation fold. El resultado es un número real.\n",
    "\n",
    "El performance será la media aritmética de los 5 folds."
   ]
  }
 ],
 "metadata": {
  "kernelspec": {
   "display_name": "Python 3 (ipykernel)",
   "language": "python",
   "name": "python3"
  },
  "language_info": {
   "codemirror_mode": {
    "name": "ipython",
    "version": 3
   },
   "file_extension": ".py",
   "mimetype": "text/x-python",
   "name": "python",
   "nbconvert_exporter": "python",
   "pygments_lexer": "ipython3",
   "version": "3.10.12"
  },
  "toc": {
   "base_numbering": 1,
   "nav_menu": {},
   "number_sections": true,
   "sideBar": true,
   "skip_h1_title": true,
   "title_cell": "Table of Contents",
   "title_sidebar": "Contents",
   "toc_cell": true,
   "toc_position": {
    "height": "calc(100% - 180px)",
    "left": "10px",
    "top": "150px",
    "width": "288px"
   },
   "toc_section_display": true,
   "toc_window_display": true
  },
  "varInspector": {
   "cols": {
    "lenName": 16,
    "lenType": 16,
    "lenVar": 40
   },
   "kernels_config": {
    "python": {
     "delete_cmd_postfix": "",
     "delete_cmd_prefix": "del ",
     "library": "var_list.py",
     "varRefreshCmd": "print(var_dic_list())"
    },
    "r": {
     "delete_cmd_postfix": ") ",
     "delete_cmd_prefix": "rm(",
     "library": "var_list.r",
     "varRefreshCmd": "cat(var_dic_list()) "
    }
   },
   "types_to_exclude": [
    "module",
    "function",
    "builtin_function_or_method",
    "instance",
    "_Feature"
   ],
   "window_display": false
  }
 },
 "nbformat": 4,
 "nbformat_minor": 5
}
