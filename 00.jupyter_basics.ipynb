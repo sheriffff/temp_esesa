{
 "cells": [
  {
   "cell_type": "markdown",
   "id": "f1345edc-f4da-4afc-bdb9-2c0bc095b70f",
   "metadata": {},
   "source": [
    "# Jupyter shortcuts"
   ]
  },
  {
   "cell_type": "markdown",
   "id": "0a925810-3fff-4341-84ab-61d2ed1fff93",
   "metadata": {},
   "source": [
    "`ESC`: Entrar en modo comando  \n",
    "\n",
    "`Enter`: Cambiar al modo edición"
   ]
  },
  {
   "cell_type": "code",
   "execution_count": null,
   "id": "f4bd6a3d-d998-416b-b55d-459bc3eecd59",
   "metadata": {},
   "outputs": [],
   "source": []
  },
  {
   "attachments": {},
   "cell_type": "markdown",
   "id": "5e6f79c8-3bb1-415f-a2f0-3dd85971eae5",
   "metadata": {},
   "source": [
    "En modo comando:\n",
    "\n",
    "`A`: Insertar una nueva celda arriba\n",
    "\n",
    "`B`: Insertar una nueva celda abajo\n",
    "\n",
    "`C`: Copiar la celda seleccionada\n",
    "\n",
    "`V`: Pegar la celda copiada\n",
    "\n",
    "`X`: Cortar la celda seleccionada\n",
    "\n",
    "`M`: Cambiar celda a tipo Markdown\n",
    "\n",
    "`Y`: Cambiar celda a tipo código\n",
    "\n",
    "`H`: Mostrar shortcuts\n",
    "\n",
    "`Shift + M`: Mergear celdas"
   ]
  },
  {
   "cell_type": "code",
   "execution_count": null,
   "id": "e0feecad-f953-4688-bd0e-47ab99c50e0f",
   "metadata": {},
   "outputs": [],
   "source": []
  },
  {
   "cell_type": "markdown",
   "id": "006f6665-0f5c-4943-8d71-dde3b9c786bf",
   "metadata": {},
   "source": [
    "En modo edición:  \n",
    "\n",
    "`Tab`: Autocompletar código o indentar \n",
    "\n",
    "`Shift + Tab`: Mostrar documentación del objeto (debe ser usado dentro del código)\n",
    "\n",
    "`Ctrl + Shift + -`: Separar celda en 2"
   ]
  },
  {
   "cell_type": "code",
   "execution_count": null,
   "id": "50c6def2-02d7-47b5-9bd5-2401f6758626",
   "metadata": {},
   "outputs": [],
   "source": []
  },
  {
   "cell_type": "markdown",
   "id": "da3c126e-678b-4f91-a1f1-42f29cc8e9db",
   "metadata": {},
   "source": [
    "`Shift + Enter`: Ejecutar la celda y seleccionar la siguiente"
   ]
  }
 ],
 "metadata": {
  "kernelspec": {
   "display_name": "Python 3 (ipykernel)",
   "language": "python",
   "name": "python3"
  },
  "language_info": {
   "codemirror_mode": {
    "name": "ipython",
    "version": 3
   },
   "file_extension": ".py",
   "mimetype": "text/x-python",
   "name": "python",
   "nbconvert_exporter": "python",
   "pygments_lexer": "ipython3",
   "version": "3.10.12"
  }
 },
 "nbformat": 4,
 "nbformat_minor": 5
}
