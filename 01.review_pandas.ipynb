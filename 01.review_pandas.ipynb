{
 "cells": [
  {
   "cell_type": "markdown",
   "id": "6ff984c2",
   "metadata": {},
   "source": [
    "# pandas: práctica y ejercicios"
   ]
  },
  {
   "cell_type": "markdown",
   "id": "d44e2c06",
   "metadata": {},
   "source": [
    "**NOTAS**\n",
    " - Hay muchas formas de resolver cada problema, encuentra la tuya.\n",
    " - Crea las celdas extra que necesites.\n",
    " - Recuerda que una celda puede ser de tipo Código, o de tipo Markdown. Utiliza las segundas para escribir texto y explicaciones si lo precisas.\n",
    " - Intenta crear variables a la hora de resolver los ejercicios.\n",
    " - Puedes apoyarte en internet: todos los programadores lo hacemos a diario."
   ]
  },
  {
   "cell_type": "markdown",
   "id": "26e9d663-5a4e-495a-a964-20799fdcf43d",
   "metadata": {},
   "source": [
    "<img width=500 src=\"https://upload.wikimedia.org/wikipedia/commons/3/31/TitanicBeken.jpg\">"
   ]
  },
  {
   "cell_type": "markdown",
   "id": "3302cea3",
   "metadata": {},
   "source": [
    "Importamos el csv del titanic a un dataframe"
   ]
  },
  {
   "cell_type": "code",
   "execution_count": null,
   "id": "3bbbdf62",
   "metadata": {},
   "outputs": [],
   "source": [
    "import pandas as pd"
   ]
  },
  {
   "cell_type": "code",
   "execution_count": null,
   "id": "0b97505a",
   "metadata": {},
   "outputs": [],
   "source": [
    "df = pd.read_csv(\"./data/titanic.csv\")"
   ]
  },
  {
   "cell_type": "markdown",
   "id": "b1fc3dc9",
   "metadata": {},
   "source": [
    "Echa un vistazo a las primeras filas del dataframe"
   ]
  },
  {
   "cell_type": "code",
   "execution_count": null,
   "id": "320321a0-f8a1-4dfd-8bf3-b49293605995",
   "metadata": {},
   "outputs": [],
   "source": []
  },
  {
   "cell_type": "markdown",
   "id": "ba6ce66c",
   "metadata": {},
   "source": [
    "Cuántos pasajeros hay en este dataframe?"
   ]
  },
  {
   "cell_type": "code",
   "execution_count": null,
   "id": "bdc56287",
   "metadata": {},
   "outputs": [],
   "source": []
  },
  {
   "cell_type": "markdown",
   "id": "63dc6be1",
   "metadata": {},
   "source": [
    "Cuáles son las columnas del dataframe?"
   ]
  },
  {
   "cell_type": "code",
   "execution_count": null,
   "id": "7f4bc426",
   "metadata": {},
   "outputs": [],
   "source": []
  },
  {
   "cell_type": "markdown",
   "id": "c8c4a169",
   "metadata": {},
   "source": [
    "Cuál es la edad media de los pasajeros? Y la mediana? Cómo interpretas el resultado?"
   ]
  },
  {
   "cell_type": "code",
   "execution_count": null,
   "id": "149d69c1",
   "metadata": {},
   "outputs": [],
   "source": []
  },
  {
   "cell_type": "markdown",
   "id": "a1e2c2b1",
   "metadata": {},
   "source": [
    "Cuánto costó el billete más caro?"
   ]
  },
  {
   "cell_type": "code",
   "execution_count": null,
   "id": "b91deb3f",
   "metadata": {},
   "outputs": [],
   "source": []
  },
  {
   "cell_type": "markdown",
   "id": "5cccbaaa",
   "metadata": {},
   "source": [
    "Cuánto pagaron entre todos los pasajeros?"
   ]
  },
  {
   "cell_type": "code",
   "execution_count": null,
   "id": "accbaf95",
   "metadata": {},
   "outputs": [],
   "source": []
  },
  {
   "cell_type": "markdown",
   "id": "04db9fbe-badd-4910-b4ab-a68b71333185",
   "metadata": {},
   "source": [
    "Filtra el dataframe para ver sólo a las mujeres"
   ]
  },
  {
   "cell_type": "code",
   "execution_count": null,
   "id": "eeaa4501-c14a-467e-b798-a82f20f1b3fa",
   "metadata": {},
   "outputs": [],
   "source": []
  },
  {
   "cell_type": "markdown",
   "id": "b28a68b2-6c4b-4971-b885-70adea4f3b3e",
   "metadata": {},
   "source": [
    "Filtra el dataframe para ver sólo a los niños (menores de 15 años)"
   ]
  },
  {
   "cell_type": "code",
   "execution_count": null,
   "id": "b99bd0ab-faa4-41d4-94f9-b81b7fdcd2ac",
   "metadata": {},
   "outputs": [],
   "source": []
  },
  {
   "cell_type": "markdown",
   "id": "9769999f-97cf-48bb-a689-ea2535a146d9",
   "metadata": {},
   "source": [
    "Filtra el dataframe para ver sólo a mujeres y niños"
   ]
  },
  {
   "cell_type": "code",
   "execution_count": null,
   "id": "327c978b-01fe-4b0a-8c98-fc3d56a1e4ea",
   "metadata": {},
   "outputs": [],
   "source": []
  },
  {
   "cell_type": "markdown",
   "id": "d8c450ad",
   "metadata": {},
   "source": [
    "Quién era el pasajero más joven y qué edad tenía?"
   ]
  },
  {
   "cell_type": "code",
   "execution_count": null,
   "id": "6f0d0a34",
   "metadata": {},
   "outputs": [],
   "source": []
  },
  {
   "cell_type": "markdown",
   "id": "6d22e17b",
   "metadata": {},
   "source": [
    "Cuántos pasajeros eran menores de 20? Qué porcentaje?"
   ]
  },
  {
   "cell_type": "code",
   "execution_count": null,
   "id": "d64d5898-3b94-4d7a-ab97-a7bc825d1934",
   "metadata": {},
   "outputs": [],
   "source": []
  },
  {
   "cell_type": "markdown",
   "id": "def0c005",
   "metadata": {},
   "source": [
    "Cual es el decil 9 de la edad?"
   ]
  },
  {
   "cell_type": "code",
   "execution_count": null,
   "id": "2fc67ec2",
   "metadata": {},
   "outputs": [],
   "source": []
  },
  {
   "cell_type": "markdown",
   "id": "d7227177",
   "metadata": {},
   "source": [
    "Cuánta gente sobrevivió? Cuánta murió?"
   ]
  },
  {
   "cell_type": "code",
   "execution_count": null,
   "id": "d00340ea",
   "metadata": {},
   "outputs": [],
   "source": []
  },
  {
   "cell_type": "markdown",
   "id": "b39ebc25",
   "metadata": {},
   "source": [
    "Cuánta gente viajaba en cada clase?"
   ]
  },
  {
   "cell_type": "code",
   "execution_count": null,
   "id": "27b51b69",
   "metadata": {},
   "outputs": [],
   "source": []
  },
  {
   "cell_type": "markdown",
   "id": "02c4d729",
   "metadata": {},
   "source": [
    "Era más probable sobrevivir siendo de primera clase?"
   ]
  },
  {
   "cell_type": "code",
   "execution_count": null,
   "id": "3a6b3c4c-ee77-4b5b-b0a9-771c709cae06",
   "metadata": {},
   "outputs": [],
   "source": []
  },
  {
   "cell_type": "markdown",
   "id": "c483cdcd",
   "metadata": {},
   "source": [
    "Era más probable sobrevivir siendo mujer?"
   ]
  },
  {
   "cell_type": "code",
   "execution_count": null,
   "id": "729109be",
   "metadata": {},
   "outputs": [],
   "source": []
  },
  {
   "cell_type": "markdown",
   "id": "8ea7e461",
   "metadata": {},
   "source": [
    "Con cuántos familiares viajaba la gente? (informado en la columna SibSp)"
   ]
  },
  {
   "cell_type": "code",
   "execution_count": null,
   "id": "f82278d1-62c3-4dd4-896d-85460f0b2347",
   "metadata": {},
   "outputs": [],
   "source": []
  },
  {
   "cell_type": "markdown",
   "id": "0056c075-0108-4401-821d-47061942e994",
   "metadata": {},
   "source": [
    "Crear columna con división con denominador 0"
   ]
  },
  {
   "cell_type": "markdown",
   "id": "d0751793",
   "metadata": {},
   "source": [
    "Cuántas puertas de embarque había?"
   ]
  },
  {
   "cell_type": "code",
   "execution_count": null,
   "id": "24eded5f",
   "metadata": {},
   "outputs": [],
   "source": []
  },
  {
   "cell_type": "markdown",
   "id": "5a99c99e",
   "metadata": {},
   "source": [
    "Crea un dataframe con las personas que viajaban en primera clase"
   ]
  },
  {
   "cell_type": "code",
   "execution_count": null,
   "id": "c1873cfe",
   "metadata": {},
   "outputs": [],
   "source": []
  },
  {
   "cell_type": "markdown",
   "id": "0fb9243d",
   "metadata": {},
   "source": [
    "Crea un dataframe que contenga mujeres y niños"
   ]
  },
  {
   "cell_type": "code",
   "execution_count": null,
   "id": "796bd548",
   "metadata": {},
   "outputs": [],
   "source": []
  },
  {
   "cell_type": "markdown",
   "id": "29d816f5",
   "metadata": {},
   "source": [
    "Crea un dataframe con la gente que no viajara en la `S`"
   ]
  },
  {
   "cell_type": "code",
   "execution_count": null,
   "id": "3307bd2f-a7ff-48cd-a926-344dd6eb3be5",
   "metadata": {},
   "outputs": [],
   "source": []
  },
  {
   "cell_type": "markdown",
   "id": "9a0e8621",
   "metadata": {},
   "source": [
    "Crea un dataframe con todas las \"Miss\""
   ]
  },
  {
   "cell_type": "code",
   "execution_count": null,
   "id": "702e5667",
   "metadata": {},
   "outputs": [],
   "source": []
  },
  {
   "cell_type": "markdown",
   "id": "e73aa0fd",
   "metadata": {},
   "source": [
    "Crea una columna booleana que almacene si el pasajero es mayor de edad"
   ]
  },
  {
   "cell_type": "code",
   "execution_count": null,
   "id": "9ab0b882",
   "metadata": {},
   "outputs": [],
   "source": []
  },
  {
   "cell_type": "markdown",
   "id": "0ec51ce7",
   "metadata": {},
   "source": [
    "Crea una columna con el año de nacimiento del pasajero"
   ]
  },
  {
   "cell_type": "code",
   "execution_count": null,
   "id": "c1e1d3c3-9e57-46a1-9a7e-c83c55caf172",
   "metadata": {},
   "outputs": [],
   "source": []
  },
  {
   "cell_type": "markdown",
   "id": "97137d8c",
   "metadata": {},
   "source": [
    "Afectó el número de familiares a la probabilidad de sobrevivir?"
   ]
  },
  {
   "cell_type": "code",
   "execution_count": null,
   "id": "c99fa680-36bc-49c7-9a9c-4f6be3f435f0",
   "metadata": {},
   "outputs": [],
   "source": []
  },
  {
   "cell_type": "markdown",
   "id": "9e7aa02c",
   "metadata": {},
   "source": [
    "Eran más caros los billetes de primera clase?"
   ]
  },
  {
   "cell_type": "code",
   "execution_count": null,
   "id": "89726deb",
   "metadata": {},
   "outputs": [],
   "source": []
  },
  {
   "cell_type": "markdown",
   "id": "7655a2c5",
   "metadata": {},
   "source": [
    "Eran más jovenes los hombres que las mujeres del titanic?"
   ]
  },
  {
   "cell_type": "code",
   "execution_count": null,
   "id": "338c2fa5",
   "metadata": {},
   "outputs": [],
   "source": []
  },
  {
   "cell_type": "markdown",
   "id": "710cc401",
   "metadata": {},
   "source": [
    "Crea una columna que almacene si el número de ticket del pasajero contiene alguna letra. Define para ello una función y usa `apply`"
   ]
  },
  {
   "cell_type": "code",
   "execution_count": null,
   "id": "80235ab3",
   "metadata": {},
   "outputs": [],
   "source": []
  },
  {
   "cell_type": "markdown",
   "id": "f8d9f6ef",
   "metadata": {},
   "source": [
    "Exporta los datos a un csv llamado `titanic_enriched.csv`"
   ]
  },
  {
   "cell_type": "code",
   "execution_count": null,
   "id": "278e3286",
   "metadata": {},
   "outputs": [],
   "source": []
  }
 ],
 "metadata": {
  "kernelspec": {
   "display_name": "Python 3 (ipykernel)",
   "language": "python",
   "name": "python3"
  },
  "language_info": {
   "codemirror_mode": {
    "name": "ipython",
    "version": 3
   },
   "file_extension": ".py",
   "mimetype": "text/x-python",
   "name": "python",
   "nbconvert_exporter": "python",
   "pygments_lexer": "ipython3",
   "version": "3.10.12"
  },
  "toc": {
   "base_numbering": 1,
   "nav_menu": {},
   "number_sections": true,
   "sideBar": true,
   "skip_h1_title": true,
   "title_cell": "Table of Contents",
   "title_sidebar": "Contents",
   "toc_cell": false,
   "toc_position": {
    "height": "calc(100% - 180px)",
    "left": "10px",
    "top": "150px",
    "width": "370px"
   },
   "toc_section_display": true,
   "toc_window_display": false
  },
  "varInspector": {
   "cols": {
    "lenName": 16,
    "lenType": 16,
    "lenVar": 40
   },
   "kernels_config": {
    "python": {
     "delete_cmd_postfix": "",
     "delete_cmd_prefix": "del ",
     "library": "var_list.py",
     "varRefreshCmd": "print(var_dic_list())"
    },
    "r": {
     "delete_cmd_postfix": ") ",
     "delete_cmd_prefix": "rm(",
     "library": "var_list.r",
     "varRefreshCmd": "cat(var_dic_list()) "
    }
   },
   "types_to_exclude": [
    "module",
    "function",
    "builtin_function_or_method",
    "instance",
    "_Feature"
   ],
   "window_display": false
  }
 },
 "nbformat": 4,
 "nbformat_minor": 5
}
