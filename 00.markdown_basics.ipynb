{
 "cells": [
  {
   "cell_type": "markdown",
   "id": "f1345edc-f4da-4afc-bdb9-2c0bc095b70f",
   "metadata": {},
   "source": [
    "# Markdown basics"
   ]
  },
  {
   "cell_type": "markdown",
   "id": "19d0881c-7972-4e26-9e3d-69f28027f492",
   "metadata": {},
   "source": [
    "# Título nivel 1\n",
    "#### Subtítulo nivel 4"
   ]
  },
  {
   "cell_type": "markdown",
   "id": "93e767c7-b102-476b-a688-91fc6a145df3",
   "metadata": {},
   "source": [
    "**Negrita**\n",
    "\n",
    "*Cursiva*\n",
    "\n",
    "***Negrita Cursiva***\n",
    "\n",
    "texto\n",
    "en la misma línea\n",
    "\n",
    "texto  \n",
    "en distinta línea"
   ]
  },
  {
   "cell_type": "markdown",
   "id": "1312f391-659e-49c3-a96e-6788334b6e4d",
   "metadata": {},
   "source": [
    "código:  \n",
    "`name = \"Juan\"` \n",
    "\n",
    "código multilínea  \n",
    "```\n",
    "name = \"Juan\"\n",
    "print(name.upper()\n",
    "```\n",
    "\n",
    "código multilínea coloreado según lenguaje  \n",
    "```python\n",
    "name = \"Juan\"\n",
    "print(name.upper()\n",
    "```"
   ]
  },
  {
   "cell_type": "markdown",
   "id": "73f54f9c-d57b-4b25-8279-d280f49ef15b",
   "metadata": {},
   "source": [
    "- Item 1\n",
    "- Item 2\n",
    "  - Sub-item 1\n",
    "  - Sub-item 2\n",
    "\n",
    "1. Item 1\n",
    "2. Item 2\n",
    "   1. Sub-item 1\n",
    "   2. Sub-item 2"
   ]
  },
  {
   "cell_type": "markdown",
   "id": "87f983c6-b0be-48c5-a6a5-e0b9aae4d8b7",
   "metadata": {},
   "source": [
    "---\n",
    "<http://google.com>  \n",
    "[Link más mono a PEP8](https://peps.python.org/pep-0008/)  "
   ]
  },
  {
   "cell_type": "code",
   "execution_count": null,
   "id": "f9c145a6-334c-4e92-b076-01db2914604f",
   "metadata": {},
   "outputs": [],
   "source": []
  },
  {
   "cell_type": "markdown",
   "id": "820b93a2-a72f-454c-a0c7-f7f7a8e76d1a",
   "metadata": {},
   "source": [
    "| Fruta         | Vitaminas Principales | Beneficios para la Salud                                |\n",
    "| ------------- | --------------------- | ------------------------------------------------------- |\n",
    "| Manzana       | C, B6                 | Mejora de la salud digestiva, prevención de enfermedades cardíacas |\n",
    "| Plátano       | B6, C                 | Energía duradera, salud del corazón                     |\n",
    "| Fresa         | C, Manganese          | Mejora del sistema inmunológico, protección contra el cáncer |\n",
    "| Kiwi          | C, K                  | Mejora de la salud de la piel, absorción de hierro      |\n",
    "| Naranja       | C, Potasio            | Prevención de infecciones, reducción del colesterol     |\n",
    "| Aguacate      | K, E                  | Salud del corazón, mejora de la visión                  |\n",
    "| Arándano      | C, Fibra              | Antioxidante, prevención de infecciones urinarias       |"
   ]
  },
  {
   "cell_type": "markdown",
   "id": "9e5fe794-8d74-492e-b646-c7fab20ac7d1",
   "metadata": {},
   "source": [
    "~~Texto tachado~~\n",
    "\n",
    " - [x] Tarea completada  \n",
    " - [ ] Tarea no completada  "
   ]
  }
 ],
 "metadata": {
  "kernelspec": {
   "display_name": "Python 3 (ipykernel)",
   "language": "python",
   "name": "python3"
  },
  "language_info": {
   "codemirror_mode": {
    "name": "ipython",
    "version": 3
   },
   "file_extension": ".py",
   "mimetype": "text/x-python",
   "name": "python",
   "nbconvert_exporter": "python",
   "pygments_lexer": "ipython3",
   "version": "3.10.12"
  }
 },
 "nbformat": 4,
 "nbformat_minor": 5
}
