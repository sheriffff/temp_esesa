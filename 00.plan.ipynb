{
 "cells": [
  {
   "cell_type": "markdown",
   "metadata": {},
   "source": [
    "# Módulo 2: Aprendizaje Automático Aplicado"
   ]
  },
  {
   "cell_type": "code",
   "execution_count": 3,
   "metadata": {},
   "outputs": [
    {
     "data": {
      "text/plain": [
       "6"
      ]
     },
     "execution_count": 3,
     "metadata": {},
     "output_type": "execute_result"
    }
   ],
   "source": [
    "3 + 3"
   ]
  },
  {
   "cell_type": "markdown",
   "metadata": {},
   "source": [
    "3 + 3"
   ]
  },
  {
   "cell_type": "markdown",
   "metadata": {},
   "source": [
    "<img width=300 src=\"https://labrujulaxr.com/wp-content/uploads/2023/09/esesa_escuela_RGB_Positivo-1.png\">"
   ]
  },
  {
   "cell_type": "markdown",
   "metadata": {},
   "source": [
    "por [Manuel López Sheriff](https://www.linkedin.com/in/sheriff-data/)"
   ]
  },
  {
   "cell_type": "markdown",
   "metadata": {},
   "source": [
    "9 sesiones teórico-prácticas  \n",
    "Días: MXJ, 14-30 Noviembre  \n",
    "Horas: 16h30-20h30\n",
    "\n",
    " 1. Review: Análisis de datos con `pandas` y `seaborn`\n",
    " 2. ML supervisado: Motivación, regresión\n",
    " 3. Introducción al Machine Learning (ML)\n",
    " 4. Clasificación I\n",
    " 5. Clasificación II\n",
    " 6. Árboles de decisión I\n",
    " 7. Árboles de decisión II\n",
    " 8. Algunos conceptos avanzados: gridsearch, categorical encoding\n",
    " 9. ML no supervisado: clustering, PCA"
   ]
  },
  {
   "cell_type": "markdown",
   "metadata": {},
   "source": [
    "Ten una libreta a mano para tomar notas durante la sesión!\n",
    "\n",
    "<img width=200 src=\"https://png.pngtree.com/png-clipart/20210528/ourlarge/pngtree-cartoon-character-learning-notepad-illustration-png-image_3375178.jpg\">"
   ]
  },
  {
   "cell_type": "markdown",
   "metadata": {},
   "source": [
    "<a href=\"https://app.sli.do/event/1jqujbiAJgMRyJrJXiBE1a\" target=\"_blank\">Slido</a> para ejercicios, preguntas y encuestas anónimas"
   ]
  },
  {
   "cell_type": "markdown",
   "metadata": {},
   "source": [
    "## Jupyter notebook"
   ]
  },
  {
   "cell_type": "markdown",
   "metadata": {},
   "source": [
    "Ésto que ves es un [jupyter notebook](https://jupyter.org/).\n",
    " - Un híbrido entre Power Point y entorno de programación\n",
    " - Cuyos archivos tienen extensión `.ipynb`\n",
    " - Para verlo, puedes:  \n",
    "   - descargar Python y jupyter o\n",
    "   - verlo (y modificarlo) en [Google Colab](https://colab.research.google.com/?hl=es)\n",
    " - Exportable a `.html`"
   ]
  },
  {
   "cell_type": "markdown",
   "metadata": {},
   "source": [
    "## PyData Mentor"
   ]
  },
  {
   "cell_type": "markdown",
   "metadata": {},
   "source": [
    "[PyDataMentor](https://datamentor-sheriff.streamlit.app/)"
   ]
  }
 ],
 "metadata": {
  "kernelspec": {
   "display_name": "Python 3 (ipykernel)",
   "language": "python",
   "name": "python3"
  },
  "language_info": {
   "codemirror_mode": {
    "name": "ipython",
    "version": 3
   },
   "file_extension": ".py",
   "mimetype": "text/x-python",
   "name": "python",
   "nbconvert_exporter": "python",
   "pygments_lexer": "ipython3",
   "version": "3.10.12"
  },
  "toc": {
   "base_numbering": 1,
   "nav_menu": {},
   "number_sections": false,
   "sideBar": true,
   "skip_h1_title": true,
   "title_cell": "Table of Contents",
   "title_sidebar": "Contents",
   "toc_cell": false,
   "toc_position": {},
   "toc_section_display": true,
   "toc_window_display": false
  }
 },
 "nbformat": 4,
 "nbformat_minor": 4
}
