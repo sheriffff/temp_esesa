{
 "cells": [
  {
   "cell_type": "markdown",
   "id": "e69f6409-26dc-4bf7-9d32-a5bb9f816643",
   "metadata": {},
   "source": [
    "# Feature engineering"
   ]
  },
  {
   "cell_type": "markdown",
   "id": "f60053a2",
   "metadata": {},
   "source": [
    "Es el proceso de utilizar el conocimiento del dominio para transformar algunas variables y enriquecer el dataset\n",
    "\n",
    "Estas nuevas variables suelen mejorar el rendimiento de los algoritmos de machine learning"
   ]
  },
  {
   "cell_type": "markdown",
   "id": "d6ff9efa-1267-4297-bdcb-54b5a25d752f",
   "metadata": {},
   "source": [
    "Es aquí donde la creatividad entra en juego"
   ]
  },
  {
   "cell_type": "markdown",
   "id": "ed97f4fb-a6d1-4474-846a-43e0cce5d81b",
   "metadata": {},
   "source": [
    "Aquí se presentan algunos métodos, pero\n",
    "\n",
    "**no es una lista exhaustiva**\n",
    "\n",
    "Las posibilidades son infinitas"
   ]
  },
  {
   "cell_type": "code",
   "execution_count": 1,
   "id": "092c62bd",
   "metadata": {},
   "outputs": [],
   "source": [
    "import pandas as pd"
   ]
  },
  {
   "cell_type": "code",
   "execution_count": 4,
   "id": "104edec8",
   "metadata": {},
   "outputs": [
    {
     "data": {
      "text/html": [
       "<div>\n",
       "<style scoped>\n",
       "    .dataframe tbody tr th:only-of-type {\n",
       "        vertical-align: middle;\n",
       "    }\n",
       "\n",
       "    .dataframe tbody tr th {\n",
       "        vertical-align: top;\n",
       "    }\n",
       "\n",
       "    .dataframe thead th {\n",
       "        text-align: right;\n",
       "    }\n",
       "</style>\n",
       "<table border=\"1\" class=\"dataframe\">\n",
       "  <thead>\n",
       "    <tr style=\"text-align: right;\">\n",
       "      <th></th>\n",
       "      <th>Name</th>\n",
       "      <th>Sex</th>\n",
       "      <th>Age</th>\n",
       "      <th>Pclass</th>\n",
       "      <th>SibSp</th>\n",
       "      <th>Parch</th>\n",
       "      <th>Ticket</th>\n",
       "      <th>Fare</th>\n",
       "      <th>Cabin</th>\n",
       "      <th>Embarked</th>\n",
       "      <th>Survived</th>\n",
       "    </tr>\n",
       "  </thead>\n",
       "  <tbody>\n",
       "    <tr>\n",
       "      <th>0</th>\n",
       "      <td>Karaic, Mr. Milan</td>\n",
       "      <td>male</td>\n",
       "      <td>30.0</td>\n",
       "      <td>3</td>\n",
       "      <td>0</td>\n",
       "      <td>0</td>\n",
       "      <td>349246</td>\n",
       "      <td>7.8958</td>\n",
       "      <td>NaN</td>\n",
       "      <td>S</td>\n",
       "      <td>0</td>\n",
       "    </tr>\n",
       "    <tr>\n",
       "      <th>1</th>\n",
       "      <td>Dean, Mrs. Bertram</td>\n",
       "      <td>female</td>\n",
       "      <td>33.0</td>\n",
       "      <td>3</td>\n",
       "      <td>1</td>\n",
       "      <td>2</td>\n",
       "      <td>C.A. 2315</td>\n",
       "      <td>20.5750</td>\n",
       "      <td>NaN</td>\n",
       "      <td>S</td>\n",
       "      <td>1</td>\n",
       "    </tr>\n",
       "    <tr>\n",
       "      <th>2</th>\n",
       "      <td>Rice, Mrs. William</td>\n",
       "      <td>female</td>\n",
       "      <td>39.0</td>\n",
       "      <td>3</td>\n",
       "      <td>0</td>\n",
       "      <td>5</td>\n",
       "      <td>382652</td>\n",
       "      <td>29.1250</td>\n",
       "      <td>NaN</td>\n",
       "      <td>Q</td>\n",
       "      <td>0</td>\n",
       "    </tr>\n",
       "    <tr>\n",
       "      <th>3</th>\n",
       "      <td>Davidson, Mrs. Thornton</td>\n",
       "      <td>female</td>\n",
       "      <td>27.0</td>\n",
       "      <td>1</td>\n",
       "      <td>1</td>\n",
       "      <td>2</td>\n",
       "      <td>F.C. 12750</td>\n",
       "      <td>52.0000</td>\n",
       "      <td>B71</td>\n",
       "      <td>S</td>\n",
       "      <td>1</td>\n",
       "    </tr>\n",
       "    <tr>\n",
       "      <th>4</th>\n",
       "      <td>Ridsdale, Miss. Lucy</td>\n",
       "      <td>female</td>\n",
       "      <td>50.0</td>\n",
       "      <td>2</td>\n",
       "      <td>0</td>\n",
       "      <td>0</td>\n",
       "      <td>W./C. 14258</td>\n",
       "      <td>10.5000</td>\n",
       "      <td>NaN</td>\n",
       "      <td>S</td>\n",
       "      <td>1</td>\n",
       "    </tr>\n",
       "  </tbody>\n",
       "</table>\n",
       "</div>"
      ],
      "text/plain": [
       "                      Name     Sex   Age  Pclass  SibSp  Parch       Ticket  \\\n",
       "0        Karaic, Mr. Milan    male  30.0       3      0      0       349246   \n",
       "1       Dean, Mrs. Bertram  female  33.0       3      1      2    C.A. 2315   \n",
       "2       Rice, Mrs. William  female  39.0       3      0      5       382652   \n",
       "3  Davidson, Mrs. Thornton  female  27.0       1      1      2   F.C. 12750   \n",
       "4     Ridsdale, Miss. Lucy  female  50.0       2      0      0  W./C. 14258   \n",
       "\n",
       "      Fare Cabin Embarked  Survived  \n",
       "0   7.8958   NaN        S         0  \n",
       "1  20.5750   NaN        S         1  \n",
       "2  29.1250   NaN        Q         0  \n",
       "3  52.0000   B71        S         1  \n",
       "4  10.5000   NaN        S         1  "
      ]
     },
     "execution_count": 4,
     "metadata": {},
     "output_type": "execute_result"
    }
   ],
   "source": [
    "df = pd.read_csv(\"./datasets/titanic.csv\")\n",
    "df.head()"
   ]
  },
  {
   "cell_type": "code",
   "execution_count": 5,
   "id": "386c4174-dd1b-4ccb-9d52-387030dcf61b",
   "metadata": {},
   "outputs": [
    {
     "data": {
      "text/plain": [
       "(1309, 11)"
      ]
     },
     "execution_count": 5,
     "metadata": {},
     "output_type": "execute_result"
    }
   ],
   "source": [
    "df.shape"
   ]
  },
  {
   "cell_type": "markdown",
   "id": "56d20102-48c0-4c1d-8e46-dba3ba63d8b9",
   "metadata": {},
   "source": [
    "## Combinación/transformación de columnas"
   ]
  },
  {
   "cell_type": "markdown",
   "id": "cc1f2d42-94ce-4158-816a-87aa79af625c",
   "metadata": {},
   "source": [
    "Sumas, divisiones, productos... de variables"
   ]
  },
  {
   "cell_type": "code",
   "execution_count": 7,
   "id": "00492fa8-316b-4c65-9a4b-6748c0bc11ad",
   "metadata": {},
   "outputs": [],
   "source": [
    "df[\"n_familiares\"] = df.SibSp + df.Parch"
   ]
  },
  {
   "cell_type": "code",
   "execution_count": 8,
   "id": "82099cb0-5158-4e44-b704-46dd53764c24",
   "metadata": {},
   "outputs": [],
   "source": [
    "df[\"is_alone\"] = df.n_familiares == 0"
   ]
  },
  {
   "cell_type": "code",
   "execution_count": 9,
   "id": "4e90eeb6-9a23-48ee-bc4b-82c085c7c037",
   "metadata": {},
   "outputs": [],
   "source": [
    "df[\"is_child\"] = df.Age < 12"
   ]
  },
  {
   "cell_type": "code",
   "execution_count": 10,
   "id": "085ef4f9-1bc1-41cd-8419-1827bd09f96e",
   "metadata": {},
   "outputs": [],
   "source": [
    "df[\"is_young\"] = df.Age < 21"
   ]
  },
  {
   "cell_type": "markdown",
   "id": "9df71670-3878-47df-918c-0f61a8d57138",
   "metadata": {},
   "source": [
    "No hay ideas absurdas. Si algo no funciona, los modelos tipo árbol las desechan"
   ]
  },
  {
   "cell_type": "code",
   "execution_count": 11,
   "id": "a804f344-734e-494e-8f04-87f4b26d10a6",
   "metadata": {},
   "outputs": [],
   "source": [
    "df[\"years_per_class\"] = df.Age / df.Pclass"
   ]
  },
  {
   "cell_type": "code",
   "execution_count": 12,
   "id": "6a560689-76aa-4a81-9f8b-dcbfc09103b0",
   "metadata": {},
   "outputs": [
    {
     "data": {
      "text/html": [
       "<div>\n",
       "<style scoped>\n",
       "    .dataframe tbody tr th:only-of-type {\n",
       "        vertical-align: middle;\n",
       "    }\n",
       "\n",
       "    .dataframe tbody tr th {\n",
       "        vertical-align: top;\n",
       "    }\n",
       "\n",
       "    .dataframe thead th {\n",
       "        text-align: right;\n",
       "    }\n",
       "</style>\n",
       "<table border=\"1\" class=\"dataframe\">\n",
       "  <thead>\n",
       "    <tr style=\"text-align: right;\">\n",
       "      <th></th>\n",
       "      <th>Name</th>\n",
       "      <th>Sex</th>\n",
       "      <th>Age</th>\n",
       "      <th>Pclass</th>\n",
       "      <th>SibSp</th>\n",
       "      <th>Parch</th>\n",
       "      <th>Ticket</th>\n",
       "      <th>Fare</th>\n",
       "      <th>Cabin</th>\n",
       "      <th>Embarked</th>\n",
       "      <th>Survived</th>\n",
       "      <th>n_familiares</th>\n",
       "      <th>is_alone</th>\n",
       "      <th>is_child</th>\n",
       "      <th>is_young</th>\n",
       "      <th>years_per_class</th>\n",
       "    </tr>\n",
       "  </thead>\n",
       "  <tbody>\n",
       "    <tr>\n",
       "      <th>0</th>\n",
       "      <td>Karaic, Mr. Milan</td>\n",
       "      <td>male</td>\n",
       "      <td>30.0</td>\n",
       "      <td>3</td>\n",
       "      <td>0</td>\n",
       "      <td>0</td>\n",
       "      <td>349246</td>\n",
       "      <td>7.8958</td>\n",
       "      <td>NaN</td>\n",
       "      <td>S</td>\n",
       "      <td>0</td>\n",
       "      <td>0</td>\n",
       "      <td>True</td>\n",
       "      <td>False</td>\n",
       "      <td>False</td>\n",
       "      <td>10.0</td>\n",
       "    </tr>\n",
       "    <tr>\n",
       "      <th>1</th>\n",
       "      <td>Dean, Mrs. Bertram</td>\n",
       "      <td>female</td>\n",
       "      <td>33.0</td>\n",
       "      <td>3</td>\n",
       "      <td>1</td>\n",
       "      <td>2</td>\n",
       "      <td>C.A. 2315</td>\n",
       "      <td>20.5750</td>\n",
       "      <td>NaN</td>\n",
       "      <td>S</td>\n",
       "      <td>1</td>\n",
       "      <td>3</td>\n",
       "      <td>False</td>\n",
       "      <td>False</td>\n",
       "      <td>False</td>\n",
       "      <td>11.0</td>\n",
       "    </tr>\n",
       "    <tr>\n",
       "      <th>2</th>\n",
       "      <td>Rice, Mrs. William</td>\n",
       "      <td>female</td>\n",
       "      <td>39.0</td>\n",
       "      <td>3</td>\n",
       "      <td>0</td>\n",
       "      <td>5</td>\n",
       "      <td>382652</td>\n",
       "      <td>29.1250</td>\n",
       "      <td>NaN</td>\n",
       "      <td>Q</td>\n",
       "      <td>0</td>\n",
       "      <td>5</td>\n",
       "      <td>False</td>\n",
       "      <td>False</td>\n",
       "      <td>False</td>\n",
       "      <td>13.0</td>\n",
       "    </tr>\n",
       "    <tr>\n",
       "      <th>3</th>\n",
       "      <td>Davidson, Mrs. Thornton</td>\n",
       "      <td>female</td>\n",
       "      <td>27.0</td>\n",
       "      <td>1</td>\n",
       "      <td>1</td>\n",
       "      <td>2</td>\n",
       "      <td>F.C. 12750</td>\n",
       "      <td>52.0000</td>\n",
       "      <td>B71</td>\n",
       "      <td>S</td>\n",
       "      <td>1</td>\n",
       "      <td>3</td>\n",
       "      <td>False</td>\n",
       "      <td>False</td>\n",
       "      <td>False</td>\n",
       "      <td>27.0</td>\n",
       "    </tr>\n",
       "    <tr>\n",
       "      <th>4</th>\n",
       "      <td>Ridsdale, Miss. Lucy</td>\n",
       "      <td>female</td>\n",
       "      <td>50.0</td>\n",
       "      <td>2</td>\n",
       "      <td>0</td>\n",
       "      <td>0</td>\n",
       "      <td>W./C. 14258</td>\n",
       "      <td>10.5000</td>\n",
       "      <td>NaN</td>\n",
       "      <td>S</td>\n",
       "      <td>1</td>\n",
       "      <td>0</td>\n",
       "      <td>True</td>\n",
       "      <td>False</td>\n",
       "      <td>False</td>\n",
       "      <td>25.0</td>\n",
       "    </tr>\n",
       "  </tbody>\n",
       "</table>\n",
       "</div>"
      ],
      "text/plain": [
       "                      Name     Sex   Age  Pclass  SibSp  Parch       Ticket  \\\n",
       "0        Karaic, Mr. Milan    male  30.0       3      0      0       349246   \n",
       "1       Dean, Mrs. Bertram  female  33.0       3      1      2    C.A. 2315   \n",
       "2       Rice, Mrs. William  female  39.0       3      0      5       382652   \n",
       "3  Davidson, Mrs. Thornton  female  27.0       1      1      2   F.C. 12750   \n",
       "4     Ridsdale, Miss. Lucy  female  50.0       2      0      0  W./C. 14258   \n",
       "\n",
       "      Fare Cabin Embarked  Survived  n_familiares  is_alone  is_child  \\\n",
       "0   7.8958   NaN        S         0             0      True     False   \n",
       "1  20.5750   NaN        S         1             3     False     False   \n",
       "2  29.1250   NaN        Q         0             5     False     False   \n",
       "3  52.0000   B71        S         1             3     False     False   \n",
       "4  10.5000   NaN        S         1             0      True     False   \n",
       "\n",
       "   is_young  years_per_class  \n",
       "0     False             10.0  \n",
       "1     False             11.0  \n",
       "2     False             13.0  \n",
       "3     False             27.0  \n",
       "4     False             25.0  "
      ]
     },
     "execution_count": 12,
     "metadata": {},
     "output_type": "execute_result"
    }
   ],
   "source": [
    "df.head()"
   ]
  },
  {
   "cell_type": "markdown",
   "id": "02fbd03b-97a5-423c-bc14-0abceddefe6d",
   "metadata": {},
   "source": [
    "## Tratamiento de strings"
   ]
  },
  {
   "cell_type": "markdown",
   "id": "d9b50bea-ed1c-4d9b-b200-edbcc33375e0",
   "metadata": {},
   "source": [
    "Extraer la primera letra de un string"
   ]
  },
  {
   "cell_type": "code",
   "execution_count": 16,
   "id": "e97e3ed1-6694-46fe-967f-6beba9ab39f9",
   "metadata": {},
   "outputs": [
    {
     "data": {
      "text/plain": [
       "186"
      ]
     },
     "execution_count": 16,
     "metadata": {},
     "output_type": "execute_result"
    }
   ],
   "source": [
    "df.Cabin.nunique()"
   ]
  },
  {
   "cell_type": "code",
   "execution_count": 15,
   "id": "727ed89d-db3c-422e-86a9-4fa90fc8f696",
   "metadata": {},
   "outputs": [
    {
     "data": {
      "text/plain": [
       "array([nan, 'B71', 'B58 B60', 'E67', 'C128', 'D36', 'A20', 'B26', 'B22',\n",
       "       'D26', 'D33', 'B57 B59 B63 B66', 'C2', 'E50', 'E33', 'B3', 'D15',\n",
       "       'G6', 'B51 B53 B55', 'C32'], dtype=object)"
      ]
     },
     "execution_count": 15,
     "metadata": {},
     "output_type": "execute_result"
    }
   ],
   "source": [
    "df.Cabin.unique()[:20]"
   ]
  },
  {
   "cell_type": "code",
   "execution_count": 20,
   "id": "8cdb5372-8fc2-4ac8-8d04-3f42ce578e44",
   "metadata": {},
   "outputs": [],
   "source": [
    "df[\"cabin_letter\"] = df.Cabin.str[0]"
   ]
  },
  {
   "cell_type": "code",
   "execution_count": 23,
   "id": "f3bbf649-08c0-45d4-9aff-611a12104a31",
   "metadata": {},
   "outputs": [
    {
     "data": {
      "text/plain": [
       "8"
      ]
     },
     "execution_count": 23,
     "metadata": {},
     "output_type": "execute_result"
    }
   ],
   "source": [
    "df.cabin_letter.nunique()"
   ]
  },
  {
   "cell_type": "code",
   "execution_count": 21,
   "id": "efe46af5-9bfe-47f3-a883-00b4588c7f58",
   "metadata": {},
   "outputs": [
    {
     "data": {
      "text/plain": [
       "array([nan, 'B', 'E', 'C', 'D', 'A', 'G', 'F', 'T'], dtype=object)"
      ]
     },
     "execution_count": 21,
     "metadata": {},
     "output_type": "execute_result"
    }
   ],
   "source": [
    "df.cabin_letter.unique()"
   ]
  },
  {
   "cell_type": "code",
   "execution_count": 22,
   "id": "c52bcdb3-41de-4bf7-a00c-47c9e00fc208",
   "metadata": {},
   "outputs": [
    {
     "data": {
      "text/plain": [
       "cabin_letter\n",
       "C    94\n",
       "B    65\n",
       "D    46\n",
       "E    41\n",
       "A    22\n",
       "F    21\n",
       "G     5\n",
       "T     1\n",
       "Name: count, dtype: int64"
      ]
     },
     "execution_count": 22,
     "metadata": {},
     "output_type": "execute_result"
    }
   ],
   "source": [
    "df.cabin_letter.value_counts()"
   ]
  },
  {
   "cell_type": "markdown",
   "id": "1a3208d3-3df1-4fdf-922a-c8d10f79177f",
   "metadata": {},
   "source": [
    "Extraer el título del nombre"
   ]
  },
  {
   "cell_type": "code",
   "execution_count": 27,
   "id": "e23360fb-98dc-4de3-a29c-ab7e8eff7d6c",
   "metadata": {},
   "outputs": [],
   "source": [
    "df[\"title\"] = df.Name.str.split(\", \").str[1].str.split(\".\").str[0]"
   ]
  },
  {
   "cell_type": "code",
   "execution_count": 28,
   "id": "10521b1c-b396-4e48-b5a5-70f662eb1c48",
   "metadata": {},
   "outputs": [
    {
     "data": {
      "text/plain": [
       "title\n",
       "Mr              757\n",
       "Miss            260\n",
       "Mrs             197\n",
       "Master           61\n",
       "Dr                8\n",
       "Rev               8\n",
       "Col               4\n",
       "Ms                2\n",
       "Major             2\n",
       "Mlle              2\n",
       "Lady              1\n",
       "Sir               1\n",
       "Don               1\n",
       "Mme               1\n",
       "Capt              1\n",
       "Jonkheer          1\n",
       "Dona              1\n",
       "the Countess      1\n",
       "Name: count, dtype: int64"
      ]
     },
     "execution_count": 28,
     "metadata": {},
     "output_type": "execute_result"
    }
   ],
   "source": [
    "df.title.value_counts()"
   ]
  },
  {
   "cell_type": "markdown",
   "id": "271eef55-4ba2-4a12-9dc8-5eda2fa299f1",
   "metadata": {},
   "source": [
    "Repito: no hay ideas absurdas. Si algo no funciona, los modelos tipo árbol las desechan"
   ]
  },
  {
   "cell_type": "markdown",
   "id": "52ce3032-b811-4a9f-8bc2-97caeea12f1c",
   "metadata": {},
   "source": [
    "Longitud del nombre: puede indicar status socioeconómico"
   ]
  },
  {
   "cell_type": "code",
   "execution_count": 29,
   "id": "cc20fee5-dd57-47a9-8ed8-f5f11c923947",
   "metadata": {},
   "outputs": [],
   "source": [
    "df[\"name_length\"] = df.Name.str.len()"
   ]
  },
  {
   "cell_type": "code",
   "execution_count": 46,
   "id": "20f509bc-9caf-405b-a8e3-675857fd861a",
   "metadata": {},
   "outputs": [],
   "source": [
    "df[\"ticket_start_letter\"] = df.Ticket.str[0].str.isalpha()"
   ]
  },
  {
   "cell_type": "markdown",
   "id": "cbdb0f3e-40aa-4d97-961c-6378bd694c0e",
   "metadata": {},
   "source": [
    "## Relleno de valores nulos"
   ]
  },
  {
   "cell_type": "markdown",
   "id": "148ff1ee-c925-49c9-82ce-f6055d1e665d",
   "metadata": {},
   "source": [
    "Los modelos de ML no se _comen_ valores nulos"
   ]
  },
  {
   "cell_type": "markdown",
   "id": "68d11942-87f5-4376-bb9a-34b98a0be53c",
   "metadata": {},
   "source": [
    "Hay muchas opciones para tratarlos, a priori no sabemos cuál es mejor"
   ]
  },
  {
   "cell_type": "markdown",
   "id": "8b6d81cb-7262-47d5-a256-3c43eba3ba55",
   "metadata": {},
   "source": [
    "Hemos de conocer diferentes estrategias de imputación"
   ]
  },
  {
   "cell_type": "markdown",
   "id": "2a077efa-b8ec-4d42-83d2-8e2e6b40f864",
   "metadata": {},
   "source": [
    "El tratamiento de cada columna suele ser diferente"
   ]
  },
  {
   "cell_type": "markdown",
   "id": "8041486b-3c4e-42f2-95c6-c29805619e84",
   "metadata": {},
   "source": [
    "Para montar un modelo sencillo, podemos simplemente dropear las columnas con nulos"
   ]
  },
  {
   "cell_type": "markdown",
   "id": "d5dcfc76-37a8-4753-8688-04c348cdec6d",
   "metadata": {},
   "source": [
    "Si bien al entrenar un modelo, podríamos dropear las filas con nulos,  \n",
    "**a la hora de predecir habrá valores nulos que deberemos sí o sí tratar**"
   ]
  },
  {
   "cell_type": "code",
   "execution_count": 57,
   "id": "2fd4cd43-ba6c-4277-86dc-c0a05c8f071d",
   "metadata": {},
   "outputs": [
    {
     "data": {
      "text/plain": [
       "Name                      0\n",
       "Sex                       0\n",
       "Age                     263\n",
       "Pclass                    0\n",
       "SibSp                     0\n",
       "Parch                     0\n",
       "Ticket                    0\n",
       "Fare                      1\n",
       "Cabin                  1014\n",
       "Embarked                  2\n",
       "Survived                  0\n",
       "n_familiares              0\n",
       "is_alone                  0\n",
       "is_child                  0\n",
       "is_young                  0\n",
       "years_per_class         263\n",
       "cabin_letter           1014\n",
       "title                     0\n",
       "name_length               0\n",
       "ticket_start_letter       0\n",
       "dtype: int64"
      ]
     },
     "execution_count": 57,
     "metadata": {},
     "output_type": "execute_result"
    }
   ],
   "source": [
    "df.isna().sum()"
   ]
  },
  {
   "cell_type": "markdown",
   "id": "0be298fb-7907-4cf5-b561-bdfd2c133a2d",
   "metadata": {},
   "source": [
    "### variables numéricas"
   ]
  },
  {
   "cell_type": "markdown",
   "id": "c8ba1e53-fdb8-4c2d-a55a-2eab95015bc0",
   "metadata": {},
   "source": [
    "#### con la media"
   ]
  },
  {
   "cell_type": "code",
   "execution_count": 58,
   "id": "98051e68-076c-49fd-943f-7bc8c6272cd2",
   "metadata": {},
   "outputs": [
    {
     "data": {
      "text/plain": [
       "29.881137667304014"
      ]
     },
     "execution_count": 58,
     "metadata": {},
     "output_type": "execute_result"
    }
   ],
   "source": [
    "mean_age = df.Age.mean()\n",
    "mean_age"
   ]
  },
  {
   "cell_type": "code",
   "execution_count": 59,
   "id": "7a7ab405-f0fb-4a97-a08b-f8e83203c76f",
   "metadata": {},
   "outputs": [
    {
     "data": {
      "text/plain": [
       "0       30.000000\n",
       "1       33.000000\n",
       "2       39.000000\n",
       "3       27.000000\n",
       "4       50.000000\n",
       "          ...    \n",
       "1304    27.000000\n",
       "1305    26.000000\n",
       "1306    19.000000\n",
       "1307    37.000000\n",
       "1308    29.881138\n",
       "Name: Age, Length: 1309, dtype: float64"
      ]
     },
     "execution_count": 59,
     "metadata": {},
     "output_type": "execute_result"
    }
   ],
   "source": [
    "df.Age.fillna(mean_age)\n",
    "# realmente haríamos esto de abajo, para rellenar la columna Age\n",
    "# df.Age = df.Age.fillna(mean_age)"
   ]
  },
  {
   "cell_type": "markdown",
   "id": "b25adb15-822f-4941-ac6c-74fcbd3b0a3f",
   "metadata": {},
   "source": [
    "#### con la media por categoría"
   ]
  },
  {
   "cell_type": "markdown",
   "id": "d8cf8d0a-d5e9-49fb-b05c-123e85bc6dff",
   "metadata": {},
   "source": [
    "Por ejemplo, cuál es la media de edad por clase? A cada edad nula, le asignaré la edad media de su clase"
   ]
  },
  {
   "cell_type": "code",
   "execution_count": 63,
   "id": "de9f171b-277c-4de0-aed9-ca38caea304e",
   "metadata": {},
   "outputs": [
    {
     "data": {
      "text/plain": [
       "{1: 39.2, 2: 29.5, 3: 24.8}"
      ]
     },
     "execution_count": 63,
     "metadata": {},
     "output_type": "execute_result"
    }
   ],
   "source": [
    "pclass_to_mean_age = df.groupby(\"Pclass\").Age.mean().round(1).to_dict()\n",
    "pclass_to_mean_age"
   ]
  },
  {
   "cell_type": "code",
   "execution_count": 65,
   "id": "f2088810-4bd0-4ca6-bdb4-790c22797a76",
   "metadata": {},
   "outputs": [
    {
     "data": {
      "text/plain": [
       "6       24.8\n",
       "7       29.5\n",
       "13      29.5\n",
       "24      24.8\n",
       "29      39.2\n",
       "        ... \n",
       "1278    24.8\n",
       "1285    24.8\n",
       "1288    29.5\n",
       "1302    39.2\n",
       "1308    24.8\n",
       "Name: Pclass, Length: 263, dtype: float64"
      ]
     },
     "execution_count": 65,
     "metadata": {},
     "output_type": "execute_result"
    }
   ],
   "source": [
    "df.loc[df.Age.isna(), \"Pclass\"].map(pclass_to_mean_age)\n",
    "# df.loc[df.Age.isna(), \"Age\"] = df.loc[df.Age.isna(), \"Pclass\"].map(pclass_to_mean_age)"
   ]
  },
  {
   "cell_type": "markdown",
   "id": "fb5d485b-7704-423f-9fa0-49f8d7cb4185",
   "metadata": {},
   "source": [
    "#### con 0 u otro valor fijo"
   ]
  },
  {
   "cell_type": "markdown",
   "id": "a34b408c-d2f3-45d1-b7a0-ec338a95c224",
   "metadata": {},
   "source": [
    "Por ejemplo, en un dataset con una columna `number_children` pueden cambiarse nulos por 0s"
   ]
  },
  {
   "cell_type": "code",
   "execution_count": 67,
   "id": "b127d616-ada4-43bb-9f6f-fe484ea05d63",
   "metadata": {},
   "outputs": [
    {
     "data": {
      "text/html": [
       "<div>\n",
       "<style scoped>\n",
       "    .dataframe tbody tr th:only-of-type {\n",
       "        vertical-align: middle;\n",
       "    }\n",
       "\n",
       "    .dataframe tbody tr th {\n",
       "        vertical-align: top;\n",
       "    }\n",
       "\n",
       "    .dataframe thead th {\n",
       "        text-align: right;\n",
       "    }\n",
       "</style>\n",
       "<table border=\"1\" class=\"dataframe\">\n",
       "  <thead>\n",
       "    <tr style=\"text-align: right;\">\n",
       "      <th></th>\n",
       "      <th>Name</th>\n",
       "      <th>Sex</th>\n",
       "      <th>Age</th>\n",
       "      <th>Pclass</th>\n",
       "      <th>SibSp</th>\n",
       "      <th>Parch</th>\n",
       "      <th>Ticket</th>\n",
       "      <th>Fare</th>\n",
       "      <th>Cabin</th>\n",
       "      <th>Embarked</th>\n",
       "      <th>Survived</th>\n",
       "      <th>n_familiares</th>\n",
       "      <th>is_alone</th>\n",
       "      <th>is_child</th>\n",
       "      <th>is_young</th>\n",
       "      <th>years_per_class</th>\n",
       "      <th>cabin_letter</th>\n",
       "      <th>title</th>\n",
       "      <th>name_length</th>\n",
       "      <th>ticket_start_letter</th>\n",
       "    </tr>\n",
       "  </thead>\n",
       "  <tbody>\n",
       "    <tr>\n",
       "      <th>0</th>\n",
       "      <td>Karaic, Mr. Milan</td>\n",
       "      <td>male</td>\n",
       "      <td>30.0</td>\n",
       "      <td>3</td>\n",
       "      <td>0</td>\n",
       "      <td>0</td>\n",
       "      <td>349246</td>\n",
       "      <td>7.8958</td>\n",
       "      <td>NaN</td>\n",
       "      <td>S</td>\n",
       "      <td>0</td>\n",
       "      <td>0</td>\n",
       "      <td>True</td>\n",
       "      <td>False</td>\n",
       "      <td>False</td>\n",
       "      <td>10.0</td>\n",
       "      <td>NaN</td>\n",
       "      <td>Mr</td>\n",
       "      <td>17</td>\n",
       "      <td>False</td>\n",
       "    </tr>\n",
       "    <tr>\n",
       "      <th>1</th>\n",
       "      <td>Dean, Mrs. Bertram</td>\n",
       "      <td>female</td>\n",
       "      <td>33.0</td>\n",
       "      <td>3</td>\n",
       "      <td>1</td>\n",
       "      <td>2</td>\n",
       "      <td>C.A. 2315</td>\n",
       "      <td>20.5750</td>\n",
       "      <td>NaN</td>\n",
       "      <td>S</td>\n",
       "      <td>1</td>\n",
       "      <td>3</td>\n",
       "      <td>False</td>\n",
       "      <td>False</td>\n",
       "      <td>False</td>\n",
       "      <td>11.0</td>\n",
       "      <td>NaN</td>\n",
       "      <td>Mrs</td>\n",
       "      <td>18</td>\n",
       "      <td>True</td>\n",
       "    </tr>\n",
       "    <tr>\n",
       "      <th>2</th>\n",
       "      <td>Rice, Mrs. William</td>\n",
       "      <td>female</td>\n",
       "      <td>39.0</td>\n",
       "      <td>3</td>\n",
       "      <td>0</td>\n",
       "      <td>5</td>\n",
       "      <td>382652</td>\n",
       "      <td>29.1250</td>\n",
       "      <td>NaN</td>\n",
       "      <td>Q</td>\n",
       "      <td>0</td>\n",
       "      <td>5</td>\n",
       "      <td>False</td>\n",
       "      <td>False</td>\n",
       "      <td>False</td>\n",
       "      <td>13.0</td>\n",
       "      <td>NaN</td>\n",
       "      <td>Mrs</td>\n",
       "      <td>18</td>\n",
       "      <td>False</td>\n",
       "    </tr>\n",
       "    <tr>\n",
       "      <th>3</th>\n",
       "      <td>Davidson, Mrs. Thornton</td>\n",
       "      <td>female</td>\n",
       "      <td>27.0</td>\n",
       "      <td>1</td>\n",
       "      <td>1</td>\n",
       "      <td>2</td>\n",
       "      <td>F.C. 12750</td>\n",
       "      <td>52.0000</td>\n",
       "      <td>B71</td>\n",
       "      <td>S</td>\n",
       "      <td>1</td>\n",
       "      <td>3</td>\n",
       "      <td>False</td>\n",
       "      <td>False</td>\n",
       "      <td>False</td>\n",
       "      <td>27.0</td>\n",
       "      <td>B</td>\n",
       "      <td>Mrs</td>\n",
       "      <td>23</td>\n",
       "      <td>True</td>\n",
       "    </tr>\n",
       "    <tr>\n",
       "      <th>4</th>\n",
       "      <td>Ridsdale, Miss. Lucy</td>\n",
       "      <td>female</td>\n",
       "      <td>50.0</td>\n",
       "      <td>2</td>\n",
       "      <td>0</td>\n",
       "      <td>0</td>\n",
       "      <td>W./C. 14258</td>\n",
       "      <td>10.5000</td>\n",
       "      <td>NaN</td>\n",
       "      <td>S</td>\n",
       "      <td>1</td>\n",
       "      <td>0</td>\n",
       "      <td>True</td>\n",
       "      <td>False</td>\n",
       "      <td>False</td>\n",
       "      <td>25.0</td>\n",
       "      <td>NaN</td>\n",
       "      <td>Miss</td>\n",
       "      <td>20</td>\n",
       "      <td>True</td>\n",
       "    </tr>\n",
       "  </tbody>\n",
       "</table>\n",
       "</div>"
      ],
      "text/plain": [
       "                      Name     Sex   Age  Pclass  SibSp  Parch       Ticket  \\\n",
       "0        Karaic, Mr. Milan    male  30.0       3      0      0       349246   \n",
       "1       Dean, Mrs. Bertram  female  33.0       3      1      2    C.A. 2315   \n",
       "2       Rice, Mrs. William  female  39.0       3      0      5       382652   \n",
       "3  Davidson, Mrs. Thornton  female  27.0       1      1      2   F.C. 12750   \n",
       "4     Ridsdale, Miss. Lucy  female  50.0       2      0      0  W./C. 14258   \n",
       "\n",
       "      Fare Cabin Embarked  Survived  n_familiares  is_alone  is_child  \\\n",
       "0   7.8958   NaN        S         0             0      True     False   \n",
       "1  20.5750   NaN        S         1             3     False     False   \n",
       "2  29.1250   NaN        Q         0             5     False     False   \n",
       "3  52.0000   B71        S         1             3     False     False   \n",
       "4  10.5000   NaN        S         1             0      True     False   \n",
       "\n",
       "   is_young  years_per_class cabin_letter title  name_length  \\\n",
       "0     False             10.0          NaN    Mr           17   \n",
       "1     False             11.0          NaN   Mrs           18   \n",
       "2     False             13.0          NaN   Mrs           18   \n",
       "3     False             27.0            B   Mrs           23   \n",
       "4     False             25.0          NaN  Miss           20   \n",
       "\n",
       "   ticket_start_letter  \n",
       "0                False  \n",
       "1                 True  \n",
       "2                False  \n",
       "3                 True  \n",
       "4                 True  "
      ]
     },
     "execution_count": 67,
     "metadata": {},
     "output_type": "execute_result"
    }
   ],
   "source": [
    "df.head()"
   ]
  },
  {
   "cell_type": "markdown",
   "id": "6de75bd4-8bea-4d3e-b38d-e22b1fd65afe",
   "metadata": {},
   "source": [
    "#### vecinos cercanos"
   ]
  },
  {
   "cell_type": "markdown",
   "id": "563af868-24ba-4edf-bb22-f47200f47946",
   "metadata": {},
   "source": [
    "Puedo construir una métrica de similaridad entre filas, para luego\n",
    "\n",
    "asignar a cada edad nula la edad media de los N vecinos más cercanos"
   ]
  },
  {
   "cell_type": "markdown",
   "id": "8a97dd61-e74b-4c53-a3b6-78cb30ef3d72",
   "metadata": {},
   "source": [
    "### variables categóricas"
   ]
  },
  {
   "cell_type": "code",
   "execution_count": 68,
   "id": "17825b0b-86ba-4665-ab91-2d425a2b5c05",
   "metadata": {},
   "outputs": [
    {
     "data": {
      "text/plain": [
       "Name                      0\n",
       "Sex                       0\n",
       "Age                     263\n",
       "Pclass                    0\n",
       "SibSp                     0\n",
       "Parch                     0\n",
       "Ticket                    0\n",
       "Fare                      1\n",
       "Cabin                  1014\n",
       "Embarked                  2\n",
       "Survived                  0\n",
       "n_familiares              0\n",
       "is_alone                  0\n",
       "is_child                  0\n",
       "is_young                  0\n",
       "years_per_class         263\n",
       "cabin_letter           1014\n",
       "title                     0\n",
       "name_length               0\n",
       "ticket_start_letter       0\n",
       "dtype: int64"
      ]
     },
     "execution_count": 68,
     "metadata": {},
     "output_type": "execute_result"
    }
   ],
   "source": [
    "df.isna().sum()"
   ]
  },
  {
   "cell_type": "markdown",
   "id": "30209789-6f55-4834-93b4-a63af834c862",
   "metadata": {},
   "source": [
    "#### con la moda"
   ]
  },
  {
   "cell_type": "code",
   "execution_count": 78,
   "id": "f397ee25-329e-497a-b126-b757ea9c8bde",
   "metadata": {},
   "outputs": [
    {
     "data": {
      "text/plain": [
       "1014"
      ]
     },
     "execution_count": 78,
     "metadata": {},
     "output_type": "execute_result"
    }
   ],
   "source": [
    "df.cabin_letter.isna().sum()"
   ]
  },
  {
   "cell_type": "code",
   "execution_count": 72,
   "id": "889e1bbe-edca-42dc-9ad5-4b9de0acfc0e",
   "metadata": {},
   "outputs": [
    {
     "data": {
      "text/plain": [
       "cabin_letter\n",
       "C    94\n",
       "B    65\n",
       "D    46\n",
       "E    41\n",
       "A    22\n",
       "F    21\n",
       "G     5\n",
       "T     1\n",
       "Name: count, dtype: int64"
      ]
     },
     "execution_count": 72,
     "metadata": {},
     "output_type": "execute_result"
    }
   ],
   "source": [
    "df.cabin_letter.value_counts()"
   ]
  },
  {
   "cell_type": "code",
   "execution_count": 77,
   "id": "b2f10362-5904-410f-b078-48c8a77d0e4a",
   "metadata": {},
   "outputs": [
    {
     "data": {
      "text/plain": [
       "'C'"
      ]
     },
     "execution_count": 77,
     "metadata": {},
     "output_type": "execute_result"
    }
   ],
   "source": [
    "top_cabin = df.cabin_letter.mode()[0]\n",
    "top_cabin"
   ]
  },
  {
   "cell_type": "code",
   "execution_count": null,
   "id": "b649a046-1e92-468e-8afe-d11a93fa237e",
   "metadata": {},
   "outputs": [],
   "source": [
    "df.cabin_letter.fillna(top_cabin)\n",
    "# df.cabin_letter = df.cabin_letter.fillna(top_cabin)"
   ]
  },
  {
   "cell_type": "markdown",
   "id": "075f8992-8509-4877-95c2-869b38aa5b69",
   "metadata": {},
   "source": [
    "#### con la moda por categoría"
   ]
  },
  {
   "cell_type": "code",
   "execution_count": 81,
   "id": "07165c70-c59b-47b3-b20f-c4555c562978",
   "metadata": {},
   "outputs": [],
   "source": [
    "def get_mode(series):\n",
    "    return series.cabin_letter.mode()[0]"
   ]
  },
  {
   "cell_type": "code",
   "execution_count": 82,
   "id": "97b27f3e-c7ff-4e44-a2f8-46804b73b99e",
   "metadata": {},
   "outputs": [],
   "source": [
    "pclass_to_top_cabin = df.groupby(\"Pclass\").apply(get_mode)"
   ]
  },
  {
   "cell_type": "code",
   "execution_count": 83,
   "id": "1a86ea0b-32a3-44ca-b8c5-c8fda5b2b44f",
   "metadata": {},
   "outputs": [
    {
     "data": {
      "text/plain": [
       "Pclass\n",
       "1    C\n",
       "2    F\n",
       "3    F\n",
       "dtype: object"
      ]
     },
     "execution_count": 83,
     "metadata": {},
     "output_type": "execute_result"
    }
   ],
   "source": [
    "pclass_to_top_cabin"
   ]
  },
  {
   "cell_type": "code",
   "execution_count": null,
   "id": "75888b32-2c7f-4f17-ae6a-47fe4947236e",
   "metadata": {},
   "outputs": [],
   "source": [
    "df.loc[df.cabin_letter.isna(), \"Pclass\"].map(pclass_to_top_cabin)\n",
    "# df.loc[df.cabin_letter.isna(), \"cabin_letter\"] = df.loc[df.cabin_letter.isna(), \"Pclass\"].map(pclass_to_top_cabin)"
   ]
  },
  {
   "cell_type": "markdown",
   "id": "b7d08e35-f79b-48a8-8f76-b97b6b5d0c6a",
   "metadata": {},
   "source": [
    "#### category \"Unknown\""
   ]
  },
  {
   "cell_type": "code",
   "execution_count": 85,
   "id": "44801622-44d4-4cde-a08e-a980d3ae1d9a",
   "metadata": {},
   "outputs": [
    {
     "data": {
      "text/plain": [
       "cabin_letter\n",
       "C    94\n",
       "B    65\n",
       "D    46\n",
       "E    41\n",
       "A    22\n",
       "F    21\n",
       "G     5\n",
       "T     1\n",
       "Name: count, dtype: int64"
      ]
     },
     "execution_count": 85,
     "metadata": {},
     "output_type": "execute_result"
    }
   ],
   "source": [
    "df.cabin_letter.value_counts()"
   ]
  },
  {
   "cell_type": "code",
   "execution_count": null,
   "id": "a82e418a-e791-4817-9045-fd5a22131224",
   "metadata": {},
   "outputs": [],
   "source": [
    "df.cabin_letter.fillna(\"U\")\n",
    "# df.cabin_letter = df.cabin_letter.fillna(\"U\")"
   ]
  },
  {
   "cell_type": "markdown",
   "id": "0daf24df-f965-473e-ad59-a6be1090f1b9",
   "metadata": {},
   "source": [
    "### Más estrategias"
   ]
  },
  {
   "cell_type": "markdown",
   "id": "c2697d54-030a-47ee-b666-1274dd84f301",
   "metadata": {},
   "source": [
    "#### modelo predictivo"
   ]
  },
  {
   "cell_type": "markdown",
   "id": "7c546e54-89c1-4cb4-bed7-b55fb11f056b",
   "metadata": {},
   "source": [
    "Utilizar un modelo de regresión/clasificación utilizando:\n",
    " - otras features como predictoras\n",
    " - la columna numérica/categórica como columna objetivo"
   ]
  },
  {
   "cell_type": "markdown",
   "id": "fe853dd2-2d2e-4032-8b63-7de08bbfdfe7",
   "metadata": {},
   "source": [
    "[Null Values Imputations Strategies](https://www.kaggle.com/discussions/general/248836)"
   ]
  },
  {
   "cell_type": "markdown",
   "id": "eb3a670a-5939-4de1-9bb0-d41ebced9871",
   "metadata": {},
   "source": [
    "## Categorical encoding"
   ]
  },
  {
   "cell_type": "markdown",
   "id": "f89d57f6-51bf-4d89-920a-d985ea0abca8",
   "metadata": {},
   "source": [
    "Los modelos de ML no se _comen_ variables categóricas"
   ]
  },
  {
   "cell_type": "markdown",
   "id": "20274c27-eac0-4e7c-bb85-52a70091a8a7",
   "metadata": {},
   "source": [
    "Hay muchas opciones para tratarlas, y a priori no sabemos cuál es mejor"
   ]
  },
  {
   "cell_type": "markdown",
   "id": "b9d4a241-e3db-4198-a2f0-f684d51eca24",
   "metadata": {},
   "source": [
    "Hemos de conocer estrategias de transformación **categórico --> numérico**"
   ]
  },
  {
   "cell_type": "markdown",
   "id": "e5595a35-08f6-427b-b340-0d99c0edb622",
   "metadata": {},
   "source": [
    "El tratamiento de cada columna suele ser diferente"
   ]
  },
  {
   "cell_type": "markdown",
   "id": "6ca9cf9d-2e2c-424f-b79f-c5139962e81c",
   "metadata": {},
   "source": [
    "Podemos tratar una columna de varias maneras: hacer get_dummies y además mean encoding"
   ]
  },
  {
   "cell_type": "markdown",
   "id": "3fd7980b-e5f4-4199-a3eb-bdc01058268c",
   "metadata": {},
   "source": [
    "Para montar un modelo sencillo, podemos simplemente dropear las columnas categóricas"
   ]
  },
  {
   "cell_type": "markdown",
   "id": "52111534-c34b-4441-80b1-947b6d794d32",
   "metadata": {},
   "source": [
    "### Texto binario a booleano"
   ]
  },
  {
   "cell_type": "code",
   "execution_count": 88,
   "id": "17543b80-e155-4e9a-b132-151914f1412f",
   "metadata": {},
   "outputs": [
    {
     "data": {
      "text/plain": [
       "0       0\n",
       "1       1\n",
       "2       1\n",
       "3       1\n",
       "4       1\n",
       "       ..\n",
       "1304    0\n",
       "1305    0\n",
       "1306    0\n",
       "1307    0\n",
       "1308    1\n",
       "Name: Sex, Length: 1309, dtype: int64"
      ]
     },
     "execution_count": 88,
     "metadata": {},
     "output_type": "execute_result"
    }
   ],
   "source": [
    "df.Sex.map({\"male\": 0, \"female\": 1})"
   ]
  },
  {
   "cell_type": "markdown",
   "id": "9c5719f1",
   "metadata": {},
   "source": [
    "### One Hot Encoder (get_dummies)"
   ]
  },
  {
   "cell_type": "markdown",
   "id": "2579ad64",
   "metadata": {},
   "source": [
    "Se utiliza cuando (orientativamente):\n",
    " * no hay un orden natural entre las categorías y\n",
    " * no hay un número enorme (~>20) de categorías"
   ]
  },
  {
   "cell_type": "code",
   "execution_count": 89,
   "id": "b18f39cc-a09c-4aec-bd04-9aff25ba37e5",
   "metadata": {},
   "outputs": [
    {
     "data": {
      "text/plain": [
       "Embarked\n",
       "S    914\n",
       "C    270\n",
       "Q    123\n",
       "Name: count, dtype: int64"
      ]
     },
     "execution_count": 89,
     "metadata": {},
     "output_type": "execute_result"
    }
   ],
   "source": [
    "df.Embarked.value_counts()"
   ]
  },
  {
   "cell_type": "code",
   "execution_count": 103,
   "id": "cd507728-01f2-4c12-8057-be601e3f1900",
   "metadata": {},
   "outputs": [],
   "source": [
    "dummies = pd.get_dummies(df.Embarked, prefix=\"Embarked\")"
   ]
  },
  {
   "cell_type": "code",
   "execution_count": 104,
   "id": "6183281d-8779-4b08-9868-461a51a3bc5e",
   "metadata": {},
   "outputs": [
    {
     "data": {
      "text/plain": [
       "0    S\n",
       "1    S\n",
       "2    Q\n",
       "3    S\n",
       "4    S\n",
       "Name: Embarked, dtype: object"
      ]
     },
     "execution_count": 104,
     "metadata": {},
     "output_type": "execute_result"
    }
   ],
   "source": [
    "df.Embarked.head()"
   ]
  },
  {
   "cell_type": "code",
   "execution_count": 105,
   "id": "6fc0f6b8-2081-4199-8a7a-f5d17c25e19b",
   "metadata": {},
   "outputs": [
    {
     "data": {
      "text/html": [
       "<div>\n",
       "<style scoped>\n",
       "    .dataframe tbody tr th:only-of-type {\n",
       "        vertical-align: middle;\n",
       "    }\n",
       "\n",
       "    .dataframe tbody tr th {\n",
       "        vertical-align: top;\n",
       "    }\n",
       "\n",
       "    .dataframe thead th {\n",
       "        text-align: right;\n",
       "    }\n",
       "</style>\n",
       "<table border=\"1\" class=\"dataframe\">\n",
       "  <thead>\n",
       "    <tr style=\"text-align: right;\">\n",
       "      <th></th>\n",
       "      <th>Embarked_C</th>\n",
       "      <th>Embarked_Q</th>\n",
       "      <th>Embarked_S</th>\n",
       "    </tr>\n",
       "  </thead>\n",
       "  <tbody>\n",
       "    <tr>\n",
       "      <th>0</th>\n",
       "      <td>False</td>\n",
       "      <td>False</td>\n",
       "      <td>True</td>\n",
       "    </tr>\n",
       "    <tr>\n",
       "      <th>1</th>\n",
       "      <td>False</td>\n",
       "      <td>False</td>\n",
       "      <td>True</td>\n",
       "    </tr>\n",
       "    <tr>\n",
       "      <th>2</th>\n",
       "      <td>False</td>\n",
       "      <td>True</td>\n",
       "      <td>False</td>\n",
       "    </tr>\n",
       "    <tr>\n",
       "      <th>3</th>\n",
       "      <td>False</td>\n",
       "      <td>False</td>\n",
       "      <td>True</td>\n",
       "    </tr>\n",
       "    <tr>\n",
       "      <th>4</th>\n",
       "      <td>False</td>\n",
       "      <td>False</td>\n",
       "      <td>True</td>\n",
       "    </tr>\n",
       "  </tbody>\n",
       "</table>\n",
       "</div>"
      ],
      "text/plain": [
       "   Embarked_C  Embarked_Q  Embarked_S\n",
       "0       False       False        True\n",
       "1       False       False        True\n",
       "2       False        True       False\n",
       "3       False       False        True\n",
       "4       False       False        True"
      ]
     },
     "execution_count": 105,
     "metadata": {},
     "output_type": "execute_result"
    }
   ],
   "source": [
    "dummies.head()"
   ]
  },
  {
   "cell_type": "code",
   "execution_count": 106,
   "id": "54e64df0-d8d7-4bcf-a0c5-2ce93e18dfca",
   "metadata": {},
   "outputs": [],
   "source": [
    "df = pd.concat([df.drop('Embarked', axis=1), dummies], axis=1)"
   ]
  },
  {
   "cell_type": "code",
   "execution_count": 107,
   "id": "5a8f9c80-058f-4d7f-8bba-b620b2e72874",
   "metadata": {},
   "outputs": [
    {
     "data": {
      "text/plain": [
       "Index(['Name', 'Sex', 'Age', 'Pclass', 'SibSp', 'Parch', 'Ticket', 'Fare',\n",
       "       'Cabin', 'Survived', 'n_familiares', 'is_alone', 'is_child', 'is_young',\n",
       "       'years_per_class', 'cabin_letter', 'title', 'name_length',\n",
       "       'ticket_start_letter', 'Embarked_C', 'Embarked_Q', 'Embarked_S'],\n",
       "      dtype='object')"
      ]
     },
     "execution_count": 107,
     "metadata": {},
     "output_type": "execute_result"
    }
   ],
   "source": [
    "df.columns"
   ]
  },
  {
   "cell_type": "markdown",
   "id": "12a19947",
   "metadata": {},
   "source": [
    "### Label Encoder"
   ]
  },
  {
   "cell_type": "markdown",
   "id": "f15264c3",
   "metadata": {},
   "source": [
    "Se utiliza cuando:\n",
    " * hay un número no pequeño de categorías\n",
    " * se les da _erroneamente_ un orden"
   ]
  },
  {
   "cell_type": "code",
   "execution_count": 108,
   "id": "5c550c9d",
   "metadata": {},
   "outputs": [
    {
     "data": {
      "text/plain": [
       "array([nan, 'B', 'E', 'C', 'D', 'A', 'G', 'F', 'T'], dtype=object)"
      ]
     },
     "execution_count": 108,
     "metadata": {},
     "output_type": "execute_result"
    }
   ],
   "source": [
    "df.cabin_letter.unique()"
   ]
  },
  {
   "cell_type": "code",
   "execution_count": 109,
   "id": "b523c41b",
   "metadata": {},
   "outputs": [],
   "source": [
    "from sklearn import preprocessing\n",
    "le = preprocessing.LabelEncoder()"
   ]
  },
  {
   "cell_type": "code",
   "execution_count": 110,
   "id": "eef4191b",
   "metadata": {},
   "outputs": [],
   "source": [
    "df.cabin_letter = le.fit_transform(df.cabin_letter)"
   ]
  },
  {
   "cell_type": "code",
   "execution_count": 111,
   "id": "ff2faccf-7c67-4f35-8d12-dd0f3f0658fa",
   "metadata": {},
   "outputs": [
    {
     "data": {
      "text/plain": [
       "array([8, 1, 4, 2, 3, 0, 6, 5, 7])"
      ]
     },
     "execution_count": 111,
     "metadata": {},
     "output_type": "execute_result"
    }
   ],
   "source": [
    "df.cabin_letter.unique()"
   ]
  },
  {
   "cell_type": "markdown",
   "id": "23c1643f",
   "metadata": {},
   "source": [
    "### Frequency Encoder"
   ]
  },
  {
   "cell_type": "markdown",
   "id": "ab63e70e-0e3b-4ee9-9573-7a2eab3a9ede",
   "metadata": {},
   "source": [
    "Asigna a cada categoría su popularidad"
   ]
  },
  {
   "cell_type": "code",
   "execution_count": 113,
   "id": "8cf53105-78ad-4c26-aa44-0990649a3550",
   "metadata": {},
   "outputs": [],
   "source": [
    "df[\"cabin_letter2\"] = df.Cabin.str[0]"
   ]
  },
  {
   "cell_type": "code",
   "execution_count": 135,
   "id": "9c5b078d-dc77-4f40-ace7-1030ad381e0b",
   "metadata": {},
   "outputs": [],
   "source": [
    "cabin_to_frequency = {name: i for i, name in enumerate(df.cabin_letter2.value_counts().index)}"
   ]
  },
  {
   "cell_type": "code",
   "execution_count": 136,
   "id": "1dfe3233-2c22-4b3c-a3bb-5021567c32cc",
   "metadata": {},
   "outputs": [
    {
     "data": {
      "text/plain": [
       "{'C': 0, 'B': 1, 'D': 2, 'E': 3, 'A': 4, 'F': 5, 'G': 6, 'T': 7}"
      ]
     },
     "execution_count": 136,
     "metadata": {},
     "output_type": "execute_result"
    }
   ],
   "source": [
    "cabin_to_frequency"
   ]
  },
  {
   "cell_type": "code",
   "execution_count": null,
   "id": "1b949e95-f555-4a93-a592-ba84f89f3b37",
   "metadata": {},
   "outputs": [],
   "source": [
    "df.cabin_letter2.map(cabin_to_frequency)"
   ]
  },
  {
   "cell_type": "markdown",
   "id": "d82dc169-e344-4e18-8b89-e4a473dee819",
   "metadata": {},
   "source": [
    "### Ordinal Encoder"
   ]
  },
  {
   "cell_type": "markdown",
   "id": "29c1b66f",
   "metadata": {},
   "source": [
    "Se utiliza cuando:\n",
    " * sí hay un orden natural entre las categorías"
   ]
  },
  {
   "cell_type": "code",
   "execution_count": 120,
   "id": "4dab0c92-f318-4dae-9ec5-e86899f905ac",
   "metadata": {},
   "outputs": [],
   "source": [
    "dff = pd.DataFrame({\"name\": [\"Juan\", \"Pepe\", \"Marta\", \"Luna\", \"Ricardo\", \"Rosa\"], \"velocity\": [\"Fast\", \"Slow\", \"Very fast\", \"Slow\", \"Average\", \"Very slow\"]})"
   ]
  },
  {
   "cell_type": "code",
   "execution_count": 121,
   "id": "bf5abab1-015b-47e0-b9f2-0726049370e4",
   "metadata": {},
   "outputs": [
    {
     "data": {
      "text/html": [
       "<div>\n",
       "<style scoped>\n",
       "    .dataframe tbody tr th:only-of-type {\n",
       "        vertical-align: middle;\n",
       "    }\n",
       "\n",
       "    .dataframe tbody tr th {\n",
       "        vertical-align: top;\n",
       "    }\n",
       "\n",
       "    .dataframe thead th {\n",
       "        text-align: right;\n",
       "    }\n",
       "</style>\n",
       "<table border=\"1\" class=\"dataframe\">\n",
       "  <thead>\n",
       "    <tr style=\"text-align: right;\">\n",
       "      <th></th>\n",
       "      <th>name</th>\n",
       "      <th>velocity</th>\n",
       "    </tr>\n",
       "  </thead>\n",
       "  <tbody>\n",
       "    <tr>\n",
       "      <th>0</th>\n",
       "      <td>Juan</td>\n",
       "      <td>Fast</td>\n",
       "    </tr>\n",
       "    <tr>\n",
       "      <th>1</th>\n",
       "      <td>Pepe</td>\n",
       "      <td>Slow</td>\n",
       "    </tr>\n",
       "    <tr>\n",
       "      <th>2</th>\n",
       "      <td>Marta</td>\n",
       "      <td>Very fast</td>\n",
       "    </tr>\n",
       "    <tr>\n",
       "      <th>3</th>\n",
       "      <td>Luna</td>\n",
       "      <td>Slow</td>\n",
       "    </tr>\n",
       "    <tr>\n",
       "      <th>4</th>\n",
       "      <td>Ricardo</td>\n",
       "      <td>Average</td>\n",
       "    </tr>\n",
       "    <tr>\n",
       "      <th>5</th>\n",
       "      <td>Rosa</td>\n",
       "      <td>Very slow</td>\n",
       "    </tr>\n",
       "  </tbody>\n",
       "</table>\n",
       "</div>"
      ],
      "text/plain": [
       "      name   velocity\n",
       "0     Juan       Fast\n",
       "1     Pepe       Slow\n",
       "2    Marta  Very fast\n",
       "3     Luna       Slow\n",
       "4  Ricardo    Average\n",
       "5     Rosa  Very slow"
      ]
     },
     "execution_count": 121,
     "metadata": {},
     "output_type": "execute_result"
    }
   ],
   "source": [
    "dff"
   ]
  },
  {
   "cell_type": "code",
   "execution_count": 122,
   "id": "de6b6d0b",
   "metadata": {},
   "outputs": [],
   "source": [
    "from sklearn import preprocessing\n",
    "oe = preprocessing.OrdinalEncoder(categories=[['Very slow', 'Slow', 'Average', 'Fast', 'Very fast']])"
   ]
  },
  {
   "cell_type": "code",
   "execution_count": 123,
   "id": "bab50f5a",
   "metadata": {},
   "outputs": [],
   "source": [
    "dff.velocity = oe.fit_transform(dff[[\"velocity\"]])"
   ]
  },
  {
   "cell_type": "code",
   "execution_count": 124,
   "id": "7c03d758-af0d-4f8e-b3dd-33786e18dabd",
   "metadata": {},
   "outputs": [
    {
     "data": {
      "text/html": [
       "<div>\n",
       "<style scoped>\n",
       "    .dataframe tbody tr th:only-of-type {\n",
       "        vertical-align: middle;\n",
       "    }\n",
       "\n",
       "    .dataframe tbody tr th {\n",
       "        vertical-align: top;\n",
       "    }\n",
       "\n",
       "    .dataframe thead th {\n",
       "        text-align: right;\n",
       "    }\n",
       "</style>\n",
       "<table border=\"1\" class=\"dataframe\">\n",
       "  <thead>\n",
       "    <tr style=\"text-align: right;\">\n",
       "      <th></th>\n",
       "      <th>name</th>\n",
       "      <th>velocity</th>\n",
       "    </tr>\n",
       "  </thead>\n",
       "  <tbody>\n",
       "    <tr>\n",
       "      <th>0</th>\n",
       "      <td>Juan</td>\n",
       "      <td>3.0</td>\n",
       "    </tr>\n",
       "    <tr>\n",
       "      <th>1</th>\n",
       "      <td>Pepe</td>\n",
       "      <td>1.0</td>\n",
       "    </tr>\n",
       "    <tr>\n",
       "      <th>2</th>\n",
       "      <td>Marta</td>\n",
       "      <td>4.0</td>\n",
       "    </tr>\n",
       "    <tr>\n",
       "      <th>3</th>\n",
       "      <td>Luna</td>\n",
       "      <td>1.0</td>\n",
       "    </tr>\n",
       "    <tr>\n",
       "      <th>4</th>\n",
       "      <td>Ricardo</td>\n",
       "      <td>2.0</td>\n",
       "    </tr>\n",
       "    <tr>\n",
       "      <th>5</th>\n",
       "      <td>Rosa</td>\n",
       "      <td>0.0</td>\n",
       "    </tr>\n",
       "  </tbody>\n",
       "</table>\n",
       "</div>"
      ],
      "text/plain": [
       "      name  velocity\n",
       "0     Juan       3.0\n",
       "1     Pepe       1.0\n",
       "2    Marta       4.0\n",
       "3     Luna       1.0\n",
       "4  Ricardo       2.0\n",
       "5     Rosa       0.0"
      ]
     },
     "execution_count": 124,
     "metadata": {},
     "output_type": "execute_result"
    }
   ],
   "source": [
    "dff"
   ]
  },
  {
   "cell_type": "markdown",
   "id": "af22fb65-834f-4049-9060-9faf38c1fcbc",
   "metadata": {},
   "source": [
    "### Target Encoding"
   ]
  },
  {
   "cell_type": "markdown",
   "id": "38dd8082-35dc-4fb1-afa4-07be23e62f86",
   "metadata": {},
   "source": [
    "Bastante potente"
   ]
  },
  {
   "cell_type": "markdown",
   "id": "7a8e4f28-be5a-4152-9d6a-ba1f751f2c50",
   "metadata": {},
   "source": [
    "Asigna a cada categoría la media de la variable objetivo de los de esa categoría"
   ]
  },
  {
   "cell_type": "markdown",
   "id": "c7eed672-8c3a-469e-b3df-770051f3cc4f",
   "metadata": {},
   "source": [
    "Se utiliza cuando:\n",
    " * hay muchas categorías"
   ]
  },
  {
   "cell_type": "code",
   "execution_count": 125,
   "id": "06c5681f-0afc-47ea-8756-fdc6645c8281",
   "metadata": {
    "scrolled": true
   },
   "outputs": [
    {
     "data": {
      "text/plain": [
       "title\n",
       "Mr              757\n",
       "Miss            260\n",
       "Mrs             197\n",
       "Master           61\n",
       "Dr                8\n",
       "Rev               8\n",
       "Col               4\n",
       "Ms                2\n",
       "Major             2\n",
       "Mlle              2\n",
       "Lady              1\n",
       "Sir               1\n",
       "Don               1\n",
       "Mme               1\n",
       "Capt              1\n",
       "Jonkheer          1\n",
       "Dona              1\n",
       "the Countess      1\n",
       "Name: count, dtype: int64"
      ]
     },
     "execution_count": 125,
     "metadata": {},
     "output_type": "execute_result"
    }
   ],
   "source": [
    "df.title.value_counts()"
   ]
  },
  {
   "cell_type": "code",
   "execution_count": 129,
   "id": "62604c52-b7fb-4f3c-8f84-47b0f12ca200",
   "metadata": {},
   "outputs": [
    {
     "data": {
      "text/plain": [
       "{'Capt': 0.0,\n",
       " 'Don': 0.0,\n",
       " 'Jonkheer': 0.0,\n",
       " 'Rev': 0.0,\n",
       " 'Mr': 0.162,\n",
       " 'Dr': 0.5,\n",
       " 'Major': 0.5,\n",
       " 'Col': 0.5,\n",
       " 'Ms': 0.5,\n",
       " 'Master': 0.508,\n",
       " 'Miss': 0.677,\n",
       " 'Mrs': 0.787,\n",
       " 'Lady': 1.0,\n",
       " 'Dona': 1.0,\n",
       " 'Mme': 1.0,\n",
       " 'Mlle': 1.0,\n",
       " 'Sir': 1.0,\n",
       " 'the Countess': 1.0}"
      ]
     },
     "execution_count": 129,
     "metadata": {},
     "output_type": "execute_result"
    }
   ],
   "source": [
    "title_to_prob_survived = df.groupby(\"title\").Survived.mean().round(3).sort_values().to_dict()\n",
    "title_to_prob_survived"
   ]
  },
  {
   "cell_type": "code",
   "execution_count": 131,
   "id": "4766db77-402f-4839-9693-c6ee91704524",
   "metadata": {},
   "outputs": [],
   "source": [
    "df.title = df.title.map(title_to_prob_survived)"
   ]
  },
  {
   "cell_type": "markdown",
   "id": "60039c5b-7f58-45bd-b0a9-efad9dcf902a",
   "metadata": {},
   "source": [
    "## Notas"
   ]
  },
  {
   "cell_type": "markdown",
   "id": "c37764ef-537e-42ad-b5d1-2149ae105429",
   "metadata": {},
   "source": [
    "A los árboles les da igual la magnitud, solo el orden"
   ]
  },
  {
   "cell_type": "markdown",
   "id": "97a4f087-7654-4770-93ae-dcfc5dc3d082",
   "metadata": {},
   "source": [
    "Puede haber categorías en el test que no estén en el train"
   ]
  },
  {
   "cell_type": "markdown",
   "id": "f1404668-14bd-4fa7-a1b0-1c8b4c8ced5a",
   "metadata": {},
   "source": [
    "Antes de entrenar, asegúrate de que:\n",
    " - no hay nulos\n",
    " - solo hay columnas numéricas"
   ]
  },
  {
   "cell_type": "code",
   "execution_count": 132,
   "id": "279db1aa-72cb-4b0b-8ea5-6b41047e5294",
   "metadata": {},
   "outputs": [
    {
     "data": {
      "text/plain": [
       "Name                      0\n",
       "Sex                       0\n",
       "Age                     263\n",
       "Pclass                    0\n",
       "SibSp                     0\n",
       "Parch                     0\n",
       "Ticket                    0\n",
       "Fare                      1\n",
       "Cabin                  1014\n",
       "Survived                  0\n",
       "n_familiares              0\n",
       "is_alone                  0\n",
       "is_child                  0\n",
       "is_young                  0\n",
       "years_per_class         263\n",
       "cabin_letter              0\n",
       "title                     0\n",
       "name_length               0\n",
       "ticket_start_letter       0\n",
       "Embarked_C                0\n",
       "Embarked_Q                0\n",
       "Embarked_S                0\n",
       "cabin_letter2          1014\n",
       "dtype: int64"
      ]
     },
     "execution_count": 132,
     "metadata": {},
     "output_type": "execute_result"
    }
   ],
   "source": [
    "df.isna().sum()"
   ]
  },
  {
   "cell_type": "code",
   "execution_count": 133,
   "id": "e250ebf7-57fa-4fa0-a144-bfbe40ec4826",
   "metadata": {},
   "outputs": [
    {
     "data": {
      "text/plain": [
       "Name                    object\n",
       "Sex                     object\n",
       "Age                    float64\n",
       "Pclass                   int64\n",
       "SibSp                    int64\n",
       "Parch                    int64\n",
       "Ticket                  object\n",
       "Fare                   float64\n",
       "Cabin                   object\n",
       "Survived                 int64\n",
       "n_familiares             int64\n",
       "is_alone                  bool\n",
       "is_child                  bool\n",
       "is_young                  bool\n",
       "years_per_class        float64\n",
       "cabin_letter             int64\n",
       "title                  float64\n",
       "name_length              int64\n",
       "ticket_start_letter       bool\n",
       "Embarked_C                bool\n",
       "Embarked_Q                bool\n",
       "Embarked_S                bool\n",
       "cabin_letter2           object\n",
       "dtype: object"
      ]
     },
     "execution_count": 133,
     "metadata": {},
     "output_type": "execute_result"
    }
   ],
   "source": [
    "df.dtypes"
   ]
  },
  {
   "cell_type": "code",
   "execution_count": null,
   "id": "a02a17cf-9964-4cde-ab63-d5ff7436694d",
   "metadata": {},
   "outputs": [],
   "source": []
  },
  {
   "cell_type": "markdown",
   "id": "0326aadf-53fa-4182-a19d-65d433ccea68",
   "metadata": {},
   "source": [
    "Antes de predecir, asegúrate de que:\n",
    " - no hay nulos\n",
    " - solo hay columnas numéricas"
   ]
  },
  {
   "cell_type": "code",
   "execution_count": null,
   "id": "31696707-9579-447f-a597-ba0c8d07c6ee",
   "metadata": {},
   "outputs": [],
   "source": [
    "# df_test.isna().sum()"
   ]
  },
  {
   "cell_type": "code",
   "execution_count": null,
   "id": "bf6fd4df-f1cf-4bcc-bc0d-384a28735c92",
   "metadata": {},
   "outputs": [],
   "source": [
    "# df_test.dtypes"
   ]
  },
  {
   "cell_type": "markdown",
   "id": "64b63925-99f7-48ba-97af-f7177235ca0e",
   "metadata": {},
   "source": [
    "Antes de predecir, asegúrate de que:  \n",
    "**el orden de las columnas del test es como el train** (exceptuando la variable objetivo)\n",
    "\n",
    "Puedes usar algo similar a:"
   ]
  },
  {
   "cell_type": "code",
   "execution_count": 134,
   "id": "486da9f7-128b-4f9b-9faa-123eec88c8ff",
   "metadata": {},
   "outputs": [
    {
     "data": {
      "text/plain": [
       "['Name',\n",
       " 'Sex',\n",
       " 'Age',\n",
       " 'Pclass',\n",
       " 'SibSp',\n",
       " 'Parch',\n",
       " 'Ticket',\n",
       " 'Fare',\n",
       " 'Cabin',\n",
       " 'n_familiares',\n",
       " 'is_alone',\n",
       " 'is_child',\n",
       " 'is_young',\n",
       " 'years_per_class',\n",
       " 'cabin_letter',\n",
       " 'title',\n",
       " 'name_length',\n",
       " 'ticket_start_letter',\n",
       " 'Embarked_C',\n",
       " 'Embarked_Q',\n",
       " 'Embarked_S',\n",
       " 'cabin_letter2']"
      ]
     },
     "execution_count": 134,
     "metadata": {},
     "output_type": "execute_result"
    }
   ],
   "source": [
    "cols_train = df.drop(columns=\"Survived\").columns.tolist()\n",
    "cols_train"
   ]
  },
  {
   "cell_type": "code",
   "execution_count": null,
   "id": "c93a1c2d-630d-4b3e-a339-38bf7aaa3e45",
   "metadata": {},
   "outputs": [],
   "source": [
    "# df_test = df_test[cols_train]"
   ]
  },
  {
   "cell_type": "markdown",
   "id": "0e2a7af5-9c10-4247-b156-21c45099f1f1",
   "metadata": {},
   "source": [
    "Algunos ejemplos y la respuesta de ChatGPT:\n",
    "\n",
    "Encoding de géneros de películas:\n",
    " - One-Hot Encoding: Ideal si no hay demasiados géneros y cada película pertenece a un solo género.\n",
    "\n",
    "Encoding de días de la semana:\n",
    " - Ordinal Encoding: Dado que los días de la semana tienen un orden natural (lunes a domingo).\n",
    " - One-Hot Encoding: Si no se considera el orden de los días y se trata cada día como una categoría independiente.\n",
    "\n",
    "Encoding de estaciones del año:\n",
    " - Ordinal Encoding: Las estaciones siguen un orden cíclico y pueden codificarse secuencialmente.\n",
    " - One-Hot Encoding: Si se prefiere tratar cada estación como una categoría independiente.\n",
    "\n",
    "Encoding de códigos postales:\n",
    " - Target Encoding: Útil si hay muchos códigos postales y están correlacionados con la variable objetivo.\n",
    " - Frequency Encoding: Codifica los códigos postales según la frecuencia de su aparición en el dataset.\n",
    "\n",
    "Encoding de niveles educativos:\n",
    " - Ordinal Encoding: Ya que los niveles educativos tienen un orden inherente (por ejemplo, primaria, secundaria, universitaria).\n",
    " - One-Hot Encoding: Si se considera cada nivel educativo como una categoría separada sin orden.\n",
    "\n",
    "Encoding de países del mundo:\n",
    " - One-Hot Encoding: Adecuado si la lista de países no es excesivamente larga y se trata cada país como una categoría única.\n",
    " - Less categories encoding: pasarlo a continente\n",
    " - Target encoding: asignar la media de la variable objetivo a cada país"
   ]
  },
  {
   "cell_type": "markdown",
   "id": "fdc077bc-018c-4905-bed0-dd2b5f70144d",
   "metadata": {},
   "source": [
    "# Hiperparámetros: encontrando los mejores"
   ]
  },
  {
   "cell_type": "markdown",
   "id": "2f9684cf-6114-4b97-85cd-e30c15fa0d20",
   "metadata": {},
   "source": [
    "Los modelos aceptan diferentes hiperparámetros"
   ]
  },
  {
   "cell_type": "code",
   "execution_count": 148,
   "id": "618552f5-db5d-4608-9da8-6effe42f68fa",
   "metadata": {},
   "outputs": [],
   "source": [
    "from sklearn.tree import DecisionTreeClassifier"
   ]
  },
  {
   "cell_type": "code",
   "execution_count": 149,
   "id": "7b6d3aa9-9149-4003-b61d-f70df99b40e7",
   "metadata": {},
   "outputs": [],
   "source": [
    "tree = DecisionTreeClassifier(max_depth=5)"
   ]
  },
  {
   "cell_type": "code",
   "execution_count": 150,
   "id": "3000e612-e0a8-4678-a438-2d4ea600aa26",
   "metadata": {},
   "outputs": [
    {
     "data": {
      "text/plain": [
       "{'ccp_alpha': 0.0,\n",
       " 'class_weight': None,\n",
       " 'criterion': 'gini',\n",
       " 'max_depth': 5,\n",
       " 'max_features': None,\n",
       " 'max_leaf_nodes': None,\n",
       " 'min_impurity_decrease': 0.0,\n",
       " 'min_samples_leaf': 1,\n",
       " 'min_samples_split': 2,\n",
       " 'min_weight_fraction_leaf': 0.0,\n",
       " 'random_state': None,\n",
       " 'splitter': 'best'}"
      ]
     },
     "execution_count": 150,
     "metadata": {},
     "output_type": "execute_result"
    }
   ],
   "source": [
    "tree.get_params()"
   ]
  },
  {
   "cell_type": "markdown",
   "id": "ae4c6513-0f93-49e5-b456-f327018aac19",
   "metadata": {},
   "source": [
    "Cómo encuentro los mejores?"
   ]
  },
  {
   "cell_type": "markdown",
   "id": "d7e1d317-8035-4815-8765-c2dc80fff138",
   "metadata": {},
   "source": [
    "## GridSearch"
   ]
  },
  {
   "cell_type": "markdown",
   "id": "a408ee9b-93a2-450f-ba58-c2da0e7e1e2d",
   "metadata": {},
   "source": [
    "GridSearchCV:\n",
    " - realiza una **búsqueda exhaustiva** sobre un subconjunto especificado del espacio de hiperparámetros\n",
    " - puede encontrar la mejor combinación de hiperparámetros\n",
    " - puede ser muy lento con un gran número de combinaciones de hiperparámetros"
   ]
  },
  {
   "cell_type": "code",
   "execution_count": 151,
   "id": "b68bad66-9ad7-4542-ac86-20ee758617ff",
   "metadata": {},
   "outputs": [],
   "source": [
    "from sklearn.model_selection import GridSearchCV"
   ]
  },
  {
   "cell_type": "code",
   "execution_count": 154,
   "id": "2088f407-31f0-41e0-8e2b-ca90a1e8e9a7",
   "metadata": {},
   "outputs": [
    {
     "data": {
      "text/plain": [
       "Index(['Name', 'Sex', 'Age', 'Pclass', 'SibSp', 'Parch', 'Ticket', 'Fare',\n",
       "       'Cabin', 'Survived', 'n_familiares', 'is_alone', 'is_child', 'is_young',\n",
       "       'years_per_class', 'cabin_letter', 'title', 'name_length',\n",
       "       'ticket_start_letter', 'Embarked_C', 'Embarked_Q', 'Embarked_S',\n",
       "       'cabin_letter2'],\n",
       "      dtype='object')"
      ]
     },
     "execution_count": 154,
     "metadata": {},
     "output_type": "execute_result"
    }
   ],
   "source": [
    "df.columns"
   ]
  },
  {
   "cell_type": "code",
   "execution_count": 166,
   "id": "0148e0f7-92ff-40df-b861-2586ffc08692",
   "metadata": {},
   "outputs": [],
   "source": [
    "dff = df[['Sex', 'Age', 'Pclass', 'Fare',\n",
    "        'n_familiares', 'is_alone', 'is_child',\n",
    "       'years_per_class', 'cabin_letter', 'title', 'name_length',\n",
    "       'ticket_start_letter', 'Embarked_C', 'Embarked_Q', 'Embarked_S', 'Survived']].copy()"
   ]
  },
  {
   "cell_type": "code",
   "execution_count": 167,
   "id": "15464719-9baa-420f-81b5-42e921977ca1",
   "metadata": {},
   "outputs": [],
   "source": [
    "dff.Age = dff.Age.fillna(dff.Age.mean())"
   ]
  },
  {
   "cell_type": "code",
   "execution_count": 168,
   "id": "6bec2dce-dc76-42a5-945a-fdc7c02119a8",
   "metadata": {},
   "outputs": [],
   "source": [
    "dff.years_per_class = dff.years_per_class.fillna(0)"
   ]
  },
  {
   "cell_type": "code",
   "execution_count": 170,
   "id": "30e38cba-a3d6-4596-a9f5-8ade923f6648",
   "metadata": {},
   "outputs": [],
   "source": [
    "dff.Fare = dff.Fare.fillna(0)"
   ]
  },
  {
   "cell_type": "code",
   "execution_count": 173,
   "id": "3a959be8-a481-493f-a7ef-e9099de6380d",
   "metadata": {},
   "outputs": [
    {
     "data": {
      "text/html": [
       "<div>\n",
       "<style scoped>\n",
       "    .dataframe tbody tr th:only-of-type {\n",
       "        vertical-align: middle;\n",
       "    }\n",
       "\n",
       "    .dataframe tbody tr th {\n",
       "        vertical-align: top;\n",
       "    }\n",
       "\n",
       "    .dataframe thead th {\n",
       "        text-align: right;\n",
       "    }\n",
       "</style>\n",
       "<table border=\"1\" class=\"dataframe\">\n",
       "  <thead>\n",
       "    <tr style=\"text-align: right;\">\n",
       "      <th></th>\n",
       "      <th>Sex</th>\n",
       "      <th>Age</th>\n",
       "      <th>Pclass</th>\n",
       "      <th>Fare</th>\n",
       "      <th>n_familiares</th>\n",
       "      <th>is_alone</th>\n",
       "      <th>is_child</th>\n",
       "      <th>years_per_class</th>\n",
       "      <th>cabin_letter</th>\n",
       "      <th>title</th>\n",
       "      <th>name_length</th>\n",
       "      <th>ticket_start_letter</th>\n",
       "      <th>Embarked_C</th>\n",
       "      <th>Embarked_Q</th>\n",
       "      <th>Embarked_S</th>\n",
       "      <th>Survived</th>\n",
       "    </tr>\n",
       "  </thead>\n",
       "  <tbody>\n",
       "    <tr>\n",
       "      <th>0</th>\n",
       "      <td>0</td>\n",
       "      <td>30.0</td>\n",
       "      <td>3</td>\n",
       "      <td>7.8958</td>\n",
       "      <td>0</td>\n",
       "      <td>True</td>\n",
       "      <td>False</td>\n",
       "      <td>10.0</td>\n",
       "      <td>8</td>\n",
       "      <td>0.162</td>\n",
       "      <td>17</td>\n",
       "      <td>False</td>\n",
       "      <td>False</td>\n",
       "      <td>False</td>\n",
       "      <td>True</td>\n",
       "      <td>0</td>\n",
       "    </tr>\n",
       "    <tr>\n",
       "      <th>1</th>\n",
       "      <td>1</td>\n",
       "      <td>33.0</td>\n",
       "      <td>3</td>\n",
       "      <td>20.5750</td>\n",
       "      <td>3</td>\n",
       "      <td>False</td>\n",
       "      <td>False</td>\n",
       "      <td>11.0</td>\n",
       "      <td>8</td>\n",
       "      <td>0.787</td>\n",
       "      <td>18</td>\n",
       "      <td>True</td>\n",
       "      <td>False</td>\n",
       "      <td>False</td>\n",
       "      <td>True</td>\n",
       "      <td>1</td>\n",
       "    </tr>\n",
       "    <tr>\n",
       "      <th>2</th>\n",
       "      <td>1</td>\n",
       "      <td>39.0</td>\n",
       "      <td>3</td>\n",
       "      <td>29.1250</td>\n",
       "      <td>5</td>\n",
       "      <td>False</td>\n",
       "      <td>False</td>\n",
       "      <td>13.0</td>\n",
       "      <td>8</td>\n",
       "      <td>0.787</td>\n",
       "      <td>18</td>\n",
       "      <td>False</td>\n",
       "      <td>False</td>\n",
       "      <td>True</td>\n",
       "      <td>False</td>\n",
       "      <td>0</td>\n",
       "    </tr>\n",
       "    <tr>\n",
       "      <th>3</th>\n",
       "      <td>1</td>\n",
       "      <td>27.0</td>\n",
       "      <td>1</td>\n",
       "      <td>52.0000</td>\n",
       "      <td>3</td>\n",
       "      <td>False</td>\n",
       "      <td>False</td>\n",
       "      <td>27.0</td>\n",
       "      <td>1</td>\n",
       "      <td>0.787</td>\n",
       "      <td>23</td>\n",
       "      <td>True</td>\n",
       "      <td>False</td>\n",
       "      <td>False</td>\n",
       "      <td>True</td>\n",
       "      <td>1</td>\n",
       "    </tr>\n",
       "    <tr>\n",
       "      <th>4</th>\n",
       "      <td>1</td>\n",
       "      <td>50.0</td>\n",
       "      <td>2</td>\n",
       "      <td>10.5000</td>\n",
       "      <td>0</td>\n",
       "      <td>True</td>\n",
       "      <td>False</td>\n",
       "      <td>25.0</td>\n",
       "      <td>8</td>\n",
       "      <td>0.677</td>\n",
       "      <td>20</td>\n",
       "      <td>True</td>\n",
       "      <td>False</td>\n",
       "      <td>False</td>\n",
       "      <td>True</td>\n",
       "      <td>1</td>\n",
       "    </tr>\n",
       "  </tbody>\n",
       "</table>\n",
       "</div>"
      ],
      "text/plain": [
       "   Sex   Age  Pclass     Fare  n_familiares  is_alone  is_child  \\\n",
       "0    0  30.0       3   7.8958             0      True     False   \n",
       "1    1  33.0       3  20.5750             3     False     False   \n",
       "2    1  39.0       3  29.1250             5     False     False   \n",
       "3    1  27.0       1  52.0000             3     False     False   \n",
       "4    1  50.0       2  10.5000             0      True     False   \n",
       "\n",
       "   years_per_class  cabin_letter  title  name_length  ticket_start_letter  \\\n",
       "0             10.0             8  0.162           17                False   \n",
       "1             11.0             8  0.787           18                 True   \n",
       "2             13.0             8  0.787           18                False   \n",
       "3             27.0             1  0.787           23                 True   \n",
       "4             25.0             8  0.677           20                 True   \n",
       "\n",
       "   Embarked_C  Embarked_Q  Embarked_S  Survived  \n",
       "0       False       False        True         0  \n",
       "1       False       False        True         1  \n",
       "2       False        True       False         0  \n",
       "3       False       False        True         1  \n",
       "4       False       False        True         1  "
      ]
     },
     "execution_count": 173,
     "metadata": {},
     "output_type": "execute_result"
    }
   ],
   "source": [
    "dff.head()"
   ]
  },
  {
   "cell_type": "code",
   "execution_count": 183,
   "id": "e964fd97-b0ab-4a45-afb9-caab41f88b9a",
   "metadata": {},
   "outputs": [],
   "source": [
    "params = {\n",
    "    'criterion': ['gini', 'log_loss'],\n",
    "    'max_depth': [4, 5, 6, 7, 8, 9],\n",
    "    'min_samples_split': [2, 5, 10],\n",
    "    'max_features': [0.8, 1]\n",
    "}"
   ]
  },
  {
   "cell_type": "code",
   "execution_count": 198,
   "id": "ce43562c-68bf-4c5d-9f14-c01b3b65a4d2",
   "metadata": {},
   "outputs": [],
   "source": [
    "gs = GridSearchCV(\n",
    "    estimator=DecisionTreeClassifier(), \n",
    "    param_grid=params, \n",
    "    cv=5,\n",
    "    # n_jobs=-2, \n",
    "    verbose=1,\n",
    "    return_train_score=True\n",
    ")"
   ]
  },
  {
   "cell_type": "code",
   "execution_count": 199,
   "id": "2d40d35a-43b1-4a6c-9787-5655c2541ef6",
   "metadata": {},
   "outputs": [],
   "source": [
    "X = dff.drop(columns=\"Survived\")\n",
    "y = dff.Survived"
   ]
  },
  {
   "cell_type": "code",
   "execution_count": 200,
   "id": "a30e3e21-9561-4041-8be0-b4f19e17ad02",
   "metadata": {},
   "outputs": [
    {
     "name": "stdout",
     "output_type": "stream",
     "text": [
      "Fitting 5 folds for each of 72 candidates, totalling 360 fits\n",
      "CPU times: user 2.57 s, sys: 0 ns, total: 2.57 s\n",
      "Wall time: 2.59 s\n"
     ]
    },
    {
     "data": {
      "text/html": [
       "<style>#sk-container-id-7 {color: black;}#sk-container-id-7 pre{padding: 0;}#sk-container-id-7 div.sk-toggleable {background-color: white;}#sk-container-id-7 label.sk-toggleable__label {cursor: pointer;display: block;width: 100%;margin-bottom: 0;padding: 0.3em;box-sizing: border-box;text-align: center;}#sk-container-id-7 label.sk-toggleable__label-arrow:before {content: \"▸\";float: left;margin-right: 0.25em;color: #696969;}#sk-container-id-7 label.sk-toggleable__label-arrow:hover:before {color: black;}#sk-container-id-7 div.sk-estimator:hover label.sk-toggleable__label-arrow:before {color: black;}#sk-container-id-7 div.sk-toggleable__content {max-height: 0;max-width: 0;overflow: hidden;text-align: left;background-color: #f0f8ff;}#sk-container-id-7 div.sk-toggleable__content pre {margin: 0.2em;color: black;border-radius: 0.25em;background-color: #f0f8ff;}#sk-container-id-7 input.sk-toggleable__control:checked~div.sk-toggleable__content {max-height: 200px;max-width: 100%;overflow: auto;}#sk-container-id-7 input.sk-toggleable__control:checked~label.sk-toggleable__label-arrow:before {content: \"▾\";}#sk-container-id-7 div.sk-estimator input.sk-toggleable__control:checked~label.sk-toggleable__label {background-color: #d4ebff;}#sk-container-id-7 div.sk-label input.sk-toggleable__control:checked~label.sk-toggleable__label {background-color: #d4ebff;}#sk-container-id-7 input.sk-hidden--visually {border: 0;clip: rect(1px 1px 1px 1px);clip: rect(1px, 1px, 1px, 1px);height: 1px;margin: -1px;overflow: hidden;padding: 0;position: absolute;width: 1px;}#sk-container-id-7 div.sk-estimator {font-family: monospace;background-color: #f0f8ff;border: 1px dotted black;border-radius: 0.25em;box-sizing: border-box;margin-bottom: 0.5em;}#sk-container-id-7 div.sk-estimator:hover {background-color: #d4ebff;}#sk-container-id-7 div.sk-parallel-item::after {content: \"\";width: 100%;border-bottom: 1px solid gray;flex-grow: 1;}#sk-container-id-7 div.sk-label:hover label.sk-toggleable__label {background-color: #d4ebff;}#sk-container-id-7 div.sk-serial::before {content: \"\";position: absolute;border-left: 1px solid gray;box-sizing: border-box;top: 0;bottom: 0;left: 50%;z-index: 0;}#sk-container-id-7 div.sk-serial {display: flex;flex-direction: column;align-items: center;background-color: white;padding-right: 0.2em;padding-left: 0.2em;position: relative;}#sk-container-id-7 div.sk-item {position: relative;z-index: 1;}#sk-container-id-7 div.sk-parallel {display: flex;align-items: stretch;justify-content: center;background-color: white;position: relative;}#sk-container-id-7 div.sk-item::before, #sk-container-id-7 div.sk-parallel-item::before {content: \"\";position: absolute;border-left: 1px solid gray;box-sizing: border-box;top: 0;bottom: 0;left: 50%;z-index: -1;}#sk-container-id-7 div.sk-parallel-item {display: flex;flex-direction: column;z-index: 1;position: relative;background-color: white;}#sk-container-id-7 div.sk-parallel-item:first-child::after {align-self: flex-end;width: 50%;}#sk-container-id-7 div.sk-parallel-item:last-child::after {align-self: flex-start;width: 50%;}#sk-container-id-7 div.sk-parallel-item:only-child::after {width: 0;}#sk-container-id-7 div.sk-dashed-wrapped {border: 1px dashed gray;margin: 0 0.4em 0.5em 0.4em;box-sizing: border-box;padding-bottom: 0.4em;background-color: white;}#sk-container-id-7 div.sk-label label {font-family: monospace;font-weight: bold;display: inline-block;line-height: 1.2em;}#sk-container-id-7 div.sk-label-container {text-align: center;}#sk-container-id-7 div.sk-container {/* jupyter's `normalize.less` sets `[hidden] { display: none; }` but bootstrap.min.css set `[hidden] { display: none !important; }` so we also need the `!important` here to be able to override the default hidden behavior on the sphinx rendered scikit-learn.org. See: https://github.com/scikit-learn/scikit-learn/issues/21755 */display: inline-block !important;position: relative;}#sk-container-id-7 div.sk-text-repr-fallback {display: none;}</style><div id=\"sk-container-id-7\" class=\"sk-top-container\"><div class=\"sk-text-repr-fallback\"><pre>GridSearchCV(cv=5, estimator=DecisionTreeClassifier(),\n",
       "             param_grid={&#x27;criterion&#x27;: [&#x27;gini&#x27;, &#x27;log_loss&#x27;],\n",
       "                         &#x27;max_depth&#x27;: [4, 5, 6, 7, 8, 9],\n",
       "                         &#x27;max_features&#x27;: [0.8, 1],\n",
       "                         &#x27;min_samples_split&#x27;: [2, 5, 10]},\n",
       "             return_train_score=True, verbose=1)</pre><b>In a Jupyter environment, please rerun this cell to show the HTML representation or trust the notebook. <br />On GitHub, the HTML representation is unable to render, please try loading this page with nbviewer.org.</b></div><div class=\"sk-container\" hidden><div class=\"sk-item sk-dashed-wrapped\"><div class=\"sk-label-container\"><div class=\"sk-label sk-toggleable\"><input class=\"sk-toggleable__control sk-hidden--visually\" id=\"sk-estimator-id-17\" type=\"checkbox\" ><label for=\"sk-estimator-id-17\" class=\"sk-toggleable__label sk-toggleable__label-arrow\">GridSearchCV</label><div class=\"sk-toggleable__content\"><pre>GridSearchCV(cv=5, estimator=DecisionTreeClassifier(),\n",
       "             param_grid={&#x27;criterion&#x27;: [&#x27;gini&#x27;, &#x27;log_loss&#x27;],\n",
       "                         &#x27;max_depth&#x27;: [4, 5, 6, 7, 8, 9],\n",
       "                         &#x27;max_features&#x27;: [0.8, 1],\n",
       "                         &#x27;min_samples_split&#x27;: [2, 5, 10]},\n",
       "             return_train_score=True, verbose=1)</pre></div></div></div><div class=\"sk-parallel\"><div class=\"sk-parallel-item\"><div class=\"sk-item\"><div class=\"sk-label-container\"><div class=\"sk-label sk-toggleable\"><input class=\"sk-toggleable__control sk-hidden--visually\" id=\"sk-estimator-id-18\" type=\"checkbox\" ><label for=\"sk-estimator-id-18\" class=\"sk-toggleable__label sk-toggleable__label-arrow\">estimator: DecisionTreeClassifier</label><div class=\"sk-toggleable__content\"><pre>DecisionTreeClassifier()</pre></div></div></div><div class=\"sk-serial\"><div class=\"sk-item\"><div class=\"sk-estimator sk-toggleable\"><input class=\"sk-toggleable__control sk-hidden--visually\" id=\"sk-estimator-id-19\" type=\"checkbox\" ><label for=\"sk-estimator-id-19\" class=\"sk-toggleable__label sk-toggleable__label-arrow\">DecisionTreeClassifier</label><div class=\"sk-toggleable__content\"><pre>DecisionTreeClassifier()</pre></div></div></div></div></div></div></div></div></div></div>"
      ],
      "text/plain": [
       "GridSearchCV(cv=5, estimator=DecisionTreeClassifier(),\n",
       "             param_grid={'criterion': ['gini', 'log_loss'],\n",
       "                         'max_depth': [4, 5, 6, 7, 8, 9],\n",
       "                         'max_features': [0.8, 1],\n",
       "                         'min_samples_split': [2, 5, 10]},\n",
       "             return_train_score=True, verbose=1)"
      ]
     },
     "execution_count": 200,
     "metadata": {},
     "output_type": "execute_result"
    }
   ],
   "source": [
    "%%time\n",
    "gs.fit(X, y)"
   ]
  },
  {
   "cell_type": "code",
   "execution_count": 201,
   "id": "f4567a65-593e-44ed-a054-1d741154ff3e",
   "metadata": {},
   "outputs": [
    {
     "data": {
      "text/plain": [
       "{'criterion': 'log_loss',\n",
       " 'max_depth': 5,\n",
       " 'max_features': 0.8,\n",
       " 'min_samples_split': 10}"
      ]
     },
     "execution_count": 201,
     "metadata": {},
     "output_type": "execute_result"
    }
   ],
   "source": [
    "gs.best_params_"
   ]
  },
  {
   "cell_type": "code",
   "execution_count": 202,
   "id": "29a0013c-72c0-495d-8b75-0d18b91f20e8",
   "metadata": {},
   "outputs": [
    {
     "data": {
      "text/html": [
       "<style>#sk-container-id-8 {color: black;}#sk-container-id-8 pre{padding: 0;}#sk-container-id-8 div.sk-toggleable {background-color: white;}#sk-container-id-8 label.sk-toggleable__label {cursor: pointer;display: block;width: 100%;margin-bottom: 0;padding: 0.3em;box-sizing: border-box;text-align: center;}#sk-container-id-8 label.sk-toggleable__label-arrow:before {content: \"▸\";float: left;margin-right: 0.25em;color: #696969;}#sk-container-id-8 label.sk-toggleable__label-arrow:hover:before {color: black;}#sk-container-id-8 div.sk-estimator:hover label.sk-toggleable__label-arrow:before {color: black;}#sk-container-id-8 div.sk-toggleable__content {max-height: 0;max-width: 0;overflow: hidden;text-align: left;background-color: #f0f8ff;}#sk-container-id-8 div.sk-toggleable__content pre {margin: 0.2em;color: black;border-radius: 0.25em;background-color: #f0f8ff;}#sk-container-id-8 input.sk-toggleable__control:checked~div.sk-toggleable__content {max-height: 200px;max-width: 100%;overflow: auto;}#sk-container-id-8 input.sk-toggleable__control:checked~label.sk-toggleable__label-arrow:before {content: \"▾\";}#sk-container-id-8 div.sk-estimator input.sk-toggleable__control:checked~label.sk-toggleable__label {background-color: #d4ebff;}#sk-container-id-8 div.sk-label input.sk-toggleable__control:checked~label.sk-toggleable__label {background-color: #d4ebff;}#sk-container-id-8 input.sk-hidden--visually {border: 0;clip: rect(1px 1px 1px 1px);clip: rect(1px, 1px, 1px, 1px);height: 1px;margin: -1px;overflow: hidden;padding: 0;position: absolute;width: 1px;}#sk-container-id-8 div.sk-estimator {font-family: monospace;background-color: #f0f8ff;border: 1px dotted black;border-radius: 0.25em;box-sizing: border-box;margin-bottom: 0.5em;}#sk-container-id-8 div.sk-estimator:hover {background-color: #d4ebff;}#sk-container-id-8 div.sk-parallel-item::after {content: \"\";width: 100%;border-bottom: 1px solid gray;flex-grow: 1;}#sk-container-id-8 div.sk-label:hover label.sk-toggleable__label {background-color: #d4ebff;}#sk-container-id-8 div.sk-serial::before {content: \"\";position: absolute;border-left: 1px solid gray;box-sizing: border-box;top: 0;bottom: 0;left: 50%;z-index: 0;}#sk-container-id-8 div.sk-serial {display: flex;flex-direction: column;align-items: center;background-color: white;padding-right: 0.2em;padding-left: 0.2em;position: relative;}#sk-container-id-8 div.sk-item {position: relative;z-index: 1;}#sk-container-id-8 div.sk-parallel {display: flex;align-items: stretch;justify-content: center;background-color: white;position: relative;}#sk-container-id-8 div.sk-item::before, #sk-container-id-8 div.sk-parallel-item::before {content: \"\";position: absolute;border-left: 1px solid gray;box-sizing: border-box;top: 0;bottom: 0;left: 50%;z-index: -1;}#sk-container-id-8 div.sk-parallel-item {display: flex;flex-direction: column;z-index: 1;position: relative;background-color: white;}#sk-container-id-8 div.sk-parallel-item:first-child::after {align-self: flex-end;width: 50%;}#sk-container-id-8 div.sk-parallel-item:last-child::after {align-self: flex-start;width: 50%;}#sk-container-id-8 div.sk-parallel-item:only-child::after {width: 0;}#sk-container-id-8 div.sk-dashed-wrapped {border: 1px dashed gray;margin: 0 0.4em 0.5em 0.4em;box-sizing: border-box;padding-bottom: 0.4em;background-color: white;}#sk-container-id-8 div.sk-label label {font-family: monospace;font-weight: bold;display: inline-block;line-height: 1.2em;}#sk-container-id-8 div.sk-label-container {text-align: center;}#sk-container-id-8 div.sk-container {/* jupyter's `normalize.less` sets `[hidden] { display: none; }` but bootstrap.min.css set `[hidden] { display: none !important; }` so we also need the `!important` here to be able to override the default hidden behavior on the sphinx rendered scikit-learn.org. See: https://github.com/scikit-learn/scikit-learn/issues/21755 */display: inline-block !important;position: relative;}#sk-container-id-8 div.sk-text-repr-fallback {display: none;}</style><div id=\"sk-container-id-8\" class=\"sk-top-container\"><div class=\"sk-text-repr-fallback\"><pre>DecisionTreeClassifier(criterion=&#x27;log_loss&#x27;, max_depth=5, max_features=0.8,\n",
       "                       min_samples_split=10)</pre><b>In a Jupyter environment, please rerun this cell to show the HTML representation or trust the notebook. <br />On GitHub, the HTML representation is unable to render, please try loading this page with nbviewer.org.</b></div><div class=\"sk-container\" hidden><div class=\"sk-item\"><div class=\"sk-estimator sk-toggleable\"><input class=\"sk-toggleable__control sk-hidden--visually\" id=\"sk-estimator-id-20\" type=\"checkbox\" checked><label for=\"sk-estimator-id-20\" class=\"sk-toggleable__label sk-toggleable__label-arrow\">DecisionTreeClassifier</label><div class=\"sk-toggleable__content\"><pre>DecisionTreeClassifier(criterion=&#x27;log_loss&#x27;, max_depth=5, max_features=0.8,\n",
       "                       min_samples_split=10)</pre></div></div></div></div></div>"
      ],
      "text/plain": [
       "DecisionTreeClassifier(criterion='log_loss', max_depth=5, max_features=0.8,\n",
       "                       min_samples_split=10)"
      ]
     },
     "execution_count": 202,
     "metadata": {},
     "output_type": "execute_result"
    }
   ],
   "source": [
    "gs.best_estimator_"
   ]
  },
  {
   "cell_type": "code",
   "execution_count": 203,
   "id": "7d3dddd9-d008-4ecc-9740-905d162b940a",
   "metadata": {},
   "outputs": [],
   "source": [
    "cv_results = pd.DataFrame(gs.cv_results_)[['params', 'mean_test_score', 'mean_train_score']]"
   ]
  },
  {
   "cell_type": "code",
   "execution_count": 205,
   "id": "7dd84de4-baf0-4aa5-a7ef-afc0764395da",
   "metadata": {},
   "outputs": [
    {
     "data": {
      "text/html": [
       "<div>\n",
       "<style scoped>\n",
       "    .dataframe tbody tr th:only-of-type {\n",
       "        vertical-align: middle;\n",
       "    }\n",
       "\n",
       "    .dataframe tbody tr th {\n",
       "        vertical-align: top;\n",
       "    }\n",
       "\n",
       "    .dataframe thead th {\n",
       "        text-align: right;\n",
       "    }\n",
       "</style>\n",
       "<table border=\"1\" class=\"dataframe\">\n",
       "  <thead>\n",
       "    <tr style=\"text-align: right;\">\n",
       "      <th></th>\n",
       "      <th>params</th>\n",
       "      <th>mean_test_score</th>\n",
       "      <th>mean_train_score</th>\n",
       "    </tr>\n",
       "  </thead>\n",
       "  <tbody>\n",
       "    <tr>\n",
       "      <th>0</th>\n",
       "      <td>{'criterion': 'gini', 'max_depth': 4, 'max_fea...</td>\n",
       "      <td>0.798321</td>\n",
       "      <td>0.829832</td>\n",
       "    </tr>\n",
       "    <tr>\n",
       "      <th>1</th>\n",
       "      <td>{'criterion': 'gini', 'max_depth': 4, 'max_fea...</td>\n",
       "      <td>0.799087</td>\n",
       "      <td>0.831550</td>\n",
       "    </tr>\n",
       "    <tr>\n",
       "      <th>2</th>\n",
       "      <td>{'criterion': 'gini', 'max_depth': 4, 'max_fea...</td>\n",
       "      <td>0.799090</td>\n",
       "      <td>0.832123</td>\n",
       "    </tr>\n",
       "    <tr>\n",
       "      <th>3</th>\n",
       "      <td>{'criterion': 'gini', 'max_depth': 4, 'max_fea...</td>\n",
       "      <td>0.724234</td>\n",
       "      <td>0.747138</td>\n",
       "    </tr>\n",
       "    <tr>\n",
       "      <th>4</th>\n",
       "      <td>{'criterion': 'gini', 'max_depth': 4, 'max_fea...</td>\n",
       "      <td>0.714305</td>\n",
       "      <td>0.742360</td>\n",
       "    </tr>\n",
       "  </tbody>\n",
       "</table>\n",
       "</div>"
      ],
      "text/plain": [
       "                                              params  mean_test_score  \\\n",
       "0  {'criterion': 'gini', 'max_depth': 4, 'max_fea...         0.798321   \n",
       "1  {'criterion': 'gini', 'max_depth': 4, 'max_fea...         0.799087   \n",
       "2  {'criterion': 'gini', 'max_depth': 4, 'max_fea...         0.799090   \n",
       "3  {'criterion': 'gini', 'max_depth': 4, 'max_fea...         0.724234   \n",
       "4  {'criterion': 'gini', 'max_depth': 4, 'max_fea...         0.714305   \n",
       "\n",
       "   mean_train_score  \n",
       "0          0.829832  \n",
       "1          0.831550  \n",
       "2          0.832123  \n",
       "3          0.747138  \n",
       "4          0.742360  "
      ]
     },
     "execution_count": 205,
     "metadata": {},
     "output_type": "execute_result"
    }
   ],
   "source": [
    "cv_results.head()"
   ]
  },
  {
   "cell_type": "code",
   "execution_count": null,
   "id": "2b74a7b2-b7db-4349-ba62-e7068b6b2d04",
   "metadata": {},
   "outputs": [],
   "source": [
    "gs.predict(X_test)"
   ]
  },
  {
   "cell_type": "markdown",
   "id": "7faa3fc4-e1aa-4c22-b3a2-67789e5561b9",
   "metadata": {},
   "source": [
    "## RandomSearch"
   ]
  },
  {
   "cell_type": "markdown",
   "id": "82cf7eeb-9282-421e-99cf-dcf8d0c9c307",
   "metadata": {},
   "source": [
    "RandomSearchCV:\n",
    " - selecciona **al azar** combinaciones de hiperparámetros para probar\n",
    " - más rápido que GridSearchCV, ya que no prueba todas las combinaciones posibles\n",
    " - es eficaz si la dimensión del espacio de hiperparámetros es alta\n",
    " - no garantiza encontrar la mejor combinación de hiperparámetros, ya que la búsqueda es aleatoria."
   ]
  },
  {
   "cell_type": "code",
   "execution_count": 206,
   "id": "f0b3d9db-1cfb-428e-a43d-73ced5142b76",
   "metadata": {},
   "outputs": [
    {
     "name": "stdout",
     "output_type": "stream",
     "text": [
      "[CV 3/5] END criterion=log_loss, max_depth=6, max_features=1, min_samples_split=10;, score=0.760 total time=   0.0s\n",
      "[CV 4/5] END criterion=log_loss, max_depth=6, max_features=1, min_samples_split=10;, score=0.710 total time=   0.0s\n",
      "[CV 5/5] END criterion=log_loss, max_depth=6, max_features=1, min_samples_split=10;, score=0.747 total time=   0.0s\n",
      "[CV 1/5] END criterion=log_loss, max_depth=7, max_features=0.8, min_samples_split=2;, score=0.790 total time=   0.0s\n",
      "[CV 2/5] END criterion=log_loss, max_depth=7, max_features=0.8, min_samples_split=2;, score=0.809 total time=   0.0s\n",
      "[CV 3/5] END criterion=log_loss, max_depth=7, max_features=0.8, min_samples_split=2;, score=0.805 total time=   0.0s\n",
      "[CV 4/5] END criterion=log_loss, max_depth=7, max_features=0.8, min_samples_split=2;, score=0.748 total time=   0.0s\n",
      "[CV 5/5] END criterion=log_loss, max_depth=7, max_features=0.8, min_samples_split=2;, score=0.808 total time=   0.0s\n",
      "[CV 1/5] END criterion=log_loss, max_depth=7, max_features=0.8, min_samples_split=5;, score=0.802 total time=   0.0s\n",
      "[CV 2/5] END criterion=log_loss, max_depth=7, max_features=0.8, min_samples_split=5;, score=0.824 total time=   0.0s\n",
      "[CV 3/5] END criterion=log_loss, max_depth=7, max_features=0.8, min_samples_split=5;, score=0.798 total time=   0.0s\n",
      "[CV 4/5] END criterion=log_loss, max_depth=7, max_features=0.8, min_samples_split=5;, score=0.779 total time=   0.0s\n",
      "[CV 5/5] END criterion=log_loss, max_depth=7, max_features=0.8, min_samples_split=5;, score=0.828 total time=   0.0s\n",
      "[CV 1/5] END criterion=log_loss, max_depth=7, max_features=0.8, min_samples_split=10;, score=0.794 total time=   0.0s\n",
      "[CV 2/5] END criterion=log_loss, max_depth=7, max_features=0.8, min_samples_split=10;, score=0.790 total time=   0.0s\n",
      "[CV 5/5] END criterion=log_loss, max_depth=8, max_features=0.8, min_samples_split=10;, score=0.808 total time=   0.0s\n",
      "[CV 1/5] END criterion=log_loss, max_depth=8, max_features=1, min_samples_split=2;, score=0.794 total time=   0.0s\n",
      "[CV 2/5] END criterion=log_loss, max_depth=8, max_features=1, min_samples_split=2;, score=0.782 total time=   0.0s\n",
      "[CV 3/5] END criterion=log_loss, max_depth=8, max_features=1, min_samples_split=2;, score=0.786 total time=   0.0s\n",
      "[CV 4/5] END criterion=log_loss, max_depth=8, max_features=1, min_samples_split=2;, score=0.786 total time=   0.0s\n",
      "[CV 5/5] END criterion=log_loss, max_depth=8, max_features=1, min_samples_split=2;, score=0.789 total time=   0.0s\n",
      "[CV 1/5] END criterion=log_loss, max_depth=8, max_features=1, min_samples_split=5;, score=0.786 total time=   0.0s\n",
      "[CV 2/5] END criterion=log_loss, max_depth=8, max_features=1, min_samples_split=5;, score=0.763 total time=   0.0s\n",
      "[CV 3/5] END criterion=log_loss, max_depth=8, max_features=1, min_samples_split=5;, score=0.729 total time=   0.0s\n",
      "[CV 4/5] END criterion=log_loss, max_depth=8, max_features=1, min_samples_split=5;, score=0.733 total time=   0.0s\n",
      "[CV 5/5] END criterion=log_loss, max_depth=8, max_features=1, min_samples_split=5;, score=0.770 total time=   0.0s\n",
      "[CV 1/5] END criterion=log_loss, max_depth=8, max_features=1, min_samples_split=10;, score=0.771 total time=   0.0s\n",
      "[CV 2/5] END criterion=log_loss, max_depth=8, max_features=1, min_samples_split=10;, score=0.756 total time=   0.0s\n",
      "[CV 3/5] END criterion=log_loss, max_depth=8, max_features=1, min_samples_split=10;, score=0.744 total time=   0.0s\n",
      "[CV 4/5] END criterion=log_loss, max_depth=8, max_features=1, min_samples_split=10;, score=0.760 total time=   0.0s\n",
      "[CV 5/5] END criterion=log_loss, max_depth=8, max_features=1, min_samples_split=10;, score=0.789 total time=   0.0s\n",
      "[CV 4/5] END criterion=log_loss, max_depth=9, max_features=0.8, min_samples_split=5;, score=0.779 total time=   0.0s\n",
      "[CV 1/5] END criterion=log_loss, max_depth=9, max_features=0.8, min_samples_split=10;, score=0.809 total time=   0.0s\n",
      "[CV 4/5] END criterion=log_loss, max_depth=9, max_features=0.8, min_samples_split=10;, score=0.748 total time=   0.0s\n",
      "[CV 4/5] END criterion=log_loss, max_depth=9, max_features=1, min_samples_split=2;, score=0.725 total time=   0.0s\n",
      "[CV 2/5] END criterion=log_loss, max_depth=9, max_features=1, min_samples_split=5;, score=0.748 total time=   0.0s\n",
      "[CV 4/5] END criterion=log_loss, max_depth=9, max_features=1, min_samples_split=5;, score=0.737 total time=   0.0s\n",
      "[CV 2/5] END criterion=log_loss, max_depth=9, max_features=1, min_samples_split=10;, score=0.752 total time=   0.0s\n",
      "[CV 4/5] END criterion=log_loss, max_depth=9, max_features=1, min_samples_split=10;, score=0.763 total time=   0.0s\n",
      "[CV 4/5] END criterion=log_loss, max_depth=5, max_features=1, min_samples_split=2;, score=0.767 total time=   0.0s\n",
      "[CV 5/5] END criterion=log_loss, max_depth=5, max_features=1, min_samples_split=2;, score=0.820 total time=   0.0s\n",
      "[CV 1/5] END criterion=log_loss, max_depth=5, max_features=1, min_samples_split=5;, score=0.618 total time=   0.0s\n",
      "[CV 2/5] END criterion=log_loss, max_depth=5, max_features=1, min_samples_split=5;, score=0.691 total time=   0.0s\n",
      "[CV 3/5] END criterion=log_loss, max_depth=5, max_features=1, min_samples_split=5;, score=0.679 total time=   0.0s\n",
      "[CV 4/5] END criterion=log_loss, max_depth=5, max_features=1, min_samples_split=5;, score=0.714 total time=   0.0s\n",
      "[CV 1/5] END criterion=log_loss, max_depth=6, max_features=0.8, min_samples_split=10;, score=0.821 total time=   0.0s\n",
      "[CV 2/5] END criterion=log_loss, max_depth=6, max_features=0.8, min_samples_split=10;, score=0.813 total time=   0.0s\n",
      "[CV 3/5] END criterion=log_loss, max_depth=6, max_features=0.8, min_samples_split=10;, score=0.805 total time=   0.0s\n",
      "[CV 4/5] END criterion=log_loss, max_depth=6, max_features=0.8, min_samples_split=10;, score=0.779 total time=   0.0s\n",
      "[CV 5/5] END criterion=log_loss, max_depth=6, max_features=0.8, min_samples_split=10;, score=0.824 total time=   0.0s\n",
      "[CV 1/5] END criterion=log_loss, max_depth=6, max_features=1, min_samples_split=2;, score=0.809 total time=   0.0s\n",
      "[CV 2/5] END criterion=log_loss, max_depth=6, max_features=1, min_samples_split=2;, score=0.817 total time=   0.0s\n",
      "[CV 3/5] END criterion=log_loss, max_depth=6, max_features=1, min_samples_split=2;, score=0.737 total time=   0.0s\n",
      "[CV 4/5] END criterion=log_loss, max_depth=6, max_features=1, min_samples_split=2;, score=0.676 total time=   0.0s\n",
      "[CV 5/5] END criterion=log_loss, max_depth=6, max_features=1, min_samples_split=2;, score=0.693 total time=   0.0s\n",
      "[CV 1/5] END criterion=log_loss, max_depth=6, max_features=1, min_samples_split=5;, score=0.771 total time=   0.0s\n",
      "[CV 2/5] END criterion=log_loss, max_depth=6, max_features=1, min_samples_split=5;, score=0.813 total time=   0.0s\n",
      "[CV 3/5] END criterion=log_loss, max_depth=6, max_features=1, min_samples_split=5;, score=0.786 total time=   0.0s\n",
      "[CV 4/5] END criterion=log_loss, max_depth=6, max_features=1, min_samples_split=5;, score=0.714 total time=   0.0s\n",
      "[CV 5/5] END criterion=log_loss, max_depth=6, max_features=1, min_samples_split=5;, score=0.701 total time=   0.0s\n",
      "[CV 1/5] END criterion=log_loss, max_depth=6, max_features=1, min_samples_split=10;, score=0.748 total time=   0.0s\n",
      "[CV 4/5] END criterion=log_loss, max_depth=7, max_features=1, min_samples_split=10;, score=0.721 total time=   0.0s\n",
      "[CV 5/5] END criterion=log_loss, max_depth=7, max_features=1, min_samples_split=10;, score=0.778 total time=   0.0s\n",
      "[CV 1/5] END criterion=log_loss, max_depth=8, max_features=0.8, min_samples_split=2;, score=0.782 total time=   0.0s\n",
      "[CV 2/5] END criterion=log_loss, max_depth=8, max_features=0.8, min_samples_split=2;, score=0.794 total time=   0.0s\n",
      "[CV 3/5] END criterion=log_loss, max_depth=8, max_features=0.8, min_samples_split=2;, score=0.813 total time=   0.0s\n",
      "[CV 4/5] END criterion=log_loss, max_depth=8, max_features=0.8, min_samples_split=2;, score=0.775 total time=   0.0s\n",
      "[CV 5/5] END criterion=log_loss, max_depth=8, max_features=0.8, min_samples_split=2;, score=0.805 total time=   0.0s\n",
      "[CV 1/5] END criterion=log_loss, max_depth=8, max_features=0.8, min_samples_split=5;, score=0.809 total time=   0.0s\n",
      "[CV 2/5] END criterion=log_loss, max_depth=8, max_features=0.8, min_samples_split=5;, score=0.802 total time=   0.0s\n",
      "[CV 3/5] END criterion=log_loss, max_depth=8, max_features=0.8, min_samples_split=5;, score=0.798 total time=   0.0s\n",
      "[CV 4/5] END criterion=log_loss, max_depth=8, max_features=0.8, min_samples_split=5;, score=0.779 total time=   0.0s\n",
      "[CV 5/5] END criterion=log_loss, max_depth=8, max_features=0.8, min_samples_split=5;, score=0.843 total time=   0.0s\n",
      "[CV 1/5] END criterion=log_loss, max_depth=8, max_features=0.8, min_samples_split=10;, score=0.824 total time=   0.0s\n",
      "[CV 2/5] END criterion=log_loss, max_depth=8, max_features=0.8, min_samples_split=10;, score=0.786 total time=   0.0s\n",
      "[CV 3/5] END criterion=log_loss, max_depth=8, max_features=0.8, min_samples_split=10;, score=0.794 total time=   0.0s\n",
      "[CV 4/5] END criterion=log_loss, max_depth=8, max_features=0.8, min_samples_split=10;, score=0.786 total time=   0.0s\n",
      "[CV 3/5] END criterion=log_loss, max_depth=9, max_features=0.8, min_samples_split=10;, score=0.802 total time=   0.0s\n",
      "[CV 1/5] END criterion=log_loss, max_depth=9, max_features=1, min_samples_split=2;, score=0.767 total time=   0.0s\n",
      "[CV 2/5] END criterion=log_loss, max_depth=9, max_features=1, min_samples_split=2;, score=0.752 total time=   0.0s\n",
      "[CV 5/5] END criterion=log_loss, max_depth=9, max_features=1, min_samples_split=2;, score=0.759 total time=   0.0s\n",
      "[CV 5/5] END criterion=log_loss, max_depth=9, max_features=1, min_samples_split=5;, score=0.801 total time=   0.0s\n",
      "[CV 5/5] END criterion=log_loss, max_depth=9, max_features=1, min_samples_split=10;, score=0.743 total time=   0.0s\n",
      "[CV 4/5] END criterion=log_loss, max_depth=4, max_features=1, min_samples_split=2;, score=0.752 total time=   0.0s\n",
      "[CV 5/5] END criterion=log_loss, max_depth=4, max_features=1, min_samples_split=2;, score=0.617 total time=   0.0s\n",
      "[CV 1/5] END criterion=log_loss, max_depth=4, max_features=1, min_samples_split=5;, score=0.779 total time=   0.0s\n",
      "[CV 2/5] END criterion=log_loss, max_depth=4, max_features=1, min_samples_split=5;, score=0.634 total time=   0.0s\n",
      "[CV 5/5] END criterion=log_loss, max_depth=5, max_features=1, min_samples_split=5;, score=0.674 total time=   0.0s\n",
      "[CV 1/5] END criterion=log_loss, max_depth=5, max_features=1, min_samples_split=10;, score=0.729 total time=   0.0s\n",
      "[CV 2/5] END criterion=log_loss, max_depth=5, max_features=1, min_samples_split=10;, score=0.790 total time=   0.0s\n",
      "[CV 3/5] END criterion=log_loss, max_depth=5, max_features=1, min_samples_split=10;, score=0.672 total time=   0.0s\n",
      "[CV 4/5] END criterion=log_loss, max_depth=5, max_features=1, min_samples_split=10;, score=0.637 total time=   0.0s\n",
      "[CV 5/5] END criterion=log_loss, max_depth=5, max_features=1, min_samples_split=10;, score=0.812 total time=   0.0s\n",
      "[CV 1/5] END criterion=log_loss, max_depth=6, max_features=0.8, min_samples_split=2;, score=0.813 total time=   0.0s\n",
      "[CV 2/5] END criterion=log_loss, max_depth=6, max_features=0.8, min_samples_split=2;, score=0.809 total time=   0.0s\n",
      "[CV 3/5] END criterion=log_loss, max_depth=6, max_features=0.8, min_samples_split=2;, score=0.805 total time=   0.0s\n",
      "[CV 4/5] END criterion=log_loss, max_depth=6, max_features=0.8, min_samples_split=2;, score=0.767 total time=   0.0s\n",
      "[CV 5/5] END criterion=log_loss, max_depth=6, max_features=0.8, min_samples_split=2;, score=0.789 total time=   0.0s\n",
      "[CV 1/5] END criterion=log_loss, max_depth=6, max_features=0.8, min_samples_split=5;, score=0.779 total time=   0.0s\n",
      "[CV 2/5] END criterion=log_loss, max_depth=6, max_features=0.8, min_samples_split=5;, score=0.817 total time=   0.0s\n",
      "[CV 3/5] END criterion=log_loss, max_depth=6, max_features=0.8, min_samples_split=5;, score=0.813 total time=   0.0s\n",
      "[CV 4/5] END criterion=log_loss, max_depth=6, max_features=0.8, min_samples_split=5;, score=0.767 total time=   0.0s\n",
      "[CV 5/5] END criterion=log_loss, max_depth=6, max_features=0.8, min_samples_split=5;, score=0.808 total time=   0.0s\n",
      "[CV 3/5] END criterion=log_loss, max_depth=7, max_features=0.8, min_samples_split=10;, score=0.809 total time=   0.0s\n",
      "[CV 4/5] END criterion=log_loss, max_depth=7, max_features=0.8, min_samples_split=10;, score=0.798 total time=   0.0s\n",
      "[CV 5/5] END criterion=log_loss, max_depth=7, max_features=0.8, min_samples_split=10;, score=0.789 total time=   0.0s\n",
      "[CV 1/5] END criterion=log_loss, max_depth=7, max_features=1, min_samples_split=2;, score=0.794 total time=   0.0s\n",
      "[CV 2/5] END criterion=log_loss, max_depth=7, max_features=1, min_samples_split=2;, score=0.714 total time=   0.0s\n",
      "[CV 3/5] END criterion=log_loss, max_depth=7, max_features=1, min_samples_split=2;, score=0.760 total time=   0.0s\n",
      "[CV 4/5] END criterion=log_loss, max_depth=7, max_features=1, min_samples_split=2;, score=0.748 total time=   0.0s\n",
      "[CV 5/5] END criterion=log_loss, max_depth=7, max_features=1, min_samples_split=2;, score=0.713 total time=   0.0s\n",
      "[CV 1/5] END criterion=log_loss, max_depth=7, max_features=1, min_samples_split=5;, score=0.790 total time=   0.0s\n",
      "[CV 2/5] END criterion=log_loss, max_depth=7, max_features=1, min_samples_split=5;, score=0.809 total time=   0.0s\n",
      "[CV 3/5] END criterion=log_loss, max_depth=7, max_features=1, min_samples_split=5;, score=0.744 total time=   0.0s\n",
      "[CV 4/5] END criterion=log_loss, max_depth=7, max_features=1, min_samples_split=5;, score=0.721 total time=   0.0s\n",
      "[CV 5/5] END criterion=log_loss, max_depth=7, max_features=1, min_samples_split=5;, score=0.739 total time=   0.0s\n",
      "[CV 1/5] END criterion=log_loss, max_depth=7, max_features=1, min_samples_split=10;, score=0.798 total time=   0.0s\n",
      "[CV 2/5] END criterion=log_loss, max_depth=7, max_features=1, min_samples_split=10;, score=0.771 total time=   0.0s\n",
      "[CV 3/5] END criterion=log_loss, max_depth=7, max_features=1, min_samples_split=10;, score=0.737 total time=   0.0s\n",
      "[CV 1/5] END criterion=log_loss, max_depth=9, max_features=0.8, min_samples_split=2;, score=0.809 total time=   0.0s\n",
      "[CV 2/5] END criterion=log_loss, max_depth=9, max_features=0.8, min_samples_split=2;, score=0.782 total time=   0.0s\n",
      "[CV 3/5] END criterion=log_loss, max_depth=9, max_features=0.8, min_samples_split=2;, score=0.798 total time=   0.0s\n",
      "[CV 4/5] END criterion=log_loss, max_depth=9, max_features=0.8, min_samples_split=2;, score=0.782 total time=   0.0s\n",
      "[CV 5/5] END criterion=log_loss, max_depth=9, max_features=0.8, min_samples_split=2;, score=0.782 total time=   0.0s\n",
      "[CV 1/5] END criterion=log_loss, max_depth=9, max_features=0.8, min_samples_split=5;, score=0.813 total time=   0.0s\n",
      "[CV 2/5] END criterion=log_loss, max_depth=9, max_features=0.8, min_samples_split=5;, score=0.813 total time=   0.0s\n",
      "[CV 3/5] END criterion=log_loss, max_depth=9, max_features=0.8, min_samples_split=5;, score=0.794 total time=   0.0s\n",
      "[CV 5/5] END criterion=log_loss, max_depth=9, max_features=0.8, min_samples_split=5;, score=0.831 total time=   0.0s\n",
      "[CV 2/5] END criterion=log_loss, max_depth=9, max_features=0.8, min_samples_split=10;, score=0.824 total time=   0.0s\n",
      "[CV 5/5] END criterion=log_loss, max_depth=9, max_features=0.8, min_samples_split=10;, score=0.816 total time=   0.0s\n",
      "[CV 3/5] END criterion=log_loss, max_depth=9, max_features=1, min_samples_split=2;, score=0.748 total time=   0.0s\n",
      "[CV 1/5] END criterion=log_loss, max_depth=9, max_features=1, min_samples_split=5;, score=0.779 total time=   0.0s\n",
      "[CV 3/5] END criterion=log_loss, max_depth=9, max_features=1, min_samples_split=5;, score=0.763 total time=   0.0s\n",
      "[CV 1/5] END criterion=log_loss, max_depth=9, max_features=1, min_samples_split=10;, score=0.794 total time=   0.0s\n",
      "[CV 3/5] END criterion=log_loss, max_depth=9, max_features=1, min_samples_split=10;, score=0.733 total time=   0.0s\n"
     ]
    }
   ],
   "source": [
    "from sklearn.model_selection import RandomizedSearchCV\n",
    "import numpy as np"
   ]
  },
  {
   "cell_type": "code",
   "execution_count": 207,
   "id": "f60075d0-4333-4d01-85ae-1ff8cdc8f098",
   "metadata": {},
   "outputs": [],
   "source": [
    "param_dist = {\n",
    "    \"max_depth\": list(range(3, 20)),\n",
    "    \"max_features\": list(range(1, 9)),\n",
    "    \"min_samples_leaf\": list(range(1, 30, 2)),\n",
    "    \"criterion\": [\"gini\", \"log_loss\", \"entropy\"]\n",
    "}"
   ]
  },
  {
   "cell_type": "code",
   "execution_count": 208,
   "id": "7204efb2-cbde-4f38-ba0d-6300619bfc85",
   "metadata": {},
   "outputs": [
    {
     "data": {
      "text/plain": [
       "{'max_depth': [3, 4, 5, 6, 7, 8, 9, 10, 11, 12, 13, 14, 15, 16, 17, 18, 19],\n",
       " 'max_features': [1, 2, 3, 4, 5, 6, 7, 8],\n",
       " 'min_samples_leaf': [1, 3, 5, 7, 9, 11, 13, 15, 17, 19, 21, 23, 25, 27, 29],\n",
       " 'criterion': ['gini', 'log_loss', 'entropy']}"
      ]
     },
     "execution_count": 208,
     "metadata": {},
     "output_type": "execute_result"
    }
   ],
   "source": [
    "param_dist"
   ]
  },
  {
   "cell_type": "code",
   "execution_count": 223,
   "id": "30ac7959-809d-4b91-a1aa-77956e7ef421",
   "metadata": {},
   "outputs": [],
   "source": [
    "random_search = RandomizedSearchCV(DecisionTreeClassifier(), param_distributions=param_dist,\n",
    "                                   n_iter=200, cv=5, random_state=42, return_train_score=True)"
   ]
  },
  {
   "cell_type": "code",
   "execution_count": 224,
   "id": "0054f572-e19b-4fac-992a-5ecebcb6c47f",
   "metadata": {},
   "outputs": [
    {
     "data": {
      "text/html": [
       "<style>#sk-container-id-13 {color: black;}#sk-container-id-13 pre{padding: 0;}#sk-container-id-13 div.sk-toggleable {background-color: white;}#sk-container-id-13 label.sk-toggleable__label {cursor: pointer;display: block;width: 100%;margin-bottom: 0;padding: 0.3em;box-sizing: border-box;text-align: center;}#sk-container-id-13 label.sk-toggleable__label-arrow:before {content: \"▸\";float: left;margin-right: 0.25em;color: #696969;}#sk-container-id-13 label.sk-toggleable__label-arrow:hover:before {color: black;}#sk-container-id-13 div.sk-estimator:hover label.sk-toggleable__label-arrow:before {color: black;}#sk-container-id-13 div.sk-toggleable__content {max-height: 0;max-width: 0;overflow: hidden;text-align: left;background-color: #f0f8ff;}#sk-container-id-13 div.sk-toggleable__content pre {margin: 0.2em;color: black;border-radius: 0.25em;background-color: #f0f8ff;}#sk-container-id-13 input.sk-toggleable__control:checked~div.sk-toggleable__content {max-height: 200px;max-width: 100%;overflow: auto;}#sk-container-id-13 input.sk-toggleable__control:checked~label.sk-toggleable__label-arrow:before {content: \"▾\";}#sk-container-id-13 div.sk-estimator input.sk-toggleable__control:checked~label.sk-toggleable__label {background-color: #d4ebff;}#sk-container-id-13 div.sk-label input.sk-toggleable__control:checked~label.sk-toggleable__label {background-color: #d4ebff;}#sk-container-id-13 input.sk-hidden--visually {border: 0;clip: rect(1px 1px 1px 1px);clip: rect(1px, 1px, 1px, 1px);height: 1px;margin: -1px;overflow: hidden;padding: 0;position: absolute;width: 1px;}#sk-container-id-13 div.sk-estimator {font-family: monospace;background-color: #f0f8ff;border: 1px dotted black;border-radius: 0.25em;box-sizing: border-box;margin-bottom: 0.5em;}#sk-container-id-13 div.sk-estimator:hover {background-color: #d4ebff;}#sk-container-id-13 div.sk-parallel-item::after {content: \"\";width: 100%;border-bottom: 1px solid gray;flex-grow: 1;}#sk-container-id-13 div.sk-label:hover label.sk-toggleable__label {background-color: #d4ebff;}#sk-container-id-13 div.sk-serial::before {content: \"\";position: absolute;border-left: 1px solid gray;box-sizing: border-box;top: 0;bottom: 0;left: 50%;z-index: 0;}#sk-container-id-13 div.sk-serial {display: flex;flex-direction: column;align-items: center;background-color: white;padding-right: 0.2em;padding-left: 0.2em;position: relative;}#sk-container-id-13 div.sk-item {position: relative;z-index: 1;}#sk-container-id-13 div.sk-parallel {display: flex;align-items: stretch;justify-content: center;background-color: white;position: relative;}#sk-container-id-13 div.sk-item::before, #sk-container-id-13 div.sk-parallel-item::before {content: \"\";position: absolute;border-left: 1px solid gray;box-sizing: border-box;top: 0;bottom: 0;left: 50%;z-index: -1;}#sk-container-id-13 div.sk-parallel-item {display: flex;flex-direction: column;z-index: 1;position: relative;background-color: white;}#sk-container-id-13 div.sk-parallel-item:first-child::after {align-self: flex-end;width: 50%;}#sk-container-id-13 div.sk-parallel-item:last-child::after {align-self: flex-start;width: 50%;}#sk-container-id-13 div.sk-parallel-item:only-child::after {width: 0;}#sk-container-id-13 div.sk-dashed-wrapped {border: 1px dashed gray;margin: 0 0.4em 0.5em 0.4em;box-sizing: border-box;padding-bottom: 0.4em;background-color: white;}#sk-container-id-13 div.sk-label label {font-family: monospace;font-weight: bold;display: inline-block;line-height: 1.2em;}#sk-container-id-13 div.sk-label-container {text-align: center;}#sk-container-id-13 div.sk-container {/* jupyter's `normalize.less` sets `[hidden] { display: none; }` but bootstrap.min.css set `[hidden] { display: none !important; }` so we also need the `!important` here to be able to override the default hidden behavior on the sphinx rendered scikit-learn.org. See: https://github.com/scikit-learn/scikit-learn/issues/21755 */display: inline-block !important;position: relative;}#sk-container-id-13 div.sk-text-repr-fallback {display: none;}</style><div id=\"sk-container-id-13\" class=\"sk-top-container\"><div class=\"sk-text-repr-fallback\"><pre>RandomizedSearchCV(cv=5, estimator=DecisionTreeClassifier(), n_iter=200,\n",
       "                   param_distributions={&#x27;criterion&#x27;: [&#x27;gini&#x27;, &#x27;log_loss&#x27;,\n",
       "                                                      &#x27;entropy&#x27;],\n",
       "                                        &#x27;max_depth&#x27;: [3, 4, 5, 6, 7, 8, 9, 10,\n",
       "                                                      11, 12, 13, 14, 15, 16,\n",
       "                                                      17, 18, 19],\n",
       "                                        &#x27;max_features&#x27;: [1, 2, 3, 4, 5, 6, 7,\n",
       "                                                         8],\n",
       "                                        &#x27;min_samples_leaf&#x27;: [1, 3, 5, 7, 9, 11,\n",
       "                                                             13, 15, 17, 19, 21,\n",
       "                                                             23, 25, 27, 29]},\n",
       "                   random_state=42, return_train_score=True)</pre><b>In a Jupyter environment, please rerun this cell to show the HTML representation or trust the notebook. <br />On GitHub, the HTML representation is unable to render, please try loading this page with nbviewer.org.</b></div><div class=\"sk-container\" hidden><div class=\"sk-item sk-dashed-wrapped\"><div class=\"sk-label-container\"><div class=\"sk-label sk-toggleable\"><input class=\"sk-toggleable__control sk-hidden--visually\" id=\"sk-estimator-id-29\" type=\"checkbox\" ><label for=\"sk-estimator-id-29\" class=\"sk-toggleable__label sk-toggleable__label-arrow\">RandomizedSearchCV</label><div class=\"sk-toggleable__content\"><pre>RandomizedSearchCV(cv=5, estimator=DecisionTreeClassifier(), n_iter=200,\n",
       "                   param_distributions={&#x27;criterion&#x27;: [&#x27;gini&#x27;, &#x27;log_loss&#x27;,\n",
       "                                                      &#x27;entropy&#x27;],\n",
       "                                        &#x27;max_depth&#x27;: [3, 4, 5, 6, 7, 8, 9, 10,\n",
       "                                                      11, 12, 13, 14, 15, 16,\n",
       "                                                      17, 18, 19],\n",
       "                                        &#x27;max_features&#x27;: [1, 2, 3, 4, 5, 6, 7,\n",
       "                                                         8],\n",
       "                                        &#x27;min_samples_leaf&#x27;: [1, 3, 5, 7, 9, 11,\n",
       "                                                             13, 15, 17, 19, 21,\n",
       "                                                             23, 25, 27, 29]},\n",
       "                   random_state=42, return_train_score=True)</pre></div></div></div><div class=\"sk-parallel\"><div class=\"sk-parallel-item\"><div class=\"sk-item\"><div class=\"sk-label-container\"><div class=\"sk-label sk-toggleable\"><input class=\"sk-toggleable__control sk-hidden--visually\" id=\"sk-estimator-id-30\" type=\"checkbox\" ><label for=\"sk-estimator-id-30\" class=\"sk-toggleable__label sk-toggleable__label-arrow\">estimator: DecisionTreeClassifier</label><div class=\"sk-toggleable__content\"><pre>DecisionTreeClassifier()</pre></div></div></div><div class=\"sk-serial\"><div class=\"sk-item\"><div class=\"sk-estimator sk-toggleable\"><input class=\"sk-toggleable__control sk-hidden--visually\" id=\"sk-estimator-id-31\" type=\"checkbox\" ><label for=\"sk-estimator-id-31\" class=\"sk-toggleable__label sk-toggleable__label-arrow\">DecisionTreeClassifier</label><div class=\"sk-toggleable__content\"><pre>DecisionTreeClassifier()</pre></div></div></div></div></div></div></div></div></div></div>"
      ],
      "text/plain": [
       "RandomizedSearchCV(cv=5, estimator=DecisionTreeClassifier(), n_iter=200,\n",
       "                   param_distributions={'criterion': ['gini', 'log_loss',\n",
       "                                                      'entropy'],\n",
       "                                        'max_depth': [3, 4, 5, 6, 7, 8, 9, 10,\n",
       "                                                      11, 12, 13, 14, 15, 16,\n",
       "                                                      17, 18, 19],\n",
       "                                        'max_features': [1, 2, 3, 4, 5, 6, 7,\n",
       "                                                         8],\n",
       "                                        'min_samples_leaf': [1, 3, 5, 7, 9, 11,\n",
       "                                                             13, 15, 17, 19, 21,\n",
       "                                                             23, 25, 27, 29]},\n",
       "                   random_state=42, return_train_score=True)"
      ]
     },
     "execution_count": 224,
     "metadata": {},
     "output_type": "execute_result"
    }
   ],
   "source": [
    "random_search.fit(X, y)"
   ]
  },
  {
   "cell_type": "code",
   "execution_count": 225,
   "id": "1755d872-60ea-4e89-8871-f5619bc5dfd6",
   "metadata": {},
   "outputs": [
    {
     "data": {
      "text/plain": [
       "{'min_samples_leaf': 9,\n",
       " 'max_features': 5,\n",
       " 'max_depth': 10,\n",
       " 'criterion': 'log_loss'}"
      ]
     },
     "execution_count": 225,
     "metadata": {},
     "output_type": "execute_result"
    }
   ],
   "source": [
    "random_search.best_params_"
   ]
  },
  {
   "cell_type": "code",
   "execution_count": 226,
   "id": "c9f07551-10b9-44cf-ae33-de22f64a5057",
   "metadata": {},
   "outputs": [
    {
     "data": {
      "text/html": [
       "<style>#sk-container-id-14 {color: black;}#sk-container-id-14 pre{padding: 0;}#sk-container-id-14 div.sk-toggleable {background-color: white;}#sk-container-id-14 label.sk-toggleable__label {cursor: pointer;display: block;width: 100%;margin-bottom: 0;padding: 0.3em;box-sizing: border-box;text-align: center;}#sk-container-id-14 label.sk-toggleable__label-arrow:before {content: \"▸\";float: left;margin-right: 0.25em;color: #696969;}#sk-container-id-14 label.sk-toggleable__label-arrow:hover:before {color: black;}#sk-container-id-14 div.sk-estimator:hover label.sk-toggleable__label-arrow:before {color: black;}#sk-container-id-14 div.sk-toggleable__content {max-height: 0;max-width: 0;overflow: hidden;text-align: left;background-color: #f0f8ff;}#sk-container-id-14 div.sk-toggleable__content pre {margin: 0.2em;color: black;border-radius: 0.25em;background-color: #f0f8ff;}#sk-container-id-14 input.sk-toggleable__control:checked~div.sk-toggleable__content {max-height: 200px;max-width: 100%;overflow: auto;}#sk-container-id-14 input.sk-toggleable__control:checked~label.sk-toggleable__label-arrow:before {content: \"▾\";}#sk-container-id-14 div.sk-estimator input.sk-toggleable__control:checked~label.sk-toggleable__label {background-color: #d4ebff;}#sk-container-id-14 div.sk-label input.sk-toggleable__control:checked~label.sk-toggleable__label {background-color: #d4ebff;}#sk-container-id-14 input.sk-hidden--visually {border: 0;clip: rect(1px 1px 1px 1px);clip: rect(1px, 1px, 1px, 1px);height: 1px;margin: -1px;overflow: hidden;padding: 0;position: absolute;width: 1px;}#sk-container-id-14 div.sk-estimator {font-family: monospace;background-color: #f0f8ff;border: 1px dotted black;border-radius: 0.25em;box-sizing: border-box;margin-bottom: 0.5em;}#sk-container-id-14 div.sk-estimator:hover {background-color: #d4ebff;}#sk-container-id-14 div.sk-parallel-item::after {content: \"\";width: 100%;border-bottom: 1px solid gray;flex-grow: 1;}#sk-container-id-14 div.sk-label:hover label.sk-toggleable__label {background-color: #d4ebff;}#sk-container-id-14 div.sk-serial::before {content: \"\";position: absolute;border-left: 1px solid gray;box-sizing: border-box;top: 0;bottom: 0;left: 50%;z-index: 0;}#sk-container-id-14 div.sk-serial {display: flex;flex-direction: column;align-items: center;background-color: white;padding-right: 0.2em;padding-left: 0.2em;position: relative;}#sk-container-id-14 div.sk-item {position: relative;z-index: 1;}#sk-container-id-14 div.sk-parallel {display: flex;align-items: stretch;justify-content: center;background-color: white;position: relative;}#sk-container-id-14 div.sk-item::before, #sk-container-id-14 div.sk-parallel-item::before {content: \"\";position: absolute;border-left: 1px solid gray;box-sizing: border-box;top: 0;bottom: 0;left: 50%;z-index: -1;}#sk-container-id-14 div.sk-parallel-item {display: flex;flex-direction: column;z-index: 1;position: relative;background-color: white;}#sk-container-id-14 div.sk-parallel-item:first-child::after {align-self: flex-end;width: 50%;}#sk-container-id-14 div.sk-parallel-item:last-child::after {align-self: flex-start;width: 50%;}#sk-container-id-14 div.sk-parallel-item:only-child::after {width: 0;}#sk-container-id-14 div.sk-dashed-wrapped {border: 1px dashed gray;margin: 0 0.4em 0.5em 0.4em;box-sizing: border-box;padding-bottom: 0.4em;background-color: white;}#sk-container-id-14 div.sk-label label {font-family: monospace;font-weight: bold;display: inline-block;line-height: 1.2em;}#sk-container-id-14 div.sk-label-container {text-align: center;}#sk-container-id-14 div.sk-container {/* jupyter's `normalize.less` sets `[hidden] { display: none; }` but bootstrap.min.css set `[hidden] { display: none !important; }` so we also need the `!important` here to be able to override the default hidden behavior on the sphinx rendered scikit-learn.org. See: https://github.com/scikit-learn/scikit-learn/issues/21755 */display: inline-block !important;position: relative;}#sk-container-id-14 div.sk-text-repr-fallback {display: none;}</style><div id=\"sk-container-id-14\" class=\"sk-top-container\"><div class=\"sk-text-repr-fallback\"><pre>DecisionTreeClassifier(criterion=&#x27;log_loss&#x27;, max_depth=10, max_features=5,\n",
       "                       min_samples_leaf=9)</pre><b>In a Jupyter environment, please rerun this cell to show the HTML representation or trust the notebook. <br />On GitHub, the HTML representation is unable to render, please try loading this page with nbviewer.org.</b></div><div class=\"sk-container\" hidden><div class=\"sk-item\"><div class=\"sk-estimator sk-toggleable\"><input class=\"sk-toggleable__control sk-hidden--visually\" id=\"sk-estimator-id-32\" type=\"checkbox\" checked><label for=\"sk-estimator-id-32\" class=\"sk-toggleable__label sk-toggleable__label-arrow\">DecisionTreeClassifier</label><div class=\"sk-toggleable__content\"><pre>DecisionTreeClassifier(criterion=&#x27;log_loss&#x27;, max_depth=10, max_features=5,\n",
       "                       min_samples_leaf=9)</pre></div></div></div></div></div>"
      ],
      "text/plain": [
       "DecisionTreeClassifier(criterion='log_loss', max_depth=10, max_features=5,\n",
       "                       min_samples_leaf=9)"
      ]
     },
     "execution_count": 226,
     "metadata": {},
     "output_type": "execute_result"
    }
   ],
   "source": [
    "random_search.best_estimator_"
   ]
  },
  {
   "cell_type": "code",
   "execution_count": 227,
   "id": "f48c7a95-0859-4f42-a7ef-ff7e712a4514",
   "metadata": {},
   "outputs": [],
   "source": [
    "cv_results_randomsearch = pd.DataFrame(random_search.cv_results_)[['params', 'mean_test_score', 'mean_train_score']]"
   ]
  },
  {
   "cell_type": "code",
   "execution_count": 228,
   "id": "a78517bd-e571-4ab3-b7ed-6a35c4ee05a0",
   "metadata": {},
   "outputs": [
    {
     "data": {
      "text/html": [
       "<div>\n",
       "<style scoped>\n",
       "    .dataframe tbody tr th:only-of-type {\n",
       "        vertical-align: middle;\n",
       "    }\n",
       "\n",
       "    .dataframe tbody tr th {\n",
       "        vertical-align: top;\n",
       "    }\n",
       "\n",
       "    .dataframe thead th {\n",
       "        text-align: right;\n",
       "    }\n",
       "</style>\n",
       "<table border=\"1\" class=\"dataframe\">\n",
       "  <thead>\n",
       "    <tr style=\"text-align: right;\">\n",
       "      <th></th>\n",
       "      <th>params</th>\n",
       "      <th>mean_test_score</th>\n",
       "      <th>mean_train_score</th>\n",
       "    </tr>\n",
       "  </thead>\n",
       "  <tbody>\n",
       "    <tr>\n",
       "      <th>80</th>\n",
       "      <td>{'min_samples_leaf': 7, 'max_features': 1, 'ma...</td>\n",
       "      <td>0.691410</td>\n",
       "      <td>0.682385</td>\n",
       "    </tr>\n",
       "    <tr>\n",
       "      <th>104</th>\n",
       "      <td>{'min_samples_leaf': 27, 'max_features': 1, 'm...</td>\n",
       "      <td>0.701263</td>\n",
       "      <td>0.715624</td>\n",
       "    </tr>\n",
       "    <tr>\n",
       "      <th>178</th>\n",
       "      <td>{'min_samples_leaf': 25, 'max_features': 1, 'm...</td>\n",
       "      <td>0.708090</td>\n",
       "      <td>0.744477</td>\n",
       "    </tr>\n",
       "    <tr>\n",
       "      <th>172</th>\n",
       "      <td>{'min_samples_leaf': 5, 'max_features': 1, 'ma...</td>\n",
       "      <td>0.711237</td>\n",
       "      <td>0.721164</td>\n",
       "    </tr>\n",
       "    <tr>\n",
       "      <th>45</th>\n",
       "      <td>{'min_samples_leaf': 29, 'max_features': 1, 'm...</td>\n",
       "      <td>0.715007</td>\n",
       "      <td>0.738932</td>\n",
       "    </tr>\n",
       "  </tbody>\n",
       "</table>\n",
       "</div>"
      ],
      "text/plain": [
       "                                                params  mean_test_score  \\\n",
       "80   {'min_samples_leaf': 7, 'max_features': 1, 'ma...         0.691410   \n",
       "104  {'min_samples_leaf': 27, 'max_features': 1, 'm...         0.701263   \n",
       "178  {'min_samples_leaf': 25, 'max_features': 1, 'm...         0.708090   \n",
       "172  {'min_samples_leaf': 5, 'max_features': 1, 'ma...         0.711237   \n",
       "45   {'min_samples_leaf': 29, 'max_features': 1, 'm...         0.715007   \n",
       "\n",
       "     mean_train_score  \n",
       "80           0.682385  \n",
       "104          0.715624  \n",
       "178          0.744477  \n",
       "172          0.721164  \n",
       "45           0.738932  "
      ]
     },
     "execution_count": 228,
     "metadata": {},
     "output_type": "execute_result"
    }
   ],
   "source": [
    "cv_results_randomsearch.sort_values(\"mean_test_score\").head()"
   ]
  },
  {
   "cell_type": "markdown",
   "id": "277b81d0-c2bc-4e80-a178-c5546c994859",
   "metadata": {},
   "source": [
    "<img width=600 src=\"https://miro.medium.com/v2/resize:fit:1004/0*yDmmJmvRowl0cSN8.png\">"
   ]
  }
 ],
 "metadata": {
  "kernelspec": {
   "display_name": "Python 3 (ipykernel)",
   "language": "python",
   "name": "python3"
  },
  "language_info": {
   "codemirror_mode": {
    "name": "ipython",
    "version": 3
   },
   "file_extension": ".py",
   "mimetype": "text/x-python",
   "name": "python",
   "nbconvert_exporter": "python",
   "pygments_lexer": "ipython3",
   "version": "3.10.12"
  },
  "toc": {
   "base_numbering": 1,
   "nav_menu": {},
   "number_sections": true,
   "sideBar": true,
   "skip_h1_title": true,
   "title_cell": "Table of Contents",
   "title_sidebar": "Contents",
   "toc_cell": true,
   "toc_position": {},
   "toc_section_display": true,
   "toc_window_display": true
  },
  "varInspector": {
   "cols": {
    "lenName": 16,
    "lenType": 16,
    "lenVar": 40
   },
   "kernels_config": {
    "python": {
     "delete_cmd_postfix": "",
     "delete_cmd_prefix": "del ",
     "library": "var_list.py",
     "varRefreshCmd": "print(var_dic_list())"
    },
    "r": {
     "delete_cmd_postfix": ") ",
     "delete_cmd_prefix": "rm(",
     "library": "var_list.r",
     "varRefreshCmd": "cat(var_dic_list()) "
    }
   },
   "types_to_exclude": [
    "module",
    "function",
    "builtin_function_or_method",
    "instance",
    "_Feature"
   ],
   "window_display": false
  }
 },
 "nbformat": 4,
 "nbformat_minor": 5
}
